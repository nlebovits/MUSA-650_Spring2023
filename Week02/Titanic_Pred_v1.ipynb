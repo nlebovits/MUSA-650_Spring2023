{
 "cells": [
  {
   "cell_type": "markdown",
   "id": "b4fbf4da",
   "metadata": {
    "papermill": {
     "duration": 0.073094,
     "end_time": "2022-01-23T20:23:35.216134",
     "exception": false,
     "start_time": "2022-01-23T20:23:35.143040",
     "status": "completed"
    },
    "tags": []
   },
   "source": [
    "## Kaggle Titanic Dataset - Prediction of Survival"
   ]
  },
  {
   "cell_type": "code",
   "execution_count": 4,
   "id": "2c390dde",
   "metadata": {
    "execution": {
     "iopub.execute_input": "2022-01-23T20:23:35.368467Z",
     "iopub.status.busy": "2022-01-23T20:23:35.367848Z",
     "iopub.status.idle": "2022-01-23T20:23:36.318496Z",
     "shell.execute_reply": "2022-01-23T20:23:36.318937Z",
     "shell.execute_reply.started": "2022-01-23T20:21:24.528617Z"
    },
    "papermill": {
     "duration": 1.033407,
     "end_time": "2022-01-23T20:23:36.319267",
     "exception": false,
     "start_time": "2022-01-23T20:23:35.285860",
     "status": "completed"
    },
    "tags": []
   },
   "outputs": [],
   "source": [
    "import pandas as pd\n",
    "import numpy as np\n",
    "import matplotlib.pyplot as plt\n",
    "import seaborn as sns\n",
    "%matplotlib inline\n",
    "\n",
    "# set working directory to the location of the data files\n",
    "import os\n",
    "os.chdir('C:/Users/Nissim/Desktop/Spring 2023/Remote Sensing/MUSA-650_Spring2023/Week02/Data')"
   ]
  },
  {
   "cell_type": "markdown",
   "id": "7bfd8b6e",
   "metadata": {
    "papermill": {
     "duration": 0.067688,
     "end_time": "2022-01-23T20:23:36.453753",
     "exception": false,
     "start_time": "2022-01-23T20:23:36.386065",
     "status": "completed"
    },
    "tags": []
   },
   "source": [
    "### Read Data"
   ]
  },
  {
   "cell_type": "code",
   "execution_count": 5,
   "id": "1cabca22",
   "metadata": {
    "execution": {
     "iopub.execute_input": "2022-01-23T20:23:36.592363Z",
     "iopub.status.busy": "2022-01-23T20:23:36.591709Z",
     "iopub.status.idle": "2022-01-23T20:23:36.628567Z",
     "shell.execute_reply": "2022-01-23T20:23:36.628091Z",
     "shell.execute_reply.started": "2022-01-23T20:21:24.537862Z"
    },
    "papermill": {
     "duration": 0.108169,
     "end_time": "2022-01-23T20:23:36.628689",
     "exception": false,
     "start_time": "2022-01-23T20:23:36.520520",
     "status": "completed"
    },
    "tags": []
   },
   "outputs": [
    {
     "data": {
      "text/html": [
       "<div>\n",
       "<style scoped>\n",
       "    .dataframe tbody tr th:only-of-type {\n",
       "        vertical-align: middle;\n",
       "    }\n",
       "\n",
       "    .dataframe tbody tr th {\n",
       "        vertical-align: top;\n",
       "    }\n",
       "\n",
       "    .dataframe thead th {\n",
       "        text-align: right;\n",
       "    }\n",
       "</style>\n",
       "<table border=\"1\" class=\"dataframe\">\n",
       "  <thead>\n",
       "    <tr style=\"text-align: right;\">\n",
       "      <th></th>\n",
       "      <th>PassengerId</th>\n",
       "      <th>Survived</th>\n",
       "      <th>Pclass</th>\n",
       "      <th>Name</th>\n",
       "      <th>Sex</th>\n",
       "      <th>Age</th>\n",
       "      <th>SibSp</th>\n",
       "      <th>Parch</th>\n",
       "      <th>Ticket</th>\n",
       "      <th>Fare</th>\n",
       "      <th>Cabin</th>\n",
       "      <th>Embarked</th>\n",
       "    </tr>\n",
       "  </thead>\n",
       "  <tbody>\n",
       "    <tr>\n",
       "      <th>0</th>\n",
       "      <td>1</td>\n",
       "      <td>0</td>\n",
       "      <td>3</td>\n",
       "      <td>Braund, Mr. Owen Harris</td>\n",
       "      <td>male</td>\n",
       "      <td>22.0</td>\n",
       "      <td>1</td>\n",
       "      <td>0</td>\n",
       "      <td>A/5 21171</td>\n",
       "      <td>7.2500</td>\n",
       "      <td>NaN</td>\n",
       "      <td>S</td>\n",
       "    </tr>\n",
       "    <tr>\n",
       "      <th>1</th>\n",
       "      <td>2</td>\n",
       "      <td>1</td>\n",
       "      <td>1</td>\n",
       "      <td>Cumings, Mrs. John Bradley (Florence Briggs Th...</td>\n",
       "      <td>female</td>\n",
       "      <td>38.0</td>\n",
       "      <td>1</td>\n",
       "      <td>0</td>\n",
       "      <td>PC 17599</td>\n",
       "      <td>71.2833</td>\n",
       "      <td>C85</td>\n",
       "      <td>C</td>\n",
       "    </tr>\n",
       "    <tr>\n",
       "      <th>2</th>\n",
       "      <td>3</td>\n",
       "      <td>1</td>\n",
       "      <td>3</td>\n",
       "      <td>Heikkinen, Miss. Laina</td>\n",
       "      <td>female</td>\n",
       "      <td>26.0</td>\n",
       "      <td>0</td>\n",
       "      <td>0</td>\n",
       "      <td>STON/O2. 3101282</td>\n",
       "      <td>7.9250</td>\n",
       "      <td>NaN</td>\n",
       "      <td>S</td>\n",
       "    </tr>\n",
       "    <tr>\n",
       "      <th>3</th>\n",
       "      <td>4</td>\n",
       "      <td>1</td>\n",
       "      <td>1</td>\n",
       "      <td>Futrelle, Mrs. Jacques Heath (Lily May Peel)</td>\n",
       "      <td>female</td>\n",
       "      <td>35.0</td>\n",
       "      <td>1</td>\n",
       "      <td>0</td>\n",
       "      <td>113803</td>\n",
       "      <td>53.1000</td>\n",
       "      <td>C123</td>\n",
       "      <td>S</td>\n",
       "    </tr>\n",
       "    <tr>\n",
       "      <th>4</th>\n",
       "      <td>5</td>\n",
       "      <td>0</td>\n",
       "      <td>3</td>\n",
       "      <td>Allen, Mr. William Henry</td>\n",
       "      <td>male</td>\n",
       "      <td>35.0</td>\n",
       "      <td>0</td>\n",
       "      <td>0</td>\n",
       "      <td>373450</td>\n",
       "      <td>8.0500</td>\n",
       "      <td>NaN</td>\n",
       "      <td>S</td>\n",
       "    </tr>\n",
       "  </tbody>\n",
       "</table>\n",
       "</div>"
      ],
      "text/plain": [
       "   PassengerId  Survived  Pclass  \\\n",
       "0            1         0       3   \n",
       "1            2         1       1   \n",
       "2            3         1       3   \n",
       "3            4         1       1   \n",
       "4            5         0       3   \n",
       "\n",
       "                                                Name     Sex   Age  SibSp  \\\n",
       "0                            Braund, Mr. Owen Harris    male  22.0      1   \n",
       "1  Cumings, Mrs. John Bradley (Florence Briggs Th...  female  38.0      1   \n",
       "2                             Heikkinen, Miss. Laina  female  26.0      0   \n",
       "3       Futrelle, Mrs. Jacques Heath (Lily May Peel)  female  35.0      1   \n",
       "4                           Allen, Mr. William Henry    male  35.0      0   \n",
       "\n",
       "   Parch            Ticket     Fare Cabin Embarked  \n",
       "0      0         A/5 21171   7.2500   NaN        S  \n",
       "1      0          PC 17599  71.2833   C85        C  \n",
       "2      0  STON/O2. 3101282   7.9250   NaN        S  \n",
       "3      0            113803  53.1000  C123        S  \n",
       "4      0            373450   8.0500   NaN        S  "
      ]
     },
     "execution_count": 5,
     "metadata": {},
     "output_type": "execute_result"
    }
   ],
   "source": [
    "dfTR = pd.read_csv('./train.csv')\n",
    "dfTR.head()"
   ]
  },
  {
   "cell_type": "code",
   "execution_count": 6,
   "id": "76688ea8",
   "metadata": {
    "execution": {
     "iopub.execute_input": "2022-01-23T20:23:36.783711Z",
     "iopub.status.busy": "2022-01-23T20:23:36.782953Z",
     "iopub.status.idle": "2022-01-23T20:23:36.787836Z",
     "shell.execute_reply": "2022-01-23T20:23:36.787060Z",
     "shell.execute_reply.started": "2022-01-23T20:21:24.589046Z"
    },
    "papermill": {
     "duration": 0.091923,
     "end_time": "2022-01-23T20:23:36.788030",
     "exception": false,
     "start_time": "2022-01-23T20:23:36.696107",
     "status": "completed"
    },
    "tags": []
   },
   "outputs": [
    {
     "name": "stdout",
     "output_type": "stream",
     "text": [
      "<class 'pandas.core.frame.DataFrame'>\n",
      "RangeIndex: 891 entries, 0 to 890\n",
      "Data columns (total 12 columns):\n",
      " #   Column       Non-Null Count  Dtype  \n",
      "---  ------       --------------  -----  \n",
      " 0   PassengerId  891 non-null    int64  \n",
      " 1   Survived     891 non-null    int64  \n",
      " 2   Pclass       891 non-null    int64  \n",
      " 3   Name         891 non-null    object \n",
      " 4   Sex          891 non-null    object \n",
      " 5   Age          714 non-null    float64\n",
      " 6   SibSp        891 non-null    int64  \n",
      " 7   Parch        891 non-null    int64  \n",
      " 8   Ticket       891 non-null    object \n",
      " 9   Fare         891 non-null    float64\n",
      " 10  Cabin        204 non-null    object \n",
      " 11  Embarked     889 non-null    object \n",
      "dtypes: float64(2), int64(5), object(5)\n",
      "memory usage: 83.7+ KB\n"
     ]
    }
   ],
   "source": [
    "## Show dataframe info\n",
    "dfTR.info()"
   ]
  },
  {
   "cell_type": "code",
   "execution_count": 7,
   "id": "1465df14",
   "metadata": {
    "execution": {
     "iopub.execute_input": "2022-01-23T20:23:36.934356Z",
     "iopub.status.busy": "2022-01-23T20:23:36.933727Z",
     "iopub.status.idle": "2022-01-23T20:23:36.957917Z",
     "shell.execute_reply": "2022-01-23T20:23:36.958453Z",
     "shell.execute_reply.started": "2022-01-23T20:21:24.614343Z"
    },
    "papermill": {
     "duration": 0.101529,
     "end_time": "2022-01-23T20:23:36.958616",
     "exception": false,
     "start_time": "2022-01-23T20:23:36.857087",
     "status": "completed"
    },
    "tags": []
   },
   "outputs": [
    {
     "data": {
      "text/html": [
       "<div>\n",
       "<style scoped>\n",
       "    .dataframe tbody tr th:only-of-type {\n",
       "        vertical-align: middle;\n",
       "    }\n",
       "\n",
       "    .dataframe tbody tr th {\n",
       "        vertical-align: top;\n",
       "    }\n",
       "\n",
       "    .dataframe thead th {\n",
       "        text-align: right;\n",
       "    }\n",
       "</style>\n",
       "<table border=\"1\" class=\"dataframe\">\n",
       "  <thead>\n",
       "    <tr style=\"text-align: right;\">\n",
       "      <th></th>\n",
       "      <th>PassengerId</th>\n",
       "      <th>Survived</th>\n",
       "      <th>Pclass</th>\n",
       "      <th>Age</th>\n",
       "      <th>SibSp</th>\n",
       "      <th>Parch</th>\n",
       "      <th>Fare</th>\n",
       "    </tr>\n",
       "  </thead>\n",
       "  <tbody>\n",
       "    <tr>\n",
       "      <th>count</th>\n",
       "      <td>891.000000</td>\n",
       "      <td>891.000000</td>\n",
       "      <td>891.000000</td>\n",
       "      <td>714.000000</td>\n",
       "      <td>891.000000</td>\n",
       "      <td>891.000000</td>\n",
       "      <td>891.000000</td>\n",
       "    </tr>\n",
       "    <tr>\n",
       "      <th>mean</th>\n",
       "      <td>446.000000</td>\n",
       "      <td>0.383838</td>\n",
       "      <td>2.308642</td>\n",
       "      <td>29.699118</td>\n",
       "      <td>0.523008</td>\n",
       "      <td>0.381594</td>\n",
       "      <td>32.204208</td>\n",
       "    </tr>\n",
       "    <tr>\n",
       "      <th>std</th>\n",
       "      <td>257.353842</td>\n",
       "      <td>0.486592</td>\n",
       "      <td>0.836071</td>\n",
       "      <td>14.526497</td>\n",
       "      <td>1.102743</td>\n",
       "      <td>0.806057</td>\n",
       "      <td>49.693429</td>\n",
       "    </tr>\n",
       "    <tr>\n",
       "      <th>min</th>\n",
       "      <td>1.000000</td>\n",
       "      <td>0.000000</td>\n",
       "      <td>1.000000</td>\n",
       "      <td>0.420000</td>\n",
       "      <td>0.000000</td>\n",
       "      <td>0.000000</td>\n",
       "      <td>0.000000</td>\n",
       "    </tr>\n",
       "    <tr>\n",
       "      <th>25%</th>\n",
       "      <td>223.500000</td>\n",
       "      <td>0.000000</td>\n",
       "      <td>2.000000</td>\n",
       "      <td>20.125000</td>\n",
       "      <td>0.000000</td>\n",
       "      <td>0.000000</td>\n",
       "      <td>7.910400</td>\n",
       "    </tr>\n",
       "    <tr>\n",
       "      <th>50%</th>\n",
       "      <td>446.000000</td>\n",
       "      <td>0.000000</td>\n",
       "      <td>3.000000</td>\n",
       "      <td>28.000000</td>\n",
       "      <td>0.000000</td>\n",
       "      <td>0.000000</td>\n",
       "      <td>14.454200</td>\n",
       "    </tr>\n",
       "    <tr>\n",
       "      <th>75%</th>\n",
       "      <td>668.500000</td>\n",
       "      <td>1.000000</td>\n",
       "      <td>3.000000</td>\n",
       "      <td>38.000000</td>\n",
       "      <td>1.000000</td>\n",
       "      <td>0.000000</td>\n",
       "      <td>31.000000</td>\n",
       "    </tr>\n",
       "    <tr>\n",
       "      <th>max</th>\n",
       "      <td>891.000000</td>\n",
       "      <td>1.000000</td>\n",
       "      <td>3.000000</td>\n",
       "      <td>80.000000</td>\n",
       "      <td>8.000000</td>\n",
       "      <td>6.000000</td>\n",
       "      <td>512.329200</td>\n",
       "    </tr>\n",
       "  </tbody>\n",
       "</table>\n",
       "</div>"
      ],
      "text/plain": [
       "       PassengerId    Survived      Pclass         Age       SibSp  \\\n",
       "count   891.000000  891.000000  891.000000  714.000000  891.000000   \n",
       "mean    446.000000    0.383838    2.308642   29.699118    0.523008   \n",
       "std     257.353842    0.486592    0.836071   14.526497    1.102743   \n",
       "min       1.000000    0.000000    1.000000    0.420000    0.000000   \n",
       "25%     223.500000    0.000000    2.000000   20.125000    0.000000   \n",
       "50%     446.000000    0.000000    3.000000   28.000000    0.000000   \n",
       "75%     668.500000    1.000000    3.000000   38.000000    1.000000   \n",
       "max     891.000000    1.000000    3.000000   80.000000    8.000000   \n",
       "\n",
       "            Parch        Fare  \n",
       "count  891.000000  891.000000  \n",
       "mean     0.381594   32.204208  \n",
       "std      0.806057   49.693429  \n",
       "min      0.000000    0.000000  \n",
       "25%      0.000000    7.910400  \n",
       "50%      0.000000   14.454200  \n",
       "75%      0.000000   31.000000  \n",
       "max      6.000000  512.329200  "
      ]
     },
     "execution_count": 7,
     "metadata": {},
     "output_type": "execute_result"
    }
   ],
   "source": [
    "## Show dataframe description\n",
    "dfTR.describe()"
   ]
  },
  {
   "cell_type": "markdown",
   "id": "febef6d7",
   "metadata": {
    "papermill": {
     "duration": 0.067961,
     "end_time": "2022-01-23T20:23:37.778277",
     "exception": false,
     "start_time": "2022-01-23T20:23:37.710316",
     "status": "completed"
    },
    "tags": []
   },
   "source": [
    "### Clean Data"
   ]
  },
  {
   "cell_type": "code",
   "execution_count": 10,
   "id": "1ecb5dc5",
   "metadata": {},
   "outputs": [
    {
     "data": {
      "text/plain": [
       "PassengerId      0\n",
       "Survived         0\n",
       "Pclass           0\n",
       "Name             0\n",
       "Sex              0\n",
       "Age            177\n",
       "SibSp            0\n",
       "Parch            0\n",
       "Ticket           0\n",
       "Fare             0\n",
       "Cabin          687\n",
       "Embarked         2\n",
       "dtype: int64"
      ]
     },
     "execution_count": 10,
     "metadata": {},
     "output_type": "execute_result"
    }
   ],
   "source": [
    "## Show dataframe null counts\n",
    "dfTR.isnull().sum()"
   ]
  },
  {
   "cell_type": "code",
   "execution_count": 12,
   "id": "54c9c2f0",
   "metadata": {},
   "outputs": [
    {
     "data": {
      "text/plain": [
       "Index(['PassengerId', 'Survived', 'Pclass', 'Name', 'Sex', 'Age', 'SibSp',\n",
       "       'Parch', 'Ticket', 'Fare', 'Cabin', 'Embarked'],\n",
       "      dtype='object')"
      ]
     },
     "execution_count": 12,
     "metadata": {},
     "output_type": "execute_result"
    }
   ],
   "source": [
    "dfTR.columns"
   ]
  },
  {
   "cell_type": "code",
   "execution_count": 13,
   "id": "d8071979",
   "metadata": {},
   "outputs": [
    {
     "data": {
      "text/html": [
       "<div>\n",
       "<style scoped>\n",
       "    .dataframe tbody tr th:only-of-type {\n",
       "        vertical-align: middle;\n",
       "    }\n",
       "\n",
       "    .dataframe tbody tr th {\n",
       "        vertical-align: top;\n",
       "    }\n",
       "\n",
       "    .dataframe thead th {\n",
       "        text-align: right;\n",
       "    }\n",
       "</style>\n",
       "<table border=\"1\" class=\"dataframe\">\n",
       "  <thead>\n",
       "    <tr style=\"text-align: right;\">\n",
       "      <th></th>\n",
       "      <th>PassengerId</th>\n",
       "      <th>Survived</th>\n",
       "      <th>Pclass</th>\n",
       "      <th>Name</th>\n",
       "      <th>Sex</th>\n",
       "      <th>Age</th>\n",
       "      <th>SibSp</th>\n",
       "      <th>Parch</th>\n",
       "      <th>Ticket</th>\n",
       "      <th>Fare</th>\n",
       "      <th>Cabin</th>\n",
       "      <th>Embarked</th>\n",
       "    </tr>\n",
       "  </thead>\n",
       "  <tbody>\n",
       "    <tr>\n",
       "      <th>0</th>\n",
       "      <td>1</td>\n",
       "      <td>0</td>\n",
       "      <td>3</td>\n",
       "      <td>Braund, Mr. Owen Harris</td>\n",
       "      <td>male</td>\n",
       "      <td>22.0</td>\n",
       "      <td>1</td>\n",
       "      <td>0</td>\n",
       "      <td>A/5 21171</td>\n",
       "      <td>7.2500</td>\n",
       "      <td>NaN</td>\n",
       "      <td>S</td>\n",
       "    </tr>\n",
       "    <tr>\n",
       "      <th>1</th>\n",
       "      <td>2</td>\n",
       "      <td>1</td>\n",
       "      <td>1</td>\n",
       "      <td>Cumings, Mrs. John Bradley (Florence Briggs Th...</td>\n",
       "      <td>female</td>\n",
       "      <td>38.0</td>\n",
       "      <td>1</td>\n",
       "      <td>0</td>\n",
       "      <td>PC 17599</td>\n",
       "      <td>71.2833</td>\n",
       "      <td>C85</td>\n",
       "      <td>C</td>\n",
       "    </tr>\n",
       "    <tr>\n",
       "      <th>2</th>\n",
       "      <td>3</td>\n",
       "      <td>1</td>\n",
       "      <td>3</td>\n",
       "      <td>Heikkinen, Miss. Laina</td>\n",
       "      <td>female</td>\n",
       "      <td>26.0</td>\n",
       "      <td>0</td>\n",
       "      <td>0</td>\n",
       "      <td>STON/O2. 3101282</td>\n",
       "      <td>7.9250</td>\n",
       "      <td>NaN</td>\n",
       "      <td>S</td>\n",
       "    </tr>\n",
       "    <tr>\n",
       "      <th>3</th>\n",
       "      <td>4</td>\n",
       "      <td>1</td>\n",
       "      <td>1</td>\n",
       "      <td>Futrelle, Mrs. Jacques Heath (Lily May Peel)</td>\n",
       "      <td>female</td>\n",
       "      <td>35.0</td>\n",
       "      <td>1</td>\n",
       "      <td>0</td>\n",
       "      <td>113803</td>\n",
       "      <td>53.1000</td>\n",
       "      <td>C123</td>\n",
       "      <td>S</td>\n",
       "    </tr>\n",
       "    <tr>\n",
       "      <th>4</th>\n",
       "      <td>5</td>\n",
       "      <td>0</td>\n",
       "      <td>3</td>\n",
       "      <td>Allen, Mr. William Henry</td>\n",
       "      <td>male</td>\n",
       "      <td>35.0</td>\n",
       "      <td>0</td>\n",
       "      <td>0</td>\n",
       "      <td>373450</td>\n",
       "      <td>8.0500</td>\n",
       "      <td>NaN</td>\n",
       "      <td>S</td>\n",
       "    </tr>\n",
       "  </tbody>\n",
       "</table>\n",
       "</div>"
      ],
      "text/plain": [
       "   PassengerId  Survived  Pclass  \\\n",
       "0            1         0       3   \n",
       "1            2         1       1   \n",
       "2            3         1       3   \n",
       "3            4         1       1   \n",
       "4            5         0       3   \n",
       "\n",
       "                                                Name     Sex   Age  SibSp  \\\n",
       "0                            Braund, Mr. Owen Harris    male  22.0      1   \n",
       "1  Cumings, Mrs. John Bradley (Florence Briggs Th...  female  38.0      1   \n",
       "2                             Heikkinen, Miss. Laina  female  26.0      0   \n",
       "3       Futrelle, Mrs. Jacques Heath (Lily May Peel)  female  35.0      1   \n",
       "4                           Allen, Mr. William Henry    male  35.0      0   \n",
       "\n",
       "   Parch            Ticket     Fare Cabin Embarked  \n",
       "0      0         A/5 21171   7.2500   NaN        S  \n",
       "1      0          PC 17599  71.2833   C85        C  \n",
       "2      0  STON/O2. 3101282   7.9250   NaN        S  \n",
       "3      0            113803  53.1000  C123        S  \n",
       "4      0            373450   8.0500   NaN        S  "
      ]
     },
     "execution_count": 13,
     "metadata": {},
     "output_type": "execute_result"
    }
   ],
   "source": [
    "dfTR.head()"
   ]
  },
  {
   "cell_type": "code",
   "execution_count": 14,
   "id": "ec040176",
   "metadata": {},
   "outputs": [
    {
     "data": {
      "text/html": [
       "<div>\n",
       "<style scoped>\n",
       "    .dataframe tbody tr th:only-of-type {\n",
       "        vertical-align: middle;\n",
       "    }\n",
       "\n",
       "    .dataframe tbody tr th {\n",
       "        vertical-align: top;\n",
       "    }\n",
       "\n",
       "    .dataframe thead th {\n",
       "        text-align: right;\n",
       "    }\n",
       "</style>\n",
       "<table border=\"1\" class=\"dataframe\">\n",
       "  <thead>\n",
       "    <tr style=\"text-align: right;\">\n",
       "      <th></th>\n",
       "      <th>Survived</th>\n",
       "      <th>Pclass</th>\n",
       "      <th>Sex</th>\n",
       "      <th>Age</th>\n",
       "      <th>SibSp</th>\n",
       "      <th>Parch</th>\n",
       "      <th>Fare</th>\n",
       "      <th>Embarked</th>\n",
       "    </tr>\n",
       "  </thead>\n",
       "  <tbody>\n",
       "    <tr>\n",
       "      <th>0</th>\n",
       "      <td>0</td>\n",
       "      <td>3</td>\n",
       "      <td>male</td>\n",
       "      <td>22.0</td>\n",
       "      <td>1</td>\n",
       "      <td>0</td>\n",
       "      <td>7.2500</td>\n",
       "      <td>S</td>\n",
       "    </tr>\n",
       "    <tr>\n",
       "      <th>1</th>\n",
       "      <td>1</td>\n",
       "      <td>1</td>\n",
       "      <td>female</td>\n",
       "      <td>38.0</td>\n",
       "      <td>1</td>\n",
       "      <td>0</td>\n",
       "      <td>71.2833</td>\n",
       "      <td>C</td>\n",
       "    </tr>\n",
       "    <tr>\n",
       "      <th>2</th>\n",
       "      <td>1</td>\n",
       "      <td>3</td>\n",
       "      <td>female</td>\n",
       "      <td>26.0</td>\n",
       "      <td>0</td>\n",
       "      <td>0</td>\n",
       "      <td>7.9250</td>\n",
       "      <td>S</td>\n",
       "    </tr>\n",
       "    <tr>\n",
       "      <th>3</th>\n",
       "      <td>1</td>\n",
       "      <td>1</td>\n",
       "      <td>female</td>\n",
       "      <td>35.0</td>\n",
       "      <td>1</td>\n",
       "      <td>0</td>\n",
       "      <td>53.1000</td>\n",
       "      <td>S</td>\n",
       "    </tr>\n",
       "    <tr>\n",
       "      <th>4</th>\n",
       "      <td>0</td>\n",
       "      <td>3</td>\n",
       "      <td>male</td>\n",
       "      <td>35.0</td>\n",
       "      <td>0</td>\n",
       "      <td>0</td>\n",
       "      <td>8.0500</td>\n",
       "      <td>S</td>\n",
       "    </tr>\n",
       "  </tbody>\n",
       "</table>\n",
       "</div>"
      ],
      "text/plain": [
       "   Survived  Pclass     Sex   Age  SibSp  Parch     Fare Embarked\n",
       "0         0       3    male  22.0      1      0   7.2500        S\n",
       "1         1       1  female  38.0      1      0  71.2833        C\n",
       "2         1       3  female  26.0      0      0   7.9250        S\n",
       "3         1       1  female  35.0      1      0  53.1000        S\n",
       "4         0       3    male  35.0      0      0   8.0500        S"
      ]
     },
     "execution_count": 14,
     "metadata": {},
     "output_type": "execute_result"
    }
   ],
   "source": [
    "## Select columns\n",
    "SEL_COLS = ['Survived', 'Pclass', 'Sex', 'Age', 'SibSp', 'Parch', 'Fare', 'Embarked']\n",
    "dfTR = dfTR[SEL_COLS]\n",
    "dfTR.head()"
   ]
  },
  {
   "cell_type": "code",
   "execution_count": 15,
   "id": "9027e143",
   "metadata": {},
   "outputs": [
    {
     "data": {
      "text/plain": [
       "(712, 8)"
      ]
     },
     "execution_count": 15,
     "metadata": {},
     "output_type": "execute_result"
    }
   ],
   "source": [
    "## Drop NAs\n",
    "dfTR = dfTR.dropna()\n",
    "dfTR.shape"
   ]
  },
  {
   "cell_type": "code",
   "execution_count": 16,
   "id": "54b1d303",
   "metadata": {},
   "outputs": [
    {
     "data": {
      "text/html": [
       "<div>\n",
       "<style scoped>\n",
       "    .dataframe tbody tr th:only-of-type {\n",
       "        vertical-align: middle;\n",
       "    }\n",
       "\n",
       "    .dataframe tbody tr th {\n",
       "        vertical-align: top;\n",
       "    }\n",
       "\n",
       "    .dataframe thead th {\n",
       "        text-align: right;\n",
       "    }\n",
       "</style>\n",
       "<table border=\"1\" class=\"dataframe\">\n",
       "  <thead>\n",
       "    <tr style=\"text-align: right;\">\n",
       "      <th></th>\n",
       "      <th>Pclass</th>\n",
       "      <th>Sex</th>\n",
       "      <th>Age</th>\n",
       "      <th>SibSp</th>\n",
       "      <th>Parch</th>\n",
       "      <th>Fare</th>\n",
       "      <th>Embarked</th>\n",
       "    </tr>\n",
       "    <tr>\n",
       "      <th>Survived</th>\n",
       "      <th></th>\n",
       "      <th></th>\n",
       "      <th></th>\n",
       "      <th></th>\n",
       "      <th></th>\n",
       "      <th></th>\n",
       "      <th></th>\n",
       "    </tr>\n",
       "  </thead>\n",
       "  <tbody>\n",
       "    <tr>\n",
       "      <th>0</th>\n",
       "      <td>424</td>\n",
       "      <td>424</td>\n",
       "      <td>424</td>\n",
       "      <td>424</td>\n",
       "      <td>424</td>\n",
       "      <td>424</td>\n",
       "      <td>424</td>\n",
       "    </tr>\n",
       "    <tr>\n",
       "      <th>1</th>\n",
       "      <td>288</td>\n",
       "      <td>288</td>\n",
       "      <td>288</td>\n",
       "      <td>288</td>\n",
       "      <td>288</td>\n",
       "      <td>288</td>\n",
       "      <td>288</td>\n",
       "    </tr>\n",
       "  </tbody>\n",
       "</table>\n",
       "</div>"
      ],
      "text/plain": [
       "          Pclass  Sex  Age  SibSp  Parch  Fare  Embarked\n",
       "Survived                                                \n",
       "0            424  424  424    424    424   424       424\n",
       "1            288  288  288    288    288   288       288"
      ]
     },
     "execution_count": 16,
     "metadata": {},
     "output_type": "execute_result"
    }
   ],
   "source": [
    "## View distributions\n",
    "SEL_VAR = SEL_COLS[0]                  ## Change index for other variables\n",
    "dfTR.groupby(SEL_VAR).count()\n"
   ]
  },
  {
   "cell_type": "code",
   "execution_count": 17,
   "id": "452e23e1",
   "metadata": {},
   "outputs": [
    {
     "name": "stdout",
     "output_type": "stream",
     "text": [
      "                 Sex  Age  SibSp  Parch  Fare  Embarked\n",
      "Pclass Survived                                        \n",
      "1      0          64   64     64     64    64        64\n",
      "       1         120  120    120    120   120       120\n",
      "2      0          90   90     90     90    90        90\n",
      "       1          83   83     83     83    83        83\n",
      "3      0         270  270    270    270   270       270\n",
      "       1          85   85     85     85    85        85\n",
      "                 Pclass  Age  SibSp  Parch  Fare  Embarked\n",
      "Sex    Survived                                           \n",
      "female 0             64   64     64     64    64        64\n",
      "       1            195  195    195    195   195       195\n",
      "male   0            360  360    360    360   360       360\n",
      "       1             93   93     93     93    93        93\n",
      "                Pclass  Sex  SibSp  Parch  Fare  Embarked\n",
      "Age   Survived                                           \n",
      "0.42  1              1    1      1      1     1         1\n",
      "0.67  1              1    1      1      1     1         1\n",
      "0.75  1              2    2      2      2     2         2\n",
      "0.83  1              2    2      2      2     2         2\n",
      "0.92  1              1    1      1      1     1         1\n",
      "...                ...  ...    ...    ...   ...       ...\n",
      "70.00 0              2    2      2      2     2         2\n",
      "70.50 0              1    1      1      1     1         1\n",
      "71.00 0              2    2      2      2     2         2\n",
      "74.00 0              1    1      1      1     1         1\n",
      "80.00 1              1    1      1      1     1         1\n",
      "\n",
      "[142 rows x 6 columns]\n",
      "                Pclass  Sex  Age  Parch  Fare  Embarked\n",
      "SibSp Survived                                         \n",
      "0     0            296  296  296    296   296       296\n",
      "      1            173  173  173    173   173       173\n",
      "1     0             86   86   86     86    86        86\n",
      "      1             97   97   97     97    97        97\n",
      "2     0             14   14   14     14    14        14\n",
      "      1             11   11   11     11    11        11\n",
      "3     0              8    8    8      8     8         8\n",
      "      1              4    4    4      4     4         4\n",
      "4     0             15   15   15     15    15        15\n",
      "      1              3    3    3      3     3         3\n",
      "5     0              5    5    5      5     5         5\n",
      "                Pclass  Sex  Age  SibSp  Fare  Embarked\n",
      "Parch Survived                                         \n",
      "0     0            335  335  335    335   335       335\n",
      "      1            184  184  184    184   184       184\n",
      "1     0             49   49   49     49    49        49\n",
      "      1             61   61   61     61    61        61\n",
      "2     0             29   29   29     29    29        29\n",
      "      1             39   39   39     39    39        39\n",
      "3     0              2    2    2      2     2         2\n",
      "      1              3    3    3      3     3         3\n",
      "4     0              4    4    4      4     4         4\n",
      "5     0              4    4    4      4     4         4\n",
      "      1              1    1    1      1     1         1\n",
      "6     0              1    1    1      1     1         1\n",
      "                   Pclass  Sex  Age  SibSp  Parch  Embarked\n",
      "Fare     Survived                                          \n",
      "0.0000   0              6    6    6      6      6         6\n",
      "         1              1    1    1      1      1         1\n",
      "4.0125   0              1    1    1      1      1         1\n",
      "5.0000   0              1    1    1      1      1         1\n",
      "6.2375   0              1    1    1      1      1         1\n",
      "...                   ...  ...  ...    ...    ...       ...\n",
      "247.5208 1              1    1    1      1      1         1\n",
      "262.3750 1              2    2    2      2      2         2\n",
      "263.0000 0              2    2    2      2      2         2\n",
      "         1              2    2    2      2      2         2\n",
      "512.3292 1              3    3    3      3      3         3\n",
      "\n",
      "[290 rows x 6 columns]\n",
      "                   Pclass  Sex  Age  SibSp  Parch  Fare\n",
      "Embarked Survived                                      \n",
      "C        0             51   51   51     51     51    51\n",
      "         1             79   79   79     79     79    79\n",
      "Q        0             20   20   20     20     20    20\n",
      "         1              8    8    8      8      8     8\n",
      "S        0            353  353  353    353    353   353\n",
      "         1            201  201  201    201    201   201\n"
     ]
    }
   ],
   "source": [
    "## view distributions of categorical variables by survival\n",
    "for i in range(1, len(SEL_COLS)):\n",
    "    SEL_VAR = SEL_COLS[i]              ## Change index for other variables\n",
    "    print(dfTR.groupby([SEL_VAR, 'Survived']).count())"
   ]
  },
  {
   "cell_type": "markdown",
   "id": "40f4df45",
   "metadata": {
    "papermill": {
     "duration": 0.067961,
     "end_time": "2022-01-23T20:23:37.778277",
     "exception": false,
     "start_time": "2022-01-23T20:23:37.710316",
     "status": "completed"
    },
    "tags": []
   },
   "source": [
    "### Visualize Data"
   ]
  },
  {
   "cell_type": "markdown",
   "id": "05add9c6",
   "metadata": {
    "papermill": {
     "duration": 0.074725,
     "end_time": "2022-01-23T20:23:39.393811",
     "exception": false,
     "start_time": "2022-01-23T20:23:39.319086",
     "status": "completed"
    },
    "tags": []
   },
   "source": [
    "   #### Survival counts"
   ]
  },
  {
   "cell_type": "code",
   "execution_count": 18,
   "id": "76379c89",
   "metadata": {
    "execution": {
     "iopub.execute_input": "2022-01-23T20:23:38.059072Z",
     "iopub.status.busy": "2022-01-23T20:23:38.058400Z",
     "iopub.status.idle": "2022-01-23T20:23:38.223899Z",
     "shell.execute_reply": "2022-01-23T20:23:38.224572Z",
     "shell.execute_reply.started": "2022-01-23T20:21:24.939241Z"
    },
    "papermill": {
     "duration": 0.240324,
     "end_time": "2022-01-23T20:23:38.224750",
     "exception": false,
     "start_time": "2022-01-23T20:23:37.984426",
     "status": "completed"
    },
    "tags": []
   },
   "outputs": [
    {
     "data": {
      "image/png": "[encoded data removed]",
      "text/plain": [
       "<Figure size 640x480 with 1 Axes>"
      ]
     },
     "metadata": {},
     "output_type": "display_data"
    }
   ],
   "source": [
    "sns.countplot(data = dfTR, x='Survived')\n",
    "plt.show()"
   ]
  },
  {
   "cell_type": "code",
   "execution_count": 19,
   "id": "115df154",
   "metadata": {
    "execution": {
     "iopub.execute_input": "2022-01-23T20:23:38.514026Z",
     "iopub.status.busy": "2022-01-23T20:23:38.513415Z",
     "iopub.status.idle": "2022-01-23T20:23:38.697027Z",
     "shell.execute_reply": "2022-01-23T20:23:38.697463Z",
     "shell.execute_reply.started": "2022-01-23T20:21:25.121588Z"
    },
    "papermill": {
     "duration": 0.25888,
     "end_time": "2022-01-23T20:23:38.697629",
     "exception": false,
     "start_time": "2022-01-23T20:23:38.438749",
     "status": "completed"
    },
    "tags": []
   },
   "outputs": [
    {
     "data": {
      "image/png": "[encoded data removed]",
      "text/plain": [
       "<Figure size 640x480 with 1 Axes>"
      ]
     },
     "metadata": {},
     "output_type": "display_data"
    }
   ],
   "source": [
    "sns.countplot(data=dfTR, x='Survived', hue='Sex')\n",
    "plt.show()"
   ]
  },
  {
   "cell_type": "code",
   "execution_count": 20,
   "id": "7532cae2",
   "metadata": {
    "execution": {
     "iopub.execute_input": "2022-01-23T20:23:39.030170Z",
     "iopub.status.busy": "2022-01-23T20:23:39.029196Z",
     "iopub.status.idle": "2022-01-23T20:23:39.239533Z",
     "shell.execute_reply": "2022-01-23T20:23:39.238714Z",
     "shell.execute_reply.started": "2022-01-23T20:21:25.320915Z"
    },
    "papermill": {
     "duration": 0.306993,
     "end_time": "2022-01-23T20:23:39.239736",
     "exception": false,
     "start_time": "2022-01-23T20:23:38.932743",
     "status": "completed"
    },
    "tags": []
   },
   "outputs": [
    {
     "data": {
      "image/png": "[encoded data removed]",
      "text/plain": [
       "<Figure size 640x480 with 1 Axes>"
      ]
     },
     "metadata": {},
     "output_type": "display_data"
    }
   ],
   "source": [
    "sns.set_style('white')\n",
    "sns.countplot(data=dfTR, x='Survived', hue='Pclass')\n",
    "plt.show()"
   ]
  },
  {
   "cell_type": "markdown",
   "id": "7989a730",
   "metadata": {
    "papermill": {
     "duration": 0.074725,
     "end_time": "2022-01-23T20:23:39.393811",
     "exception": false,
     "start_time": "2022-01-23T20:23:39.319086",
     "status": "completed"
    },
    "tags": []
   },
   "source": [
    "   #### Age of the passengers"
   ]
  },
  {
   "cell_type": "code",
   "execution_count": 22,
   "id": "6c69161d",
   "metadata": {
    "execution": {
     "iopub.execute_input": "2022-01-23T20:23:39.549106Z",
     "iopub.status.busy": "2022-01-23T20:23:39.548521Z",
     "iopub.status.idle": "2022-01-23T20:23:39.813736Z",
     "shell.execute_reply": "2022-01-23T20:23:39.813142Z",
     "shell.execute_reply.started": "2022-01-23T20:21:25.536880Z"
    },
    "papermill": {
     "duration": 0.344837,
     "end_time": "2022-01-23T20:23:39.813861",
     "exception": false,
     "start_time": "2022-01-23T20:23:39.469024",
     "status": "completed"
    },
    "scrolled": true,
    "tags": []
   },
   "outputs": [
    {
     "data": {
      "image/png": "[encoded data removed]",
      "text/plain": [
       "<Figure size 640x480 with 1 Axes>"
      ]
     },
     "metadata": {},
     "output_type": "display_data"
    }
   ],
   "source": [
    "sns.histplot(data=dfTR, x='Age', hue = 'Survived')\n",
    "plt.show()"
   ]
  },
  {
   "cell_type": "markdown",
   "id": "407a75af",
   "metadata": {
    "papermill": {
     "duration": 0.073539,
     "end_time": "2022-01-23T20:23:39.959397",
     "exception": false,
     "start_time": "2022-01-23T20:23:39.885858",
     "status": "completed"
    },
    "tags": []
   },
   "source": [
    "#### Siblings and Spouse count"
   ]
  },
  {
   "cell_type": "code",
   "execution_count": 23,
   "id": "ed61255e",
   "metadata": {
    "execution": {
     "iopub.execute_input": "2022-01-23T20:23:40.113976Z",
     "iopub.status.busy": "2022-01-23T20:23:40.113395Z",
     "iopub.status.idle": "2022-01-23T20:23:40.319023Z",
     "shell.execute_reply": "2022-01-23T20:23:40.318565Z",
     "shell.execute_reply.started": "2022-01-23T20:21:25.820485Z"
    },
    "papermill": {
     "duration": 0.286662,
     "end_time": "2022-01-23T20:23:40.319154",
     "exception": false,
     "start_time": "2022-01-23T20:23:40.032492",
     "status": "completed"
    },
    "tags": []
   },
   "outputs": [
    {
     "data": {
      "image/png": "[encoded data removed]",
      "text/plain": [
       "<Figure size 640x480 with 1 Axes>"
      ]
     },
     "metadata": {},
     "output_type": "display_data"
    }
   ],
   "source": [
    "sns.countplot(data=dfTR, x='SibSp')\n",
    "plt.show()"
   ]
  },
  {
   "cell_type": "markdown",
   "id": "d7b3171c",
   "metadata": {
    "papermill": {
     "duration": 0.075459,
     "end_time": "2022-01-23T20:23:40.470328",
     "exception": false,
     "start_time": "2022-01-23T20:23:40.394869",
     "status": "completed"
    },
    "tags": []
   },
   "source": [
    "#### Distribution of Fares"
   ]
  },
  {
   "cell_type": "code",
   "execution_count": 30,
   "id": "3311530f",
   "metadata": {
    "execution": {
     "iopub.execute_input": "2022-01-23T20:23:40.620865Z",
     "iopub.status.busy": "2022-01-23T20:23:40.620248Z",
     "iopub.status.idle": "2022-01-23T20:23:43.407507Z",
     "shell.execute_reply": "2022-01-23T20:23:43.406878Z",
     "shell.execute_reply.started": "2022-01-23T20:21:26.058834Z"
    },
    "papermill": {
     "duration": 2.863548,
     "end_time": "2022-01-23T20:23:43.407652",
     "exception": false,
     "start_time": "2022-01-23T20:23:40.544104",
     "status": "completed"
    },
    "tags": []
   },
   "outputs": [
    {
     "data": {
      "image/png": "[encoded data removed]",
      "text/plain": [
       "<Figure size 640x480 with 1 Axes>"
      ]
     },
     "metadata": {},
     "output_type": "display_data"
    }
   ],
   "source": [
    "sns.histplot(data=dfTR, x='Fare', hue = 'Survived')\n",
    "plt.show()"
   ]
  },
  {
   "cell_type": "markdown",
   "id": "987817ef",
   "metadata": {
    "papermill": {
     "duration": 0.085722,
     "end_time": "2022-01-23T20:23:45.682201",
     "exception": false,
     "start_time": "2022-01-23T20:23:45.596479",
     "status": "completed"
    },
    "tags": []
   },
   "source": [
    "### Handle Categorical Variables"
   ]
  },
  {
   "cell_type": "code",
   "execution_count": 31,
   "id": "5b8dad45",
   "metadata": {
    "execution": {
     "iopub.execute_input": "2022-01-23T20:23:45.862820Z",
     "iopub.status.busy": "2022-01-23T20:23:45.861762Z",
     "iopub.status.idle": "2022-01-23T20:23:45.865192Z",
     "shell.execute_reply": "2022-01-23T20:23:45.865716Z",
     "shell.execute_reply.started": "2022-01-23T20:21:30.189414Z"
    },
    "papermill": {
     "duration": 0.096927,
     "end_time": "2022-01-23T20:23:45.865878",
     "exception": false,
     "start_time": "2022-01-23T20:23:45.768951",
     "status": "completed"
    },
    "tags": []
   },
   "outputs": [
    {
     "ename": "KeyError",
     "evalue": "'Sex'",
     "output_type": "error",
     "traceback": [
      "\u001b[1;31m---------------------------------------------------------------------------\u001b[0m",
      "\u001b[1;31mKeyError\u001b[0m                                  Traceback (most recent call last)",
      "File \u001b[1;32mc:\\Users\\Nissim\\anaconda3\\envs\\musa-650\\lib\\site-packages\\pandas\\core\\indexes\\base.py:3803\u001b[0m, in \u001b[0;36mIndex.get_loc\u001b[1;34m(self, key, method, tolerance)\u001b[0m\n\u001b[0;32m   3802\u001b[0m \u001b[39mtry\u001b[39;00m:\n\u001b[1;32m-> 3803\u001b[0m     \u001b[39mreturn\u001b[39;00m \u001b[39mself\u001b[39;49m\u001b[39m.\u001b[39;49m_engine\u001b[39m.\u001b[39;49mget_loc(casted_key)\n\u001b[0;32m   3804\u001b[0m \u001b[39mexcept\u001b[39;00m \u001b[39mKeyError\u001b[39;00m \u001b[39mas\u001b[39;00m err:\n",
      "File \u001b[1;32mc:\\Users\\Nissim\\anaconda3\\envs\\musa-650\\lib\\site-packages\\pandas\\_libs\\index.pyx:138\u001b[0m, in \u001b[0;36mpandas._libs.index.IndexEngine.get_loc\u001b[1;34m()\u001b[0m\n",
      "File \u001b[1;32mc:\\Users\\Nissim\\anaconda3\\envs\\musa-650\\lib\\site-packages\\pandas\\_libs\\index.pyx:165\u001b[0m, in \u001b[0;36mpandas._libs.index.IndexEngine.get_loc\u001b[1;34m()\u001b[0m\n",
      "File \u001b[1;32mpandas\\_libs\\hashtable_class_helper.pxi:5745\u001b[0m, in \u001b[0;36mpandas._libs.hashtable.PyObjectHashTable.get_item\u001b[1;34m()\u001b[0m\n",
      "File \u001b[1;32mpandas\\_libs\\hashtable_class_helper.pxi:5753\u001b[0m, in \u001b[0;36mpandas._libs.hashtable.PyObjectHashTable.get_item\u001b[1;34m()\u001b[0m\n",
      "\u001b[1;31mKeyError\u001b[0m: 'Sex'",
      "\nThe above exception was the direct cause of the following exception:\n",
      "\u001b[1;31mKeyError\u001b[0m                                  Traceback (most recent call last)",
      "Cell \u001b[1;32mIn[31], line 1\u001b[0m\n\u001b[1;32m----> 1\u001b[0m dfSex \u001b[39m=\u001b[39m pd\u001b[39m.\u001b[39mget_dummies(dfTR[\u001b[39m'\u001b[39;49m\u001b[39mSex\u001b[39;49m\u001b[39m'\u001b[39;49m], prefix\u001b[39m=\u001b[39m\u001b[39m'\u001b[39m\u001b[39mSex\u001b[39m\u001b[39m'\u001b[39m, drop_first\u001b[39m=\u001b[39m\u001b[39mTrue\u001b[39;00m)\n\u001b[0;32m      2\u001b[0m dfSex\u001b[39m.\u001b[39mhead()\n",
      "File \u001b[1;32mc:\\Users\\Nissim\\anaconda3\\envs\\musa-650\\lib\\site-packages\\pandas\\core\\frame.py:3805\u001b[0m, in \u001b[0;36mDataFrame.__getitem__\u001b[1;34m(self, key)\u001b[0m\n\u001b[0;32m   3803\u001b[0m \u001b[39mif\u001b[39;00m \u001b[39mself\u001b[39m\u001b[39m.\u001b[39mcolumns\u001b[39m.\u001b[39mnlevels \u001b[39m>\u001b[39m \u001b[39m1\u001b[39m:\n\u001b[0;32m   3804\u001b[0m     \u001b[39mreturn\u001b[39;00m \u001b[39mself\u001b[39m\u001b[39m.\u001b[39m_getitem_multilevel(key)\n\u001b[1;32m-> 3805\u001b[0m indexer \u001b[39m=\u001b[39m \u001b[39mself\u001b[39;49m\u001b[39m.\u001b[39;49mcolumns\u001b[39m.\u001b[39;49mget_loc(key)\n\u001b[0;32m   3806\u001b[0m \u001b[39mif\u001b[39;00m is_integer(indexer):\n\u001b[0;32m   3807\u001b[0m     indexer \u001b[39m=\u001b[39m [indexer]\n",
      "File \u001b[1;32mc:\\Users\\Nissim\\anaconda3\\envs\\musa-650\\lib\\site-packages\\pandas\\core\\indexes\\base.py:3805\u001b[0m, in \u001b[0;36mIndex.get_loc\u001b[1;34m(self, key, method, tolerance)\u001b[0m\n\u001b[0;32m   3803\u001b[0m     \u001b[39mreturn\u001b[39;00m \u001b[39mself\u001b[39m\u001b[39m.\u001b[39m_engine\u001b[39m.\u001b[39mget_loc(casted_key)\n\u001b[0;32m   3804\u001b[0m \u001b[39mexcept\u001b[39;00m \u001b[39mKeyError\u001b[39;00m \u001b[39mas\u001b[39;00m err:\n\u001b[1;32m-> 3805\u001b[0m     \u001b[39mraise\u001b[39;00m \u001b[39mKeyError\u001b[39;00m(key) \u001b[39mfrom\u001b[39;00m \u001b[39merr\u001b[39;00m\n\u001b[0;32m   3806\u001b[0m \u001b[39mexcept\u001b[39;00m \u001b[39mTypeError\u001b[39;00m:\n\u001b[0;32m   3807\u001b[0m     \u001b[39m# If we have a listlike key, _check_indexing_error will raise\u001b[39;00m\n\u001b[0;32m   3808\u001b[0m     \u001b[39m#  InvalidIndexError. Otherwise we fall through and re-raise\u001b[39;00m\n\u001b[0;32m   3809\u001b[0m     \u001b[39m#  the TypeError.\u001b[39;00m\n\u001b[0;32m   3810\u001b[0m     \u001b[39mself\u001b[39m\u001b[39m.\u001b[39m_check_indexing_error(key)\n",
      "\u001b[1;31mKeyError\u001b[0m: 'Sex'"
     ]
    }
   ],
   "source": [
    "dfSex = pd.get_dummies(dfTR['Sex'], prefix='Sex', drop_first=True)\n",
    "dfSex.head()"
   ]
  },
  {
   "cell_type": "code",
   "execution_count": 27,
   "id": "28ced7ff",
   "metadata": {
    "execution": {
     "iopub.execute_input": "2022-01-23T20:23:45.862820Z",
     "iopub.status.busy": "2022-01-23T20:23:45.861762Z",
     "iopub.status.idle": "2022-01-23T20:23:45.865192Z",
     "shell.execute_reply": "2022-01-23T20:23:45.865716Z",
     "shell.execute_reply.started": "2022-01-23T20:21:30.189414Z"
    },
    "papermill": {
     "duration": 0.096927,
     "end_time": "2022-01-23T20:23:45.865878",
     "exception": false,
     "start_time": "2022-01-23T20:23:45.768951",
     "status": "completed"
    },
    "tags": []
   },
   "outputs": [
    {
     "data": {
      "text/html": [
       "<div>\n",
       "<style scoped>\n",
       "    .dataframe tbody tr th:only-of-type {\n",
       "        vertical-align: middle;\n",
       "    }\n",
       "\n",
       "    .dataframe tbody tr th {\n",
       "        vertical-align: top;\n",
       "    }\n",
       "\n",
       "    .dataframe thead th {\n",
       "        text-align: right;\n",
       "    }\n",
       "</style>\n",
       "<table border=\"1\" class=\"dataframe\">\n",
       "  <thead>\n",
       "    <tr style=\"text-align: right;\">\n",
       "      <th></th>\n",
       "      <th>Emb_Q</th>\n",
       "      <th>Emb_S</th>\n",
       "    </tr>\n",
       "  </thead>\n",
       "  <tbody>\n",
       "    <tr>\n",
       "      <th>0</th>\n",
       "      <td>0</td>\n",
       "      <td>1</td>\n",
       "    </tr>\n",
       "    <tr>\n",
       "      <th>1</th>\n",
       "      <td>0</td>\n",
       "      <td>0</td>\n",
       "    </tr>\n",
       "    <tr>\n",
       "      <th>2</th>\n",
       "      <td>0</td>\n",
       "      <td>1</td>\n",
       "    </tr>\n",
       "    <tr>\n",
       "      <th>3</th>\n",
       "      <td>0</td>\n",
       "      <td>1</td>\n",
       "    </tr>\n",
       "    <tr>\n",
       "      <th>4</th>\n",
       "      <td>0</td>\n",
       "      <td>1</td>\n",
       "    </tr>\n",
       "  </tbody>\n",
       "</table>\n",
       "</div>"
      ],
      "text/plain": [
       "   Emb_Q  Emb_S\n",
       "0      0      1\n",
       "1      0      0\n",
       "2      0      1\n",
       "3      0      1\n",
       "4      0      1"
      ]
     },
     "execution_count": 27,
     "metadata": {},
     "output_type": "execute_result"
    }
   ],
   "source": [
    "dfEmb = pd.get_dummies(dfTR['Embarked'], prefix='Emb', drop_first=True)\n",
    "dfEmb.head()"
   ]
  },
  {
   "cell_type": "code",
   "execution_count": 33,
   "id": "12e1fbb2",
   "metadata": {
    "execution": {
     "iopub.execute_input": "2022-01-23T20:23:46.045359Z",
     "iopub.status.busy": "2022-01-23T20:23:46.044459Z",
     "iopub.status.idle": "2022-01-23T20:23:46.060753Z",
     "shell.execute_reply": "2022-01-23T20:23:46.061296Z",
     "shell.execute_reply.started": "2022-01-23T20:21:30.198337Z"
    },
    "papermill": {
     "duration": 0.107758,
     "end_time": "2022-01-23T20:23:46.061478",
     "exception": false,
     "start_time": "2022-01-23T20:23:45.953720",
     "status": "completed"
    },
    "scrolled": true,
    "tags": []
   },
   "outputs": [
    {
     "data": {
      "text/html": [
       "<div>\n",
       "<style scoped>\n",
       "    .dataframe tbody tr th:only-of-type {\n",
       "        vertical-align: middle;\n",
       "    }\n",
       "\n",
       "    .dataframe tbody tr th {\n",
       "        vertical-align: top;\n",
       "    }\n",
       "\n",
       "    .dataframe thead th {\n",
       "        text-align: right;\n",
       "    }\n",
       "</style>\n",
       "<table border=\"1\" class=\"dataframe\">\n",
       "  <thead>\n",
       "    <tr style=\"text-align: right;\">\n",
       "      <th></th>\n",
       "      <th>Survived</th>\n",
       "      <th>Pclass</th>\n",
       "      <th>Age</th>\n",
       "      <th>SibSp</th>\n",
       "      <th>Parch</th>\n",
       "      <th>Fare</th>\n",
       "      <th>Sex_male</th>\n",
       "      <th>Emb_Q</th>\n",
       "      <th>Emb_S</th>\n",
       "    </tr>\n",
       "  </thead>\n",
       "  <tbody>\n",
       "    <tr>\n",
       "      <th>0</th>\n",
       "      <td>0</td>\n",
       "      <td>3</td>\n",
       "      <td>22.0</td>\n",
       "      <td>1</td>\n",
       "      <td>0</td>\n",
       "      <td>7.2500</td>\n",
       "      <td>1</td>\n",
       "      <td>0</td>\n",
       "      <td>1</td>\n",
       "    </tr>\n",
       "    <tr>\n",
       "      <th>1</th>\n",
       "      <td>1</td>\n",
       "      <td>1</td>\n",
       "      <td>38.0</td>\n",
       "      <td>1</td>\n",
       "      <td>0</td>\n",
       "      <td>71.2833</td>\n",
       "      <td>0</td>\n",
       "      <td>0</td>\n",
       "      <td>0</td>\n",
       "    </tr>\n",
       "    <tr>\n",
       "      <th>2</th>\n",
       "      <td>1</td>\n",
       "      <td>3</td>\n",
       "      <td>26.0</td>\n",
       "      <td>0</td>\n",
       "      <td>0</td>\n",
       "      <td>7.9250</td>\n",
       "      <td>0</td>\n",
       "      <td>0</td>\n",
       "      <td>1</td>\n",
       "    </tr>\n",
       "    <tr>\n",
       "      <th>3</th>\n",
       "      <td>1</td>\n",
       "      <td>1</td>\n",
       "      <td>35.0</td>\n",
       "      <td>1</td>\n",
       "      <td>0</td>\n",
       "      <td>53.1000</td>\n",
       "      <td>0</td>\n",
       "      <td>0</td>\n",
       "      <td>1</td>\n",
       "    </tr>\n",
       "    <tr>\n",
       "      <th>4</th>\n",
       "      <td>0</td>\n",
       "      <td>3</td>\n",
       "      <td>35.0</td>\n",
       "      <td>0</td>\n",
       "      <td>0</td>\n",
       "      <td>8.0500</td>\n",
       "      <td>1</td>\n",
       "      <td>0</td>\n",
       "      <td>1</td>\n",
       "    </tr>\n",
       "  </tbody>\n",
       "</table>\n",
       "</div>"
      ],
      "text/plain": [
       "   Survived  Pclass   Age  SibSp  Parch     Fare  Sex_male  Emb_Q  Emb_S\n",
       "0         0       3  22.0      1      0   7.2500         1      0      1\n",
       "1         1       1  38.0      1      0  71.2833         0      0      0\n",
       "2         1       3  26.0      0      0   7.9250         0      0      1\n",
       "3         1       1  35.0      1      0  53.1000         0      0      1\n",
       "4         0       3  35.0      0      0   8.0500         1      0      1"
      ]
     },
     "execution_count": 33,
     "metadata": {},
     "output_type": "execute_result"
    }
   ],
   "source": [
    "dfTR=pd.concat([dfTR.drop(['Sex','Embarked'],axis=1), dfSex, dfEmb], axis=1)\n",
    "dfTR.head()"
   ]
  },
  {
   "cell_type": "markdown",
   "id": "98e2b4f8",
   "metadata": {
    "papermill": {
     "duration": 0.084343,
     "end_time": "2022-01-23T20:23:46.233091",
     "exception": false,
     "start_time": "2022-01-23T20:23:46.148748",
     "status": "completed"
    },
    "tags": []
   },
   "source": [
    "### ML Models for Prediction"
   ]
  },
  {
   "cell_type": "markdown",
   "id": "a90fd87e",
   "metadata": {
    "papermill": {
     "duration": 0.083941,
     "end_time": "2022-01-23T20:23:46.403668",
     "exception": false,
     "start_time": "2022-01-23T20:23:46.319727",
     "status": "completed"
    },
    "tags": []
   },
   "source": [
    "### Scale the data"
   ]
  },
  {
   "cell_type": "code",
   "execution_count": 34,
   "id": "c9909dba",
   "metadata": {
    "execution": {
     "iopub.execute_input": "2022-01-23T20:23:46.881061Z",
     "iopub.status.busy": "2022-01-23T20:23:46.880453Z",
     "iopub.status.idle": "2022-01-23T20:23:46.883626Z",
     "shell.execute_reply": "2022-01-23T20:23:46.884119Z",
     "shell.execute_reply.started": "2022-01-23T20:21:30.348259Z"
    },
    "papermill": {
     "duration": 0.097137,
     "end_time": "2022-01-23T20:23:46.884268",
     "exception": false,
     "start_time": "2022-01-23T20:23:46.787131",
     "status": "completed"
    },
    "tags": []
   },
   "outputs": [],
   "source": [
    "from sklearn.preprocessing import StandardScaler\n",
    "scalerTR = StandardScaler()"
   ]
  },
  {
   "cell_type": "code",
   "execution_count": 35,
   "id": "be021a5e",
   "metadata": {},
   "outputs": [
    {
     "data": {
      "text/plain": [
       "(712, 8)"
      ]
     },
     "execution_count": 35,
     "metadata": {},
     "output_type": "execute_result"
    }
   ],
   "source": [
    "XTR = np.array(dfTR[dfTR.columns[1:]])\n",
    "XTR.shape"
   ]
  },
  {
   "cell_type": "code",
   "execution_count": 36,
   "id": "e3a4ec97",
   "metadata": {},
   "outputs": [
    {
     "data": {
      "text/plain": [
       "(712,)"
      ]
     },
     "execution_count": 36,
     "metadata": {},
     "output_type": "execute_result"
    }
   ],
   "source": [
    "YTR = np.array(dfTR[dfTR.columns[0:1]]).squeeze()\n",
    "YTR.shape"
   ]
  },
  {
   "cell_type": "code",
   "execution_count": 39,
   "id": "3f9bea80",
   "metadata": {
    "execution": {
     "iopub.execute_input": "2022-01-23T20:23:47.248788Z",
     "iopub.status.busy": "2022-01-23T20:23:47.248187Z",
     "iopub.status.idle": "2022-01-23T20:23:47.256031Z",
     "shell.execute_reply": "2022-01-23T20:23:47.256578Z",
     "shell.execute_reply.started": "2022-01-23T20:21:30.373973Z"
    },
    "papermill": {
     "duration": 0.097559,
     "end_time": "2022-01-23T20:23:47.256732",
     "exception": false,
     "start_time": "2022-01-23T20:23:47.159173",
     "status": "completed"
    },
    "tags": []
   },
   "outputs": [],
   "source": [
    "scalerTR.fit(XTR)\n",
    "XTRNorm = scalerTR.transform(XTR)"
   ]
  },
  {
   "cell_type": "markdown",
   "id": "ec840436",
   "metadata": {
    "papermill": {
     "duration": 0.089208,
     "end_time": "2022-01-23T20:23:47.820780",
     "exception": false,
     "start_time": "2022-01-23T20:23:47.731572",
     "status": "completed"
    },
    "tags": []
   },
   "source": [
    "### Version 1: Train - Test Split"
   ]
  },
  {
   "cell_type": "code",
   "execution_count": 40,
   "id": "a111ced8",
   "metadata": {
    "execution": {
     "iopub.execute_input": "2022-01-23T20:23:48.185081Z",
     "iopub.status.busy": "2022-01-23T20:23:48.184369Z",
     "iopub.status.idle": "2022-01-23T20:23:48.232349Z",
     "shell.execute_reply": "2022-01-23T20:23:48.232865Z",
     "shell.execute_reply.started": "2022-01-23T20:21:30.439065Z"
    },
    "papermill": {
     "duration": 0.139631,
     "end_time": "2022-01-23T20:23:48.233090",
     "exception": false,
     "start_time": "2022-01-23T20:23:48.093459",
     "status": "completed"
    },
    "tags": []
   },
   "outputs": [],
   "source": [
    "from sklearn.model_selection import train_test_split\n",
    "X_train, X_test, Y_train, Y_test = train_test_split(XTRNorm, YTR, test_size = 0.3, random_state = 101)"
   ]
  },
  {
   "cell_type": "markdown",
   "id": "71250b50",
   "metadata": {
    "papermill": {
     "duration": 0.087198,
     "end_time": "2022-01-23T20:23:48.408373",
     "exception": false,
     "start_time": "2022-01-23T20:23:48.321175",
     "status": "completed"
    },
    "tags": []
   },
   "source": [
    "### 1. Logistic Regression"
   ]
  },
  {
   "cell_type": "code",
   "execution_count": 41,
   "id": "e6f977fe",
   "metadata": {
    "execution": {
     "iopub.execute_input": "2022-01-23T20:23:48.591248Z",
     "iopub.status.busy": "2022-01-23T20:23:48.590591Z",
     "iopub.status.idle": "2022-01-23T20:23:48.799954Z",
     "shell.execute_reply": "2022-01-23T20:23:48.800481Z",
     "shell.execute_reply.started": "2022-01-23T20:21:30.506562Z"
    },
    "papermill": {
     "duration": 0.301964,
     "end_time": "2022-01-23T20:23:48.800690",
     "exception": false,
     "start_time": "2022-01-23T20:23:48.498726",
     "status": "completed"
    },
    "tags": []
   },
   "outputs": [],
   "source": [
    "from sklearn.linear_model import LogisticRegression\n",
    "mdl = LogisticRegression()"
   ]
  },
  {
   "cell_type": "code",
   "execution_count": 42,
   "id": "b2569c2b",
   "metadata": {
    "execution": {
     "iopub.execute_input": "2022-01-23T20:23:48.979764Z",
     "iopub.status.busy": "2022-01-23T20:23:48.979128Z",
     "iopub.status.idle": "2022-01-23T20:23:48.994123Z",
     "shell.execute_reply": "2022-01-23T20:23:48.994672Z",
     "shell.execute_reply.started": "2022-01-23T20:21:30.824415Z"
    },
    "papermill": {
     "duration": 0.106642,
     "end_time": "2022-01-23T20:23:48.994850",
     "exception": false,
     "start_time": "2022-01-23T20:23:48.888208",
     "status": "completed"
    },
    "tags": []
   },
   "outputs": [
    {
     "data": {
      "text/html": [
       "<style>#sk-container-id-1 {color: black;background-color: white;}#sk-container-id-1 pre{padding: 0;}#sk-container-id-1 div.sk-toggleable {background-color: white;}#sk-container-id-1 label.sk-toggleable__label {cursor: pointer;display: block;width: 100%;margin-bottom: 0;padding: 0.3em;box-sizing: border-box;text-align: center;}#sk-container-id-1 label.sk-toggleable__label-arrow:before {content: \"▸\";float: left;margin-right: 0.25em;color: #696969;}#sk-container-id-1 label.sk-toggleable__label-arrow:hover:before {color: black;}#sk-container-id-1 div.sk-estimator:hover label.sk-toggleable__label-arrow:before {color: black;}#sk-container-id-1 div.sk-toggleable__content {max-height: 0;max-width: 0;overflow: hidden;text-align: left;background-color: #f0f8ff;}#sk-container-id-1 div.sk-toggleable__content pre {margin: 0.2em;color: black;border-radius: 0.25em;background-color: #f0f8ff;}#sk-container-id-1 input.sk-toggleable__control:checked~div.sk-toggleable__content {max-height: 200px;max-width: 100%;overflow: auto;}#sk-container-id-1 input.sk-toggleable__control:checked~label.sk-toggleable__label-arrow:before {content: \"▾\";}#sk-container-id-1 div.sk-estimator input.sk-toggleable__control:checked~label.sk-toggleable__label {background-color: #d4ebff;}#sk-container-id-1 div.sk-label input.sk-toggleable__control:checked~label.sk-toggleable__label {background-color: #d4ebff;}#sk-container-id-1 input.sk-hidden--visually {border: 0;clip: rect(1px 1px 1px 1px);clip: rect(1px, 1px, 1px, 1px);height: 1px;margin: -1px;overflow: hidden;padding: 0;position: absolute;width: 1px;}#sk-container-id-1 div.sk-estimator {font-family: monospace;background-color: #f0f8ff;border: 1px dotted black;border-radius: 0.25em;box-sizing: border-box;margin-bottom: 0.5em;}#sk-container-id-1 div.sk-estimator:hover {background-color: #d4ebff;}#sk-container-id-1 div.sk-parallel-item::after {content: \"\";width: 100%;border-bottom: 1px solid gray;flex-grow: 1;}#sk-container-id-1 div.sk-label:hover label.sk-toggleable__label {background-color: #d4ebff;}#sk-container-id-1 div.sk-serial::before {content: \"\";position: absolute;border-left: 1px solid gray;box-sizing: border-box;top: 0;bottom: 0;left: 50%;z-index: 0;}#sk-container-id-1 div.sk-serial {display: flex;flex-direction: column;align-items: center;background-color: white;padding-right: 0.2em;padding-left: 0.2em;position: relative;}#sk-container-id-1 div.sk-item {position: relative;z-index: 1;}#sk-container-id-1 div.sk-parallel {display: flex;align-items: stretch;justify-content: center;background-color: white;position: relative;}#sk-container-id-1 div.sk-item::before, #sk-container-id-1 div.sk-parallel-item::before {content: \"\";position: absolute;border-left: 1px solid gray;box-sizing: border-box;top: 0;bottom: 0;left: 50%;z-index: -1;}#sk-container-id-1 div.sk-parallel-item {display: flex;flex-direction: column;z-index: 1;position: relative;background-color: white;}#sk-container-id-1 div.sk-parallel-item:first-child::after {align-self: flex-end;width: 50%;}#sk-container-id-1 div.sk-parallel-item:last-child::after {align-self: flex-start;width: 50%;}#sk-container-id-1 div.sk-parallel-item:only-child::after {width: 0;}#sk-container-id-1 div.sk-dashed-wrapped {border: 1px dashed gray;margin: 0 0.4em 0.5em 0.4em;box-sizing: border-box;padding-bottom: 0.4em;background-color: white;}#sk-container-id-1 div.sk-label label {font-family: monospace;font-weight: bold;display: inline-block;line-height: 1.2em;}#sk-container-id-1 div.sk-label-container {text-align: center;}#sk-container-id-1 div.sk-container {/* jupyter's `normalize.less` sets `[hidden] { display: none; }` but bootstrap.min.css set `[hidden] { display: none !important; }` so we also need the `!important` here to be able to override the default hidden behavior on the sphinx rendered scikit-learn.org. See: https://github.com/scikit-learn/scikit-learn/issues/21755 */display: inline-block !important;position: relative;}#sk-container-id-1 div.sk-text-repr-fallback {display: none;}</style><div id=\"sk-container-id-1\" class=\"sk-top-container\"><div class=\"sk-text-repr-fallback\"><pre>LogisticRegression()</pre><b>In a Jupyter environment, please rerun this cell to show the HTML representation or trust the notebook. <br />On GitHub, the HTML representation is unable to render, please try loading this page with nbviewer.org.</b></div><div class=\"sk-container\" hidden><div class=\"sk-item\"><div class=\"sk-estimator sk-toggleable\"><input class=\"sk-toggleable__control sk-hidden--visually\" id=\"sk-estimator-id-1\" type=\"checkbox\" checked><label for=\"sk-estimator-id-1\" class=\"sk-toggleable__label sk-toggleable__label-arrow\">LogisticRegression</label><div class=\"sk-toggleable__content\"><pre>LogisticRegression()</pre></div></div></div></div></div>"
      ],
      "text/plain": [
       "LogisticRegression()"
      ]
     },
     "execution_count": 42,
     "metadata": {},
     "output_type": "execute_result"
    }
   ],
   "source": [
    "mdl.fit(X_train,Y_train)"
   ]
  },
  {
   "cell_type": "code",
   "execution_count": 43,
   "id": "85652015",
   "metadata": {
    "execution": {
     "iopub.execute_input": "2022-01-23T20:23:49.176592Z",
     "iopub.status.busy": "2022-01-23T20:23:49.175983Z",
     "iopub.status.idle": "2022-01-23T20:23:49.182887Z",
     "shell.execute_reply": "2022-01-23T20:23:49.183388Z",
     "shell.execute_reply.started": "2022-01-23T20:21:30.848651Z"
    },
    "papermill": {
     "duration": 0.101284,
     "end_time": "2022-01-23T20:23:49.183541",
     "exception": false,
     "start_time": "2022-01-23T20:23:49.082257",
     "status": "completed"
    },
    "tags": []
   },
   "outputs": [
    {
     "data": {
      "text/plain": [
       "array([0, 0, 1, 0, 0, 0, 1, 1, 1, 0, 0, 0, 1, 0, 1, 0, 0, 0, 0, 1, 0, 0,\n",
       "       0, 1, 0, 0, 1, 0, 0, 1, 1, 1, 0, 0, 0, 0, 1, 0, 1, 1, 1, 0, 0, 0,\n",
       "       0, 0, 0, 1, 0, 0, 0, 1, 1, 0, 0, 0, 1, 0, 1, 0, 0, 0, 1, 0, 1, 0,\n",
       "       1, 1, 0, 0, 1, 0, 0, 0, 0, 0, 0, 0, 0, 0, 0, 0, 0, 1, 0, 0, 0, 0,\n",
       "       1, 0, 0, 1, 1, 1, 0, 0, 0, 1, 1, 0, 1, 0, 1, 1, 0, 0, 1, 1, 0, 1,\n",
       "       1, 1, 0, 0, 1, 1, 1, 1, 0, 1, 0, 0, 0, 0, 0, 0, 0, 0, 0, 0, 1, 1,\n",
       "       0, 0, 1, 1, 1, 0, 1, 0, 1, 0, 1, 1, 1, 1, 0, 1, 0, 1, 0, 0, 1, 1,\n",
       "       1, 0, 0, 0, 0, 0, 1, 1, 0, 1, 0, 1, 0, 1, 1, 0, 0, 0, 1, 1, 0, 0,\n",
       "       0, 0, 0, 0, 0, 0, 0, 1, 0, 0, 0, 0, 0, 1, 0, 1, 1, 0, 1, 0, 0, 0,\n",
       "       0, 0, 0, 1, 1, 1, 1, 1, 0, 0, 0, 0, 0, 1, 0, 1], dtype=int64)"
      ]
     },
     "execution_count": 43,
     "metadata": {},
     "output_type": "execute_result"
    }
   ],
   "source": [
    "pred = mdl.predict(X_test)\n",
    "pred"
   ]
  },
  {
   "cell_type": "code",
   "execution_count": 44,
   "id": "781ab0cb",
   "metadata": {
    "execution": {
     "iopub.execute_input": "2022-01-23T20:23:49.366810Z",
     "iopub.status.busy": "2022-01-23T20:23:49.366201Z",
     "iopub.status.idle": "2022-01-23T20:23:49.368634Z",
     "shell.execute_reply": "2022-01-23T20:23:49.369087Z",
     "shell.execute_reply.started": "2022-01-23T20:21:30.859231Z"
    },
    "papermill": {
     "duration": 0.096993,
     "end_time": "2022-01-23T20:23:49.369233",
     "exception": false,
     "start_time": "2022-01-23T20:23:49.272240",
     "status": "completed"
    },
    "tags": []
   },
   "outputs": [
    {
     "data": {
      "text/plain": [
       "array([0, 1, 1, 1, 1, 0, 0, 0, 1, 0, 0, 0, 1, 0, 1, 0, 0, 0, 0, 0, 0, 0,\n",
       "       1, 1, 0, 0, 0, 0, 0, 0, 1, 1, 0, 0, 0, 0, 0, 1, 1, 1, 1, 1, 0, 1,\n",
       "       0, 0, 0, 1, 0, 1, 0, 1, 1, 0, 0, 0, 1, 0, 1, 0, 1, 0, 1, 0, 0, 0,\n",
       "       0, 0, 0, 0, 1, 1, 0, 0, 1, 0, 0, 0, 0, 0, 0, 0, 0, 1, 0, 0, 0, 0,\n",
       "       1, 0, 0, 1, 1, 1, 0, 0, 0, 1, 1, 1, 1, 1, 1, 1, 0, 0, 1, 1, 0, 1,\n",
       "       0, 1, 0, 0, 1, 1, 0, 1, 0, 1, 0, 0, 0, 0, 0, 1, 1, 0, 0, 0, 1, 1,\n",
       "       1, 0, 1, 1, 1, 0, 1, 0, 1, 0, 1, 1, 0, 1, 0, 1, 0, 1, 1, 0, 1, 0,\n",
       "       0, 1, 0, 1, 1, 0, 0, 1, 1, 1, 0, 1, 0, 0, 1, 0, 0, 0, 1, 1, 0, 0,\n",
       "       0, 0, 0, 0, 0, 1, 0, 0, 0, 0, 0, 0, 0, 0, 0, 1, 1, 0, 1, 0, 0, 0,\n",
       "       0, 1, 0, 1, 1, 1, 1, 0, 0, 0, 0, 0, 0, 0, 1, 1], dtype=int64)"
      ]
     },
     "execution_count": 44,
     "metadata": {},
     "output_type": "execute_result"
    }
   ],
   "source": [
    "Y_test"
   ]
  },
  {
   "cell_type": "code",
   "execution_count": 45,
   "id": "24fc1c96",
   "metadata": {
    "execution": {
     "iopub.execute_input": "2022-01-23T20:23:49.553951Z",
     "iopub.status.busy": "2022-01-23T20:23:49.553319Z",
     "iopub.status.idle": "2022-01-23T20:23:49.556548Z",
     "shell.execute_reply": "2022-01-23T20:23:49.557169Z",
     "shell.execute_reply.started": "2022-01-23T20:21:30.875108Z"
    },
    "papermill": {
     "duration": 0.098395,
     "end_time": "2022-01-23T20:23:49.557327",
     "exception": false,
     "start_time": "2022-01-23T20:23:49.458932",
     "status": "completed"
    },
    "tags": []
   },
   "outputs": [],
   "source": [
    "from sklearn.metrics import accuracy_score, classification_report, confusion_matrix"
   ]
  },
  {
   "cell_type": "code",
   "execution_count": 46,
   "id": "adecee8b",
   "metadata": {
    "execution": {
     "iopub.execute_input": "2022-01-23T20:23:49.745568Z",
     "iopub.status.busy": "2022-01-23T20:23:49.744903Z",
     "iopub.status.idle": "2022-01-23T20:23:49.750898Z",
     "shell.execute_reply": "2022-01-23T20:23:49.750240Z",
     "shell.execute_reply.started": "2022-01-23T20:21:30.885207Z"
    },
    "papermill": {
     "duration": 0.100728,
     "end_time": "2022-01-23T20:23:49.751084",
     "exception": false,
     "start_time": "2022-01-23T20:23:49.650356",
     "status": "completed"
    },
    "tags": []
   },
   "outputs": [
    {
     "name": "stdout",
     "output_type": "stream",
     "text": [
      "0.794392523364486\n"
     ]
    }
   ],
   "source": [
    "print(accuracy_score(Y_test,pred))"
   ]
  },
  {
   "cell_type": "code",
   "execution_count": 47,
   "id": "d5ada052",
   "metadata": {
    "execution": {
     "iopub.execute_input": "2022-01-23T20:23:49.939788Z",
     "iopub.status.busy": "2022-01-23T20:23:49.938737Z",
     "iopub.status.idle": "2022-01-23T20:23:49.947162Z",
     "shell.execute_reply": "2022-01-23T20:23:49.947668Z",
     "shell.execute_reply.started": "2022-01-23T20:21:30.898560Z"
    },
    "papermill": {
     "duration": 0.105416,
     "end_time": "2022-01-23T20:23:49.947840",
     "exception": false,
     "start_time": "2022-01-23T20:23:49.842424",
     "status": "completed"
    },
    "tags": []
   },
   "outputs": [
    {
     "name": "stdout",
     "output_type": "stream",
     "text": [
      "              precision    recall  f1-score   support\n",
      "\n",
      "           0       0.82      0.84      0.83       128\n",
      "           1       0.76      0.72      0.74        86\n",
      "\n",
      "    accuracy                           0.79       214\n",
      "   macro avg       0.79      0.78      0.78       214\n",
      "weighted avg       0.79      0.79      0.79       214\n",
      "\n"
     ]
    }
   ],
   "source": [
    "print(classification_report(Y_test,pred))"
   ]
  },
  {
   "cell_type": "code",
   "execution_count": 48,
   "id": "1893aaa9",
   "metadata": {
    "execution": {
     "iopub.execute_input": "2022-01-23T20:23:50.133586Z",
     "iopub.status.busy": "2022-01-23T20:23:50.132993Z",
     "iopub.status.idle": "2022-01-23T20:23:50.345918Z",
     "shell.execute_reply": "2022-01-23T20:23:50.346416Z",
     "shell.execute_reply.started": "2022-01-23T20:21:30.915815Z"
    },
    "papermill": {
     "duration": 0.307523,
     "end_time": "2022-01-23T20:23:50.346578",
     "exception": false,
     "start_time": "2022-01-23T20:23:50.039055",
     "status": "completed"
    },
    "tags": []
   },
   "outputs": [
    {
     "data": {
      "image/png": "[encoded data removed]",
      "text/plain": [
       "<Figure size 640x480 with 2 Axes>"
      ]
     },
     "metadata": {},
     "output_type": "display_data"
    }
   ],
   "source": [
    "sns.heatmap(confusion_matrix(Y_test,pred), annot=True)\n",
    "plt.show()"
   ]
  },
  {
   "cell_type": "markdown",
   "id": "21117947",
   "metadata": {
    "papermill": {
     "duration": 0.092288,
     "end_time": "2022-01-23T20:23:50.529624",
     "exception": false,
     "start_time": "2022-01-23T20:23:50.437336",
     "status": "completed"
    },
    "tags": []
   },
   "source": [
    "### 2. K-Nearest Neighbors"
   ]
  },
  {
   "cell_type": "code",
   "execution_count": 49,
   "id": "79d620fb",
   "metadata": {
    "execution": {
     "iopub.execute_input": "2022-01-23T20:23:50.719208Z",
     "iopub.status.busy": "2022-01-23T20:23:50.718603Z",
     "iopub.status.idle": "2022-01-23T20:23:50.775073Z",
     "shell.execute_reply": "2022-01-23T20:23:50.775661Z",
     "shell.execute_reply.started": "2022-01-23T20:21:31.148597Z"
    },
    "papermill": {
     "duration": 0.153145,
     "end_time": "2022-01-23T20:23:50.775836",
     "exception": false,
     "start_time": "2022-01-23T20:23:50.622691",
     "status": "completed"
    },
    "tags": []
   },
   "outputs": [],
   "source": [
    "from sklearn.neighbors import KNeighborsClassifier"
   ]
  },
  {
   "cell_type": "code",
   "execution_count": 50,
   "id": "30a5bb56",
   "metadata": {
    "execution": {
     "iopub.execute_input": "2022-01-23T20:23:50.960111Z",
     "iopub.status.busy": "2022-01-23T20:23:50.959110Z",
     "iopub.status.idle": "2022-01-23T20:23:50.963058Z",
     "shell.execute_reply": "2022-01-23T20:23:50.963594Z",
     "shell.execute_reply.started": "2022-01-23T20:21:31.218279Z"
    },
    "papermill": {
     "duration": 0.096655,
     "end_time": "2022-01-23T20:23:50.963757",
     "exception": false,
     "start_time": "2022-01-23T20:23:50.867102",
     "status": "completed"
    },
    "tags": []
   },
   "outputs": [],
   "source": [
    "knn = KNeighborsClassifier(n_neighbors=1)"
   ]
  },
  {
   "cell_type": "code",
   "execution_count": 51,
   "id": "0af2fe7c",
   "metadata": {
    "execution": {
     "iopub.execute_input": "2022-01-23T20:23:51.150310Z",
     "iopub.status.busy": "2022-01-23T20:23:51.149437Z",
     "iopub.status.idle": "2022-01-23T20:23:51.158577Z",
     "shell.execute_reply": "2022-01-23T20:23:51.159141Z",
     "shell.execute_reply.started": "2022-01-23T20:21:31.223641Z"
    },
    "papermill": {
     "duration": 0.104896,
     "end_time": "2022-01-23T20:23:51.159297",
     "exception": false,
     "start_time": "2022-01-23T20:23:51.054401",
     "status": "completed"
    },
    "tags": []
   },
   "outputs": [
    {
     "data": {
      "text/html": [
       "<style>#sk-container-id-2 {color: black;background-color: white;}#sk-container-id-2 pre{padding: 0;}#sk-container-id-2 div.sk-toggleable {background-color: white;}#sk-container-id-2 label.sk-toggleable__label {cursor: pointer;display: block;width: 100%;margin-bottom: 0;padding: 0.3em;box-sizing: border-box;text-align: center;}#sk-container-id-2 label.sk-toggleable__label-arrow:before {content: \"▸\";float: left;margin-right: 0.25em;color: #696969;}#sk-container-id-2 label.sk-toggleable__label-arrow:hover:before {color: black;}#sk-container-id-2 div.sk-estimator:hover label.sk-toggleable__label-arrow:before {color: black;}#sk-container-id-2 div.sk-toggleable__content {max-height: 0;max-width: 0;overflow: hidden;text-align: left;background-color: #f0f8ff;}#sk-container-id-2 div.sk-toggleable__content pre {margin: 0.2em;color: black;border-radius: 0.25em;background-color: #f0f8ff;}#sk-container-id-2 input.sk-toggleable__control:checked~div.sk-toggleable__content {max-height: 200px;max-width: 100%;overflow: auto;}#sk-container-id-2 input.sk-toggleable__control:checked~label.sk-toggleable__label-arrow:before {content: \"▾\";}#sk-container-id-2 div.sk-estimator input.sk-toggleable__control:checked~label.sk-toggleable__label {background-color: #d4ebff;}#sk-container-id-2 div.sk-label input.sk-toggleable__control:checked~label.sk-toggleable__label {background-color: #d4ebff;}#sk-container-id-2 input.sk-hidden--visually {border: 0;clip: rect(1px 1px 1px 1px);clip: rect(1px, 1px, 1px, 1px);height: 1px;margin: -1px;overflow: hidden;padding: 0;position: absolute;width: 1px;}#sk-container-id-2 div.sk-estimator {font-family: monospace;background-color: #f0f8ff;border: 1px dotted black;border-radius: 0.25em;box-sizing: border-box;margin-bottom: 0.5em;}#sk-container-id-2 div.sk-estimator:hover {background-color: #d4ebff;}#sk-container-id-2 div.sk-parallel-item::after {content: \"\";width: 100%;border-bottom: 1px solid gray;flex-grow: 1;}#sk-container-id-2 div.sk-label:hover label.sk-toggleable__label {background-color: #d4ebff;}#sk-container-id-2 div.sk-serial::before {content: \"\";position: absolute;border-left: 1px solid gray;box-sizing: border-box;top: 0;bottom: 0;left: 50%;z-index: 0;}#sk-container-id-2 div.sk-serial {display: flex;flex-direction: column;align-items: center;background-color: white;padding-right: 0.2em;padding-left: 0.2em;position: relative;}#sk-container-id-2 div.sk-item {position: relative;z-index: 1;}#sk-container-id-2 div.sk-parallel {display: flex;align-items: stretch;justify-content: center;background-color: white;position: relative;}#sk-container-id-2 div.sk-item::before, #sk-container-id-2 div.sk-parallel-item::before {content: \"\";position: absolute;border-left: 1px solid gray;box-sizing: border-box;top: 0;bottom: 0;left: 50%;z-index: -1;}#sk-container-id-2 div.sk-parallel-item {display: flex;flex-direction: column;z-index: 1;position: relative;background-color: white;}#sk-container-id-2 div.sk-parallel-item:first-child::after {align-self: flex-end;width: 50%;}#sk-container-id-2 div.sk-parallel-item:last-child::after {align-self: flex-start;width: 50%;}#sk-container-id-2 div.sk-parallel-item:only-child::after {width: 0;}#sk-container-id-2 div.sk-dashed-wrapped {border: 1px dashed gray;margin: 0 0.4em 0.5em 0.4em;box-sizing: border-box;padding-bottom: 0.4em;background-color: white;}#sk-container-id-2 div.sk-label label {font-family: monospace;font-weight: bold;display: inline-block;line-height: 1.2em;}#sk-container-id-2 div.sk-label-container {text-align: center;}#sk-container-id-2 div.sk-container {/* jupyter's `normalize.less` sets `[hidden] { display: none; }` but bootstrap.min.css set `[hidden] { display: none !important; }` so we also need the `!important` here to be able to override the default hidden behavior on the sphinx rendered scikit-learn.org. See: https://github.com/scikit-learn/scikit-learn/issues/21755 */display: inline-block !important;position: relative;}#sk-container-id-2 div.sk-text-repr-fallback {display: none;}</style><div id=\"sk-container-id-2\" class=\"sk-top-container\"><div class=\"sk-text-repr-fallback\"><pre>KNeighborsClassifier(n_neighbors=1)</pre><b>In a Jupyter environment, please rerun this cell to show the HTML representation or trust the notebook. <br />On GitHub, the HTML representation is unable to render, please try loading this page with nbviewer.org.</b></div><div class=\"sk-container\" hidden><div class=\"sk-item\"><div class=\"sk-estimator sk-toggleable\"><input class=\"sk-toggleable__control sk-hidden--visually\" id=\"sk-estimator-id-2\" type=\"checkbox\" checked><label for=\"sk-estimator-id-2\" class=\"sk-toggleable__label sk-toggleable__label-arrow\">KNeighborsClassifier</label><div class=\"sk-toggleable__content\"><pre>KNeighborsClassifier(n_neighbors=1)</pre></div></div></div></div></div>"
      ],
      "text/plain": [
       "KNeighborsClassifier(n_neighbors=1)"
      ]
     },
     "execution_count": 51,
     "metadata": {},
     "output_type": "execute_result"
    }
   ],
   "source": [
    "knn.fit(X_train,Y_train)"
   ]
  },
  {
   "cell_type": "code",
   "execution_count": 52,
   "id": "2e98570d",
   "metadata": {
    "execution": {
     "iopub.execute_input": "2022-01-23T20:23:51.345612Z",
     "iopub.status.busy": "2022-01-23T20:23:51.344669Z",
     "iopub.status.idle": "2022-01-23T20:23:51.361996Z",
     "shell.execute_reply": "2022-01-23T20:23:51.362465Z",
     "shell.execute_reply.started": "2022-01-23T20:21:31.242083Z"
    },
    "papermill": {
     "duration": 0.1118,
     "end_time": "2022-01-23T20:23:51.362617",
     "exception": false,
     "start_time": "2022-01-23T20:23:51.250817",
     "status": "completed"
    },
    "tags": []
   },
   "outputs": [
    {
     "data": {
      "text/plain": [
       "array([0, 1, 1, 0, 0, 0, 1, 0, 0, 0, 0, 1, 0, 1, 1, 0, 0, 0, 0, 1, 0, 1,\n",
       "       1, 0, 0, 1, 0, 0, 1, 1, 1, 1, 0, 0, 0, 0, 1, 0, 0, 1, 1, 0, 0, 1,\n",
       "       0, 0, 0, 1, 0, 0, 1, 1, 0, 0, 0, 1, 1, 0, 1, 0, 0, 0, 0, 0, 1, 0,\n",
       "       1, 1, 0, 0, 1, 0, 0, 1, 1, 1, 0, 0, 0, 0, 0, 0, 1, 0, 0, 0, 0, 1,\n",
       "       0, 0, 1, 1, 1, 1, 0, 0, 0, 1, 1, 1, 1, 0, 1, 1, 0, 0, 1, 1, 0, 0,\n",
       "       1, 1, 1, 0, 1, 1, 1, 1, 0, 1, 0, 0, 0, 1, 0, 1, 1, 0, 0, 1, 1, 1,\n",
       "       0, 1, 1, 1, 1, 0, 1, 0, 1, 0, 1, 1, 0, 0, 1, 1, 0, 1, 1, 0, 0, 0,\n",
       "       1, 0, 0, 0, 0, 0, 0, 0, 1, 1, 0, 1, 0, 1, 1, 0, 0, 0, 1, 1, 0, 0,\n",
       "       1, 0, 0, 0, 0, 0, 1, 0, 0, 0, 0, 0, 0, 1, 0, 1, 1, 0, 1, 0, 1, 0,\n",
       "       0, 1, 0, 1, 0, 1, 1, 1, 0, 0, 0, 0, 0, 0, 0, 1], dtype=int64)"
      ]
     },
     "execution_count": 52,
     "metadata": {},
     "output_type": "execute_result"
    }
   ],
   "source": [
    "knnpredict = knn.predict(X_test)\n",
    "knnpredict"
   ]
  },
  {
   "cell_type": "code",
   "execution_count": 53,
   "id": "e2fb7e82",
   "metadata": {
    "execution": {
     "iopub.execute_input": "2022-01-23T20:23:51.548450Z",
     "iopub.status.busy": "2022-01-23T20:23:51.547573Z",
     "iopub.status.idle": "2022-01-23T20:23:51.552795Z",
     "shell.execute_reply": "2022-01-23T20:23:51.552294Z",
     "shell.execute_reply.started": "2022-01-23T20:21:31.267829Z"
    },
    "papermill": {
     "duration": 0.099323,
     "end_time": "2022-01-23T20:23:51.552922",
     "exception": false,
     "start_time": "2022-01-23T20:23:51.453599",
     "status": "completed"
    },
    "tags": []
   },
   "outputs": [
    {
     "name": "stdout",
     "output_type": "stream",
     "text": [
      "0.719626168224299\n"
     ]
    }
   ],
   "source": [
    "print(accuracy_score(Y_test,knnpredict))"
   ]
  },
  {
   "cell_type": "code",
   "execution_count": 54,
   "id": "f2d96f2f",
   "metadata": {
    "execution": {
     "iopub.execute_input": "2022-01-23T20:23:51.738097Z",
     "iopub.status.busy": "2022-01-23T20:23:51.737497Z",
     "iopub.status.idle": "2022-01-23T20:23:51.744956Z",
     "shell.execute_reply": "2022-01-23T20:23:51.745659Z",
     "shell.execute_reply.started": "2022-01-23T20:21:31.276068Z"
    },
    "papermill": {
     "duration": 0.102282,
     "end_time": "2022-01-23T20:23:51.745858",
     "exception": false,
     "start_time": "2022-01-23T20:23:51.643576",
     "status": "completed"
    },
    "tags": []
   },
   "outputs": [
    {
     "name": "stdout",
     "output_type": "stream",
     "text": [
      "              precision    recall  f1-score   support\n",
      "\n",
      "           0       0.78      0.74      0.76       128\n",
      "           1       0.64      0.69      0.66        86\n",
      "\n",
      "    accuracy                           0.72       214\n",
      "   macro avg       0.71      0.71      0.71       214\n",
      "weighted avg       0.72      0.72      0.72       214\n",
      "\n"
     ]
    }
   ],
   "source": [
    "print(classification_report(Y_test,knnpredict))"
   ]
  },
  {
   "cell_type": "code",
   "execution_count": 55,
   "id": "b91997c3",
   "metadata": {
    "execution": {
     "iopub.execute_input": "2022-01-23T20:23:51.932990Z",
     "iopub.status.busy": "2022-01-23T20:23:51.932387Z",
     "iopub.status.idle": "2022-01-23T20:23:52.140908Z",
     "shell.execute_reply": "2022-01-23T20:23:52.141488Z",
     "shell.execute_reply.started": "2022-01-23T20:21:31.298152Z"
    },
    "papermill": {
     "duration": 0.302202,
     "end_time": "2022-01-23T20:23:52.141676",
     "exception": false,
     "start_time": "2022-01-23T20:23:51.839474",
     "status": "completed"
    },
    "tags": []
   },
   "outputs": [
    {
     "data": {
      "image/png": "[encoded data removed]",
      "text/plain": [
       "<Figure size 640x480 with 2 Axes>"
      ]
     },
     "metadata": {},
     "output_type": "display_data"
    }
   ],
   "source": [
    "sns.heatmap(confusion_matrix(Y_test,knnpredict),annot=True)\n",
    "plt.show()"
   ]
  },
  {
   "cell_type": "markdown",
   "id": "ef31d0b7",
   "metadata": {
    "papermill": {
     "duration": 0.093184,
     "end_time": "2022-01-23T20:23:52.327493",
     "exception": false,
     "start_time": "2022-01-23T20:23:52.234309",
     "status": "completed"
    },
    "tags": []
   },
   "source": [
    "### 3 - Decision Tree"
   ]
  },
  {
   "cell_type": "code",
   "execution_count": 56,
   "id": "6be37c5e",
   "metadata": {
    "execution": {
     "iopub.execute_input": "2022-01-23T20:23:52.519580Z",
     "iopub.status.busy": "2022-01-23T20:23:52.518747Z",
     "iopub.status.idle": "2022-01-23T20:23:52.543722Z",
     "shell.execute_reply": "2022-01-23T20:23:52.544203Z",
     "shell.execute_reply.started": "2022-01-23T20:21:31.545370Z"
    },
    "papermill": {
     "duration": 0.122664,
     "end_time": "2022-01-23T20:23:52.544371",
     "exception": false,
     "start_time": "2022-01-23T20:23:52.421707",
     "status": "completed"
    },
    "tags": []
   },
   "outputs": [],
   "source": [
    "from sklearn.tree import DecisionTreeClassifier"
   ]
  },
  {
   "cell_type": "code",
   "execution_count": 57,
   "id": "7c25ef6e",
   "metadata": {
    "execution": {
     "iopub.execute_input": "2022-01-23T20:23:52.735801Z",
     "iopub.status.busy": "2022-01-23T20:23:52.734829Z",
     "iopub.status.idle": "2022-01-23T20:23:52.738205Z",
     "shell.execute_reply": "2022-01-23T20:23:52.738658Z",
     "shell.execute_reply.started": "2022-01-23T20:21:31.580540Z"
    },
    "papermill": {
     "duration": 0.10072,
     "end_time": "2022-01-23T20:23:52.738805",
     "exception": false,
     "start_time": "2022-01-23T20:23:52.638085",
     "status": "completed"
    },
    "tags": []
   },
   "outputs": [],
   "source": [
    "dtree = DecisionTreeClassifier()"
   ]
  },
  {
   "cell_type": "code",
   "execution_count": 58,
   "id": "4e1c9638",
   "metadata": {
    "execution": {
     "iopub.execute_input": "2022-01-23T20:23:52.937538Z",
     "iopub.status.busy": "2022-01-23T20:23:52.936880Z",
     "iopub.status.idle": "2022-01-23T20:23:52.945772Z",
     "shell.execute_reply": "2022-01-23T20:23:52.946293Z",
     "shell.execute_reply.started": "2022-01-23T20:21:31.588495Z"
    },
    "papermill": {
     "duration": 0.103986,
     "end_time": "2022-01-23T20:23:52.946439",
     "exception": false,
     "start_time": "2022-01-23T20:23:52.842453",
     "status": "completed"
    },
    "tags": []
   },
   "outputs": [
    {
     "data": {
      "text/html": [
       "<style>#sk-container-id-3 {color: black;background-color: white;}#sk-container-id-3 pre{padding: 0;}#sk-container-id-3 div.sk-toggleable {background-color: white;}#sk-container-id-3 label.sk-toggleable__label {cursor: pointer;display: block;width: 100%;margin-bottom: 0;padding: 0.3em;box-sizing: border-box;text-align: center;}#sk-container-id-3 label.sk-toggleable__label-arrow:before {content: \"▸\";float: left;margin-right: 0.25em;color: #696969;}#sk-container-id-3 label.sk-toggleable__label-arrow:hover:before {color: black;}#sk-container-id-3 div.sk-estimator:hover label.sk-toggleable__label-arrow:before {color: black;}#sk-container-id-3 div.sk-toggleable__content {max-height: 0;max-width: 0;overflow: hidden;text-align: left;background-color: #f0f8ff;}#sk-container-id-3 div.sk-toggleable__content pre {margin: 0.2em;color: black;border-radius: 0.25em;background-color: #f0f8ff;}#sk-container-id-3 input.sk-toggleable__control:checked~div.sk-toggleable__content {max-height: 200px;max-width: 100%;overflow: auto;}#sk-container-id-3 input.sk-toggleable__control:checked~label.sk-toggleable__label-arrow:before {content: \"▾\";}#sk-container-id-3 div.sk-estimator input.sk-toggleable__control:checked~label.sk-toggleable__label {background-color: #d4ebff;}#sk-container-id-3 div.sk-label input.sk-toggleable__control:checked~label.sk-toggleable__label {background-color: #d4ebff;}#sk-container-id-3 input.sk-hidden--visually {border: 0;clip: rect(1px 1px 1px 1px);clip: rect(1px, 1px, 1px, 1px);height: 1px;margin: -1px;overflow: hidden;padding: 0;position: absolute;width: 1px;}#sk-container-id-3 div.sk-estimator {font-family: monospace;background-color: #f0f8ff;border: 1px dotted black;border-radius: 0.25em;box-sizing: border-box;margin-bottom: 0.5em;}#sk-container-id-3 div.sk-estimator:hover {background-color: #d4ebff;}#sk-container-id-3 div.sk-parallel-item::after {content: \"\";width: 100%;border-bottom: 1px solid gray;flex-grow: 1;}#sk-container-id-3 div.sk-label:hover label.sk-toggleable__label {background-color: #d4ebff;}#sk-container-id-3 div.sk-serial::before {content: \"\";position: absolute;border-left: 1px solid gray;box-sizing: border-box;top: 0;bottom: 0;left: 50%;z-index: 0;}#sk-container-id-3 div.sk-serial {display: flex;flex-direction: column;align-items: center;background-color: white;padding-right: 0.2em;padding-left: 0.2em;position: relative;}#sk-container-id-3 div.sk-item {position: relative;z-index: 1;}#sk-container-id-3 div.sk-parallel {display: flex;align-items: stretch;justify-content: center;background-color: white;position: relative;}#sk-container-id-3 div.sk-item::before, #sk-container-id-3 div.sk-parallel-item::before {content: \"\";position: absolute;border-left: 1px solid gray;box-sizing: border-box;top: 0;bottom: 0;left: 50%;z-index: -1;}#sk-container-id-3 div.sk-parallel-item {display: flex;flex-direction: column;z-index: 1;position: relative;background-color: white;}#sk-container-id-3 div.sk-parallel-item:first-child::after {align-self: flex-end;width: 50%;}#sk-container-id-3 div.sk-parallel-item:last-child::after {align-self: flex-start;width: 50%;}#sk-container-id-3 div.sk-parallel-item:only-child::after {width: 0;}#sk-container-id-3 div.sk-dashed-wrapped {border: 1px dashed gray;margin: 0 0.4em 0.5em 0.4em;box-sizing: border-box;padding-bottom: 0.4em;background-color: white;}#sk-container-id-3 div.sk-label label {font-family: monospace;font-weight: bold;display: inline-block;line-height: 1.2em;}#sk-container-id-3 div.sk-label-container {text-align: center;}#sk-container-id-3 div.sk-container {/* jupyter's `normalize.less` sets `[hidden] { display: none; }` but bootstrap.min.css set `[hidden] { display: none !important; }` so we also need the `!important` here to be able to override the default hidden behavior on the sphinx rendered scikit-learn.org. See: https://github.com/scikit-learn/scikit-learn/issues/21755 */display: inline-block !important;position: relative;}#sk-container-id-3 div.sk-text-repr-fallback {display: none;}</style><div id=\"sk-container-id-3\" class=\"sk-top-container\"><div class=\"sk-text-repr-fallback\"><pre>DecisionTreeClassifier()</pre><b>In a Jupyter environment, please rerun this cell to show the HTML representation or trust the notebook. <br />On GitHub, the HTML representation is unable to render, please try loading this page with nbviewer.org.</b></div><div class=\"sk-container\" hidden><div class=\"sk-item\"><div class=\"sk-estimator sk-toggleable\"><input class=\"sk-toggleable__control sk-hidden--visually\" id=\"sk-estimator-id-3\" type=\"checkbox\" checked><label for=\"sk-estimator-id-3\" class=\"sk-toggleable__label sk-toggleable__label-arrow\">DecisionTreeClassifier</label><div class=\"sk-toggleable__content\"><pre>DecisionTreeClassifier()</pre></div></div></div></div></div>"
      ],
      "text/plain": [
       "DecisionTreeClassifier()"
      ]
     },
     "execution_count": 58,
     "metadata": {},
     "output_type": "execute_result"
    }
   ],
   "source": [
    "dtree.fit(X_train,Y_train)"
   ]
  },
  {
   "cell_type": "code",
   "execution_count": 59,
   "id": "ad7bf9f4",
   "metadata": {
    "execution": {
     "iopub.execute_input": "2022-01-23T20:23:53.135072Z",
     "iopub.status.busy": "2022-01-23T20:23:53.134497Z",
     "iopub.status.idle": "2022-01-23T20:23:53.141100Z",
     "shell.execute_reply": "2022-01-23T20:23:53.141640Z",
     "shell.execute_reply.started": "2022-01-23T20:21:31.610798Z"
    },
    "papermill": {
     "duration": 0.103273,
     "end_time": "2022-01-23T20:23:53.141788",
     "exception": false,
     "start_time": "2022-01-23T20:23:53.038515",
     "status": "completed"
    },
    "tags": []
   },
   "outputs": [
    {
     "data": {
      "text/plain": [
       "array([0, 0, 1, 0, 0, 0, 1, 1, 1, 0, 0, 0, 1, 0, 1, 0, 0, 0, 0, 1, 0, 1,\n",
       "       1, 1, 0, 1, 0, 0, 0, 0, 1, 1, 0, 0, 0, 0, 1, 0, 0, 1, 1, 0, 0, 1,\n",
       "       0, 0, 1, 1, 0, 0, 1, 1, 0, 1, 1, 0, 1, 0, 1, 0, 0, 0, 0, 0, 1, 0,\n",
       "       1, 1, 0, 0, 1, 1, 0, 0, 1, 0, 0, 0, 0, 0, 0, 0, 0, 1, 0, 0, 0, 1,\n",
       "       0, 0, 0, 1, 1, 1, 0, 0, 0, 1, 1, 0, 0, 0, 1, 1, 0, 1, 1, 1, 0, 1,\n",
       "       1, 1, 1, 0, 1, 1, 1, 1, 0, 1, 0, 0, 0, 1, 1, 1, 0, 0, 0, 0, 1, 1,\n",
       "       0, 1, 1, 1, 1, 0, 1, 1, 1, 0, 1, 1, 0, 0, 1, 1, 0, 1, 1, 0, 0, 1,\n",
       "       0, 0, 0, 0, 0, 0, 0, 1, 0, 1, 0, 1, 0, 1, 1, 0, 0, 0, 1, 1, 0, 0,\n",
       "       1, 0, 0, 0, 0, 0, 0, 0, 0, 0, 0, 0, 0, 1, 0, 1, 1, 0, 1, 0, 0, 1,\n",
       "       0, 1, 0, 1, 0, 1, 1, 0, 0, 0, 0, 0, 0, 0, 1, 0], dtype=int64)"
      ]
     },
     "execution_count": 59,
     "metadata": {},
     "output_type": "execute_result"
    }
   ],
   "source": [
    "treepredict = dtree.predict(X_test)\n",
    "treepredict"
   ]
  },
  {
   "cell_type": "code",
   "execution_count": 60,
   "id": "9a676941",
   "metadata": {
    "execution": {
     "iopub.execute_input": "2022-01-23T20:23:53.328857Z",
     "iopub.status.busy": "2022-01-23T20:23:53.328300Z",
     "iopub.status.idle": "2022-01-23T20:23:53.334884Z",
     "shell.execute_reply": "2022-01-23T20:23:53.334411Z",
     "shell.execute_reply.started": "2022-01-23T20:21:31.623401Z"
    },
    "papermill": {
     "duration": 0.102959,
     "end_time": "2022-01-23T20:23:53.335038",
     "exception": false,
     "start_time": "2022-01-23T20:23:53.232079",
     "status": "completed"
    },
    "tags": []
   },
   "outputs": [
    {
     "name": "stdout",
     "output_type": "stream",
     "text": [
      "0.7523364485981309\n"
     ]
    }
   ],
   "source": [
    "print(accuracy_score(Y_test,treepredict))"
   ]
  },
  {
   "cell_type": "code",
   "execution_count": 61,
   "id": "f51ac764",
   "metadata": {
    "execution": {
     "iopub.execute_input": "2022-01-23T20:23:53.525522Z",
     "iopub.status.busy": "2022-01-23T20:23:53.524906Z",
     "iopub.status.idle": "2022-01-23T20:23:53.533434Z",
     "shell.execute_reply": "2022-01-23T20:23:53.534329Z",
     "shell.execute_reply.started": "2022-01-23T20:21:31.634094Z"
    },
    "papermill": {
     "duration": 0.107556,
     "end_time": "2022-01-23T20:23:53.534568",
     "exception": false,
     "start_time": "2022-01-23T20:23:53.427012",
     "status": "completed"
    },
    "tags": []
   },
   "outputs": [
    {
     "name": "stdout",
     "output_type": "stream",
     "text": [
      "              precision    recall  f1-score   support\n",
      "\n",
      "           0       0.80      0.78      0.79       128\n",
      "           1       0.69      0.71      0.70        86\n",
      "\n",
      "    accuracy                           0.75       214\n",
      "   macro avg       0.74      0.75      0.74       214\n",
      "weighted avg       0.75      0.75      0.75       214\n",
      "\n"
     ]
    }
   ],
   "source": [
    "print(classification_report(Y_test,treepredict))"
   ]
  },
  {
   "cell_type": "code",
   "execution_count": 62,
   "id": "0f64d71d",
   "metadata": {
    "execution": {
     "iopub.execute_input": "2022-01-23T20:23:53.735889Z",
     "iopub.status.busy": "2022-01-23T20:23:53.735263Z",
     "iopub.status.idle": "2022-01-23T20:23:53.951146Z",
     "shell.execute_reply": "2022-01-23T20:23:53.951926Z",
     "shell.execute_reply.started": "2022-01-23T20:21:31.650858Z"
    },
    "papermill": {
     "duration": 0.32004,
     "end_time": "2022-01-23T20:23:53.952120",
     "exception": false,
     "start_time": "2022-01-23T20:23:53.632080",
     "status": "completed"
    },
    "tags": []
   },
   "outputs": [
    {
     "data": {
      "image/png": "[encoded data removed]",
      "text/plain": [
       "<Figure size 640x480 with 2 Axes>"
      ]
     },
     "metadata": {},
     "output_type": "display_data"
    }
   ],
   "source": [
    "sns.heatmap(confusion_matrix(Y_test,treepredict),cmap='coolwarm',annot=True)\n",
    "plt.show()"
   ]
  },
  {
   "cell_type": "markdown",
   "id": "57092ee7",
   "metadata": {
    "papermill": {
     "duration": 0.094774,
     "end_time": "2022-01-23T20:23:54.150446",
     "exception": false,
     "start_time": "2022-01-23T20:23:54.055672",
     "status": "completed"
    },
    "tags": []
   },
   "source": [
    "### 4 - Random Forest"
   ]
  },
  {
   "cell_type": "markdown",
   "id": "2786c8e9",
   "metadata": {
    "papermill": {
     "duration": 0.095706,
     "end_time": "2022-01-23T20:23:54.341551",
     "exception": false,
     "start_time": "2022-01-23T20:23:54.245845",
     "status": "completed"
    },
    "tags": []
   },
   "source": [
    "### <center> 4.1 Random Forest with 10 estimators"
   ]
  },
  {
   "cell_type": "code",
   "execution_count": 105,
   "id": "cd0eeedc",
   "metadata": {
    "execution": {
     "iopub.execute_input": "2022-01-23T20:23:54.537216Z",
     "iopub.status.busy": "2022-01-23T20:23:54.536632Z",
     "iopub.status.idle": "2022-01-23T20:23:54.588430Z",
     "shell.execute_reply": "2022-01-23T20:23:54.589002Z",
     "shell.execute_reply.started": "2022-01-23T20:21:31.904586Z"
    },
    "papermill": {
     "duration": 0.151368,
     "end_time": "2022-01-23T20:23:54.589162",
     "exception": false,
     "start_time": "2022-01-23T20:23:54.437794",
     "status": "completed"
    },
    "tags": []
   },
   "outputs": [
    {
     "data": {
      "text/plain": [
       "RandomForestClassifier(n_estimators=10)"
      ]
     },
     "execution_count": 105,
     "metadata": {},
     "output_type": "execute_result"
    }
   ],
   "source": [
    "from sklearn.ensemble import RandomForestClassifier\n",
    "rfc = RandomForestClassifier(n_estimators= 10)\n",
    "rfc.fit(X_train,Y_train)"
   ]
  },
  {
   "cell_type": "code",
   "execution_count": 106,
   "id": "23c488e7",
   "metadata": {
    "execution": {
     "iopub.execute_input": "2022-01-23T20:23:54.788028Z",
     "iopub.status.busy": "2022-01-23T20:23:54.787421Z",
     "iopub.status.idle": "2022-01-23T20:23:54.796018Z",
     "shell.execute_reply": "2022-01-23T20:23:54.796549Z",
     "shell.execute_reply.started": "2022-01-23T20:21:31.967026Z"
    },
    "papermill": {
     "duration": 0.111102,
     "end_time": "2022-01-23T20:23:54.796698",
     "exception": false,
     "start_time": "2022-01-23T20:23:54.685596",
     "status": "completed"
    },
    "tags": []
   },
   "outputs": [
    {
     "data": {
      "text/plain": [
       "array([0, 0, 1, 0, 0, 0, 1, 1, 1, 0, 0, 0, 1, 1, 1, 0, 0, 0, 0, 1, 0, 1,\n",
       "       0, 1, 0, 0, 1, 0, 0, 0, 1, 1, 0, 0, 0, 0, 1, 0, 0, 1, 1, 0, 0, 1,\n",
       "       0, 0, 0, 1, 0, 0, 0, 1, 0, 0, 1, 0, 1, 0, 1, 0, 0, 0, 0, 0, 1, 0,\n",
       "       1, 1, 0, 0, 1, 0, 0, 0, 1, 0, 0, 0, 0, 0, 0, 0, 0, 1, 0, 0, 0, 0,\n",
       "       0, 0, 0, 1, 1, 1, 0, 0, 0, 1, 1, 0, 1, 0, 1, 0, 0, 0, 1, 1, 0, 1,\n",
       "       0, 1, 1, 0, 1, 1, 1, 1, 0, 1, 0, 0, 0, 0, 0, 1, 0, 0, 0, 1, 1, 1,\n",
       "       0, 0, 1, 1, 1, 0, 1, 0, 1, 0, 1, 1, 0, 0, 0, 1, 0, 1, 1, 0, 0, 0,\n",
       "       0, 0, 0, 0, 0, 0, 1, 0, 0, 1, 0, 1, 0, 1, 1, 0, 0, 0, 1, 1, 0, 0,\n",
       "       1, 0, 0, 0, 0, 0, 0, 0, 0, 0, 0, 0, 0, 1, 0, 1, 1, 0, 1, 0, 0, 0,\n",
       "       0, 1, 0, 1, 0, 1, 1, 1, 0, 0, 0, 0, 0, 0, 0, 1])"
      ]
     },
     "execution_count": 106,
     "metadata": {},
     "output_type": "execute_result"
    }
   ],
   "source": [
    "rfcpredict_10 = rfc.predict(X_test)\n",
    "rfcpredict_10"
   ]
  },
  {
   "cell_type": "code",
   "execution_count": 107,
   "id": "92d7845e",
   "metadata": {
    "execution": {
     "iopub.execute_input": "2022-01-23T20:23:54.988561Z",
     "iopub.status.busy": "2022-01-23T20:23:54.987981Z",
     "iopub.status.idle": "2022-01-23T20:23:54.993608Z",
     "shell.execute_reply": "2022-01-23T20:23:54.992872Z",
     "shell.execute_reply.started": "2022-01-23T20:21:31.980530Z"
    },
    "papermill": {
     "duration": 0.102325,
     "end_time": "2022-01-23T20:23:54.993816",
     "exception": false,
     "start_time": "2022-01-23T20:23:54.891491",
     "status": "completed"
    },
    "tags": []
   },
   "outputs": [
    {
     "name": "stdout",
     "output_type": "stream",
     "text": [
      "0.780373831775701\n"
     ]
    }
   ],
   "source": [
    "print(accuracy_score(Y_test,rfcpredict_10))"
   ]
  },
  {
   "cell_type": "code",
   "execution_count": 108,
   "id": "a90d86ce",
   "metadata": {
    "execution": {
     "iopub.execute_input": "2022-01-23T20:23:55.190286Z",
     "iopub.status.busy": "2022-01-23T20:23:55.189311Z",
     "iopub.status.idle": "2022-01-23T20:23:55.197101Z",
     "shell.execute_reply": "2022-01-23T20:23:55.197995Z",
     "shell.execute_reply.started": "2022-01-23T20:21:31.990555Z"
    },
    "papermill": {
     "duration": 0.108695,
     "end_time": "2022-01-23T20:23:55.198246",
     "exception": false,
     "start_time": "2022-01-23T20:23:55.089551",
     "status": "completed"
    },
    "tags": []
   },
   "outputs": [
    {
     "name": "stdout",
     "output_type": "stream",
     "text": [
      "              precision    recall  f1-score   support\n",
      "\n",
      "           0       0.80      0.85      0.82       128\n",
      "           1       0.75      0.67      0.71        86\n",
      "\n",
      "    accuracy                           0.78       214\n",
      "   macro avg       0.77      0.76      0.77       214\n",
      "weighted avg       0.78      0.78      0.78       214\n",
      "\n"
     ]
    }
   ],
   "source": [
    "print(classification_report(Y_test,rfcpredict_10))"
   ]
  },
  {
   "cell_type": "code",
   "execution_count": 109,
   "id": "ed2e81fa",
   "metadata": {
    "execution": {
     "iopub.execute_input": "2022-01-23T20:23:55.402195Z",
     "iopub.status.busy": "2022-01-23T20:23:55.400026Z",
     "iopub.status.idle": "2022-01-23T20:23:55.615640Z",
     "shell.execute_reply": "2022-01-23T20:23:55.616143Z",
     "shell.execute_reply.started": "2022-01-23T20:21:32.011745Z"
    },
    "papermill": {
     "duration": 0.319138,
     "end_time": "2022-01-23T20:23:55.616317",
     "exception": false,
     "start_time": "2022-01-23T20:23:55.297179",
     "status": "completed"
    },
    "tags": []
   },
   "outputs": [
    {
     "data": {
      "image/png": "[encoded data removed]",
      "text/plain": [
       "<Figure size 432x288 with 2 Axes>"
      ]
     },
     "metadata": {},
     "output_type": "display_data"
    }
   ],
   "source": [
    "sns.heatmap(confusion_matrix(Y_test,rfcpredict_10),cmap='rainbow',annot=True)\n",
    "plt.show()"
   ]
  },
  {
   "cell_type": "markdown",
   "id": "b328f012",
   "metadata": {
    "papermill": {
     "duration": 0.099513,
     "end_time": "2022-01-23T20:23:55.813956",
     "exception": false,
     "start_time": "2022-01-23T20:23:55.714443",
     "status": "completed"
    },
    "tags": []
   },
   "source": [
    "### <center> 4.2 Random Forest with 100 estimators"
   ]
  },
  {
   "cell_type": "code",
   "execution_count": 110,
   "id": "395327e7",
   "metadata": {
    "execution": {
     "iopub.execute_input": "2022-01-23T20:23:56.007678Z",
     "iopub.status.busy": "2022-01-23T20:23:56.007077Z",
     "iopub.status.idle": "2022-01-23T20:23:56.226478Z",
     "shell.execute_reply": "2022-01-23T20:23:56.226974Z",
     "shell.execute_reply.started": "2022-01-23T20:21:32.218849Z"
    },
    "papermill": {
     "duration": 0.318608,
     "end_time": "2022-01-23T20:23:56.227146",
     "exception": false,
     "start_time": "2022-01-23T20:23:55.908538",
     "status": "completed"
    },
    "tags": []
   },
   "outputs": [
    {
     "data": {
      "text/plain": [
       "RandomForestClassifier()"
      ]
     },
     "execution_count": 110,
     "metadata": {},
     "output_type": "execute_result"
    }
   ],
   "source": [
    "rfc_100 = RandomForestClassifier(n_estimators=100)\n",
    "rfc_100.fit(X_train,Y_train)"
   ]
  },
  {
   "cell_type": "code",
   "execution_count": 111,
   "id": "59cb2425",
   "metadata": {
    "execution": {
     "iopub.execute_input": "2022-01-23T20:23:56.430728Z",
     "iopub.status.busy": "2022-01-23T20:23:56.430089Z",
     "iopub.status.idle": "2022-01-23T20:23:56.449312Z",
     "shell.execute_reply": "2022-01-23T20:23:56.449876Z",
     "shell.execute_reply.started": "2022-01-23T20:21:32.450158Z"
    },
    "papermill": {
     "duration": 0.122343,
     "end_time": "2022-01-23T20:23:56.450051",
     "exception": false,
     "start_time": "2022-01-23T20:23:56.327708",
     "status": "completed"
    },
    "tags": []
   },
   "outputs": [
    {
     "data": {
      "text/plain": [
       "array([0, 0, 1, 0, 0, 0, 1, 1, 1, 0, 0, 0, 1, 1, 1, 0, 0, 0, 0, 1, 0, 1,\n",
       "       1, 1, 0, 1, 1, 0, 0, 1, 1, 1, 0, 0, 0, 0, 1, 0, 1, 1, 1, 0, 0, 1,\n",
       "       0, 0, 0, 1, 0, 0, 0, 1, 0, 0, 0, 0, 1, 0, 1, 0, 0, 0, 0, 0, 1, 0,\n",
       "       1, 1, 0, 0, 1, 0, 0, 1, 1, 0, 0, 0, 0, 0, 0, 0, 0, 1, 0, 0, 0, 1,\n",
       "       0, 0, 0, 1, 1, 1, 0, 0, 0, 1, 1, 1, 1, 0, 1, 0, 0, 0, 1, 1, 0, 1,\n",
       "       1, 1, 1, 0, 1, 1, 1, 1, 0, 1, 0, 0, 0, 0, 0, 0, 0, 0, 0, 1, 1, 1,\n",
       "       0, 1, 1, 1, 1, 0, 1, 0, 1, 0, 1, 1, 0, 0, 0, 1, 0, 1, 1, 0, 0, 0,\n",
       "       0, 0, 0, 0, 0, 0, 0, 0, 0, 1, 0, 1, 0, 1, 1, 0, 0, 0, 1, 1, 0, 0,\n",
       "       1, 0, 0, 0, 0, 0, 0, 0, 0, 0, 0, 0, 0, 1, 0, 1, 1, 0, 1, 0, 0, 0,\n",
       "       0, 1, 0, 1, 1, 1, 1, 1, 0, 0, 0, 0, 0, 0, 0, 1])"
      ]
     },
     "execution_count": 111,
     "metadata": {},
     "output_type": "execute_result"
    }
   ],
   "source": [
    "rfcpredict_100 = rfc_100.predict(X_test)\n",
    "rfcpredict_100"
   ]
  },
  {
   "cell_type": "code",
   "execution_count": 112,
   "id": "c1378e28",
   "metadata": {
    "execution": {
     "iopub.execute_input": "2022-01-23T20:23:56.652018Z",
     "iopub.status.busy": "2022-01-23T20:23:56.651400Z",
     "iopub.status.idle": "2022-01-23T20:23:56.656795Z",
     "shell.execute_reply": "2022-01-23T20:23:56.656156Z",
     "shell.execute_reply.started": "2022-01-23T20:21:32.477870Z"
    },
    "papermill": {
     "duration": 0.106932,
     "end_time": "2022-01-23T20:23:56.656989",
     "exception": false,
     "start_time": "2022-01-23T20:23:56.550057",
     "status": "completed"
    },
    "tags": []
   },
   "outputs": [
    {
     "name": "stdout",
     "output_type": "stream",
     "text": [
      "0.7757009345794392\n"
     ]
    }
   ],
   "source": [
    "print(accuracy_score(Y_test,rfcpredict_100))"
   ]
  },
  {
   "cell_type": "code",
   "execution_count": 113,
   "id": "c999f2aa",
   "metadata": {
    "execution": {
     "iopub.execute_input": "2022-01-23T20:23:56.855745Z",
     "iopub.status.busy": "2022-01-23T20:23:56.855192Z",
     "iopub.status.idle": "2022-01-23T20:23:56.863356Z",
     "shell.execute_reply": "2022-01-23T20:23:56.862722Z",
     "shell.execute_reply.started": "2022-01-23T20:21:32.486168Z"
    },
    "papermill": {
     "duration": 0.106695,
     "end_time": "2022-01-23T20:23:56.863501",
     "exception": false,
     "start_time": "2022-01-23T20:23:56.756806",
     "status": "completed"
    },
    "tags": []
   },
   "outputs": [
    {
     "name": "stdout",
     "output_type": "stream",
     "text": [
      "              precision    recall  f1-score   support\n",
      "\n",
      "           0       0.81      0.82      0.81       128\n",
      "           1       0.73      0.71      0.72        86\n",
      "\n",
      "    accuracy                           0.78       214\n",
      "   macro avg       0.77      0.76      0.77       214\n",
      "weighted avg       0.77      0.78      0.78       214\n",
      "\n"
     ]
    }
   ],
   "source": [
    "print(classification_report(Y_test,rfcpredict_100))"
   ]
  },
  {
   "cell_type": "code",
   "execution_count": 114,
   "id": "5d4987c5",
   "metadata": {
    "execution": {
     "iopub.execute_input": "2022-01-23T20:23:57.059984Z",
     "iopub.status.busy": "2022-01-23T20:23:57.059393Z",
     "iopub.status.idle": "2022-01-23T20:23:57.274677Z",
     "shell.execute_reply": "2022-01-23T20:23:57.274154Z",
     "shell.execute_reply.started": "2022-01-23T20:21:32.506363Z"
    },
    "papermill": {
     "duration": 0.313078,
     "end_time": "2022-01-23T20:23:57.274828",
     "exception": false,
     "start_time": "2022-01-23T20:23:56.961750",
     "status": "completed"
    },
    "tags": []
   },
   "outputs": [
    {
     "data": {
      "image/png": "[encoded data removed]",
      "text/plain": [
       "<Figure size 432x288 with 2 Axes>"
      ]
     },
     "metadata": {},
     "output_type": "display_data"
    }
   ],
   "source": [
    "sns.heatmap(confusion_matrix(Y_test,rfcpredict_100),annot= True, cmap='magma')\n",
    "plt.show()"
   ]
  },
  {
   "cell_type": "markdown",
   "id": "e736ab5d",
   "metadata": {
    "papermill": {
     "duration": 0.098619,
     "end_time": "2022-01-23T20:23:57.471251",
     "exception": false,
     "start_time": "2022-01-23T20:23:57.372632",
     "status": "completed"
    },
    "tags": []
   },
   "source": [
    "### 5 - Support Vector Machines"
   ]
  },
  {
   "cell_type": "code",
   "execution_count": 115,
   "id": "a2fb4fce",
   "metadata": {
    "execution": {
     "iopub.execute_input": "2022-01-23T20:23:57.674238Z",
     "iopub.status.busy": "2022-01-23T20:23:57.673285Z",
     "iopub.status.idle": "2022-01-23T20:23:57.676535Z",
     "shell.execute_reply": "2022-01-23T20:23:57.677056Z",
     "shell.execute_reply.started": "2022-01-23T20:21:32.692524Z"
    },
    "papermill": {
     "duration": 0.106545,
     "end_time": "2022-01-23T20:23:57.677198",
     "exception": false,
     "start_time": "2022-01-23T20:23:57.570653",
     "status": "completed"
    },
    "tags": []
   },
   "outputs": [],
   "source": [
    "from sklearn.svm import SVC"
   ]
  },
  {
   "cell_type": "code",
   "execution_count": 116,
   "id": "b7c2fbc3",
   "metadata": {
    "execution": {
     "iopub.execute_input": "2022-01-23T20:23:57.900818Z",
     "iopub.status.busy": "2022-01-23T20:23:57.900225Z",
     "iopub.status.idle": "2022-01-23T20:23:57.914434Z",
     "shell.execute_reply": "2022-01-23T20:23:57.914979Z",
     "shell.execute_reply.started": "2022-01-23T20:21:32.700934Z"
    },
    "papermill": {
     "duration": 0.11923,
     "end_time": "2022-01-23T20:23:57.915145",
     "exception": false,
     "start_time": "2022-01-23T20:23:57.795915",
     "status": "completed"
    },
    "tags": []
   },
   "outputs": [
    {
     "data": {
      "text/plain": [
       "SVC()"
      ]
     },
     "execution_count": 116,
     "metadata": {},
     "output_type": "execute_result"
    }
   ],
   "source": [
    "svc = SVC()\n",
    "svc.fit(X_train, Y_train)"
   ]
  },
  {
   "cell_type": "code",
   "execution_count": 117,
   "id": "bcbfe298",
   "metadata": {
    "execution": {
     "iopub.execute_input": "2022-01-23T20:23:58.116542Z",
     "iopub.status.busy": "2022-01-23T20:23:58.115992Z",
     "iopub.status.idle": "2022-01-23T20:23:58.124510Z",
     "shell.execute_reply": "2022-01-23T20:23:58.125089Z",
     "shell.execute_reply.started": "2022-01-23T20:21:32.724594Z"
    },
    "papermill": {
     "duration": 0.109412,
     "end_time": "2022-01-23T20:23:58.125257",
     "exception": false,
     "start_time": "2022-01-23T20:23:58.015845",
     "status": "completed"
    },
    "tags": []
   },
   "outputs": [
    {
     "data": {
      "text/plain": [
       "array([0, 0, 1, 0, 0, 0, 1, 1, 0, 0, 0, 0, 1, 0, 1, 0, 0, 0, 0, 1, 0, 0,\n",
       "       0, 1, 0, 1, 1, 0, 1, 0, 1, 1, 0, 0, 0, 0, 1, 0, 0, 1, 1, 0, 0, 1,\n",
       "       0, 0, 0, 1, 0, 0, 0, 1, 0, 0, 1, 0, 1, 0, 1, 0, 0, 0, 1, 0, 1, 0,\n",
       "       1, 1, 0, 0, 1, 0, 0, 0, 0, 0, 0, 0, 0, 0, 0, 0, 0, 1, 0, 0, 0, 0,\n",
       "       0, 0, 0, 1, 1, 1, 0, 0, 0, 1, 1, 1, 1, 0, 1, 1, 0, 0, 1, 1, 0, 1,\n",
       "       1, 1, 0, 0, 1, 1, 1, 1, 0, 1, 0, 0, 0, 0, 0, 0, 0, 0, 0, 1, 1, 1,\n",
       "       0, 0, 1, 1, 1, 0, 1, 0, 1, 0, 1, 1, 0, 1, 0, 1, 0, 1, 1, 0, 1, 1,\n",
       "       1, 0, 0, 0, 0, 0, 0, 1, 0, 1, 0, 1, 0, 0, 1, 0, 0, 0, 1, 1, 0, 0,\n",
       "       0, 0, 0, 0, 0, 0, 0, 0, 0, 0, 0, 0, 0, 1, 0, 1, 1, 0, 1, 0, 0, 0,\n",
       "       0, 0, 0, 1, 1, 1, 1, 0, 0, 0, 0, 0, 0, 0, 0, 1])"
      ]
     },
     "execution_count": 117,
     "metadata": {},
     "output_type": "execute_result"
    }
   ],
   "source": [
    "svc_predict = svc.predict(X_test)\n",
    "svc_predict"
   ]
  },
  {
   "cell_type": "code",
   "execution_count": 118,
   "id": "31231092",
   "metadata": {
    "execution": {
     "iopub.execute_input": "2022-01-23T20:23:58.325815Z",
     "iopub.status.busy": "2022-01-23T20:23:58.325247Z",
     "iopub.status.idle": "2022-01-23T20:23:58.330127Z",
     "shell.execute_reply": "2022-01-23T20:23:58.330735Z",
     "shell.execute_reply.started": "2022-01-23T20:21:32.739068Z"
    },
    "papermill": {
     "duration": 0.107936,
     "end_time": "2022-01-23T20:23:58.330954",
     "exception": false,
     "start_time": "2022-01-23T20:23:58.223018",
     "status": "completed"
    },
    "tags": []
   },
   "outputs": [
    {
     "name": "stdout",
     "output_type": "stream",
     "text": [
      "0.8037383177570093\n"
     ]
    }
   ],
   "source": [
    "print(accuracy_score(Y_test,svc_predict))"
   ]
  },
  {
   "cell_type": "code",
   "execution_count": 119,
   "id": "acb9d50c",
   "metadata": {
    "execution": {
     "iopub.execute_input": "2022-01-23T20:23:58.532807Z",
     "iopub.status.busy": "2022-01-23T20:23:58.532219Z",
     "iopub.status.idle": "2022-01-23T20:23:58.540001Z",
     "shell.execute_reply": "2022-01-23T20:23:58.540439Z",
     "shell.execute_reply.started": "2022-01-23T20:21:32.749707Z"
    },
    "papermill": {
     "duration": 0.110189,
     "end_time": "2022-01-23T20:23:58.540620",
     "exception": false,
     "start_time": "2022-01-23T20:23:58.430431",
     "status": "completed"
    },
    "tags": []
   },
   "outputs": [
    {
     "name": "stdout",
     "output_type": "stream",
     "text": [
      "              precision    recall  f1-score   support\n",
      "\n",
      "           0       0.82      0.87      0.84       128\n",
      "           1       0.78      0.71      0.74        86\n",
      "\n",
      "    accuracy                           0.80       214\n",
      "   macro avg       0.80      0.79      0.79       214\n",
      "weighted avg       0.80      0.80      0.80       214\n",
      "\n"
     ]
    }
   ],
   "source": [
    "print(classification_report(Y_test,svc_predict))"
   ]
  },
  {
   "cell_type": "code",
   "execution_count": 120,
   "id": "0d3d5288",
   "metadata": {
    "execution": {
     "iopub.execute_input": "2022-01-23T20:23:58.752043Z",
     "iopub.status.busy": "2022-01-23T20:23:58.751407Z",
     "iopub.status.idle": "2022-01-23T20:23:58.978682Z",
     "shell.execute_reply": "2022-01-23T20:23:58.979201Z",
     "shell.execute_reply.started": "2022-01-23T20:21:32.763397Z"
    },
    "papermill": {
     "duration": 0.335174,
     "end_time": "2022-01-23T20:23:58.979366",
     "exception": false,
     "start_time": "2022-01-23T20:23:58.644192",
     "status": "completed"
    },
    "tags": []
   },
   "outputs": [
    {
     "data": {
      "image/png": "[encoded data removed]",
      "text/plain": [
       "<Figure size 432x288 with 2 Axes>"
      ]
     },
     "metadata": {},
     "output_type": "display_data"
    }
   ],
   "source": [
    "sns.heatmap(confusion_matrix(Y_test,svc_predict),cmap='Dark2',annot=True)\n",
    "plt.show()"
   ]
  }
 ],
 "metadata": {
  "kernelspec": {
   "display_name": "musa-650",
   "language": "python",
   "name": "python3"
  },
  "language_info": {
   "codemirror_mode": {
    "name": "ipython",
    "version": 3
   },
   "file_extension": ".py",
   "mimetype": "text/x-python",
   "name": "python",
   "nbconvert_exporter": "python",
   "pygments_lexer": "ipython3",
   "version": "3.9.15 | packaged by conda-forge | (main, Nov 22 2022, 08:41:22) [MSC v.1929 64 bit (AMD64)]"
  },
  "papermill": {
   "default_parameters": {},
   "duration": 39.450285,
   "end_time": "2022-01-23T20:24:05.532547",
   "environment_variables": {},
   "exception": null,
   "input_path": "__notebook__.ipynb",
   "output_path": "__notebook__.ipynb",
   "parameters": {},
   "start_time": "2022-01-23T20:23:26.082262",
   "version": "2.3.3"
  },
  "vscode": {
   "interpreter": {
    "hash": "8e2173e798964650901316fc8c857ca1161f3b416a8b9004e8c0b53030b4692c"
   }
  }
 },
 "nbformat": 4,
 "nbformat_minor": 5
}
