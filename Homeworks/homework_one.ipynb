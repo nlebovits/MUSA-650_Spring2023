{
 "cells": [
  {
   "cell_type": "markdown",
   "metadata": {},
   "source": [
    "## HW1 - Basics of ML\n",
    "Include your code in the relevant cells below.\n",
    "Subparts labeled as questions (Q1.1, Q1.2, etc.) should have their answers filled in or plots placed prominently, as appropriate."
   ]
  },
  {
   "cell_type": "markdown",
   "metadata": {},
   "source": [
    "#### Important notes: \n",
    "\n",
    "1. On this and future homeworks, depending on the data size and your hardware configuration, experiments may take too long if you use the complete dataset. This may be challenging, as you may need to run multiple experiments. So, if an experiment takes too much time, start first with a smaller sample that will allow you to run your code within a reasonable time. Once you complete all tasks, before the final submission, you can allow longer run times and run your code with the complete set. However, if this is still taking too much time or causing your computer to freeze, it will be OK to submit experiments using a sample size that is feasible for your setting (indicate it clearly in your submission). Grading of the homework will not be affected from this type of variations in the design of your experiments.\n",
    "\n",
    "\n",
    "2. You can switch between 2D image data and 1D vector data using the numpy functions flatten() and resize()"
   ]
  },
  {
   "attachments": {},
   "cell_type": "markdown",
   "metadata": {},
   "source": [
    "### S1. Data Exploration"
   ]
  },
  {
   "cell_type": "code",
   "execution_count": 1,
   "metadata": {},
   "outputs": [],
   "source": [
    "# import libraries\n",
    "\n",
    "import pandas as pandas\n",
    "import numpy as np\n",
    "import matplotlib.pyplot as plt\n",
    "import keras\n",
    "\n",
    "from keras.datasets import mnist\n",
    "\n",
    "(x_test, y_test), (x_train, y_train) = mnist.load_data()"
   ]
  },
  {
   "cell_type": "code",
   "execution_count": null,
   "metadata": {},
   "outputs": [
    {
     "data": {
      "text/plain": [
       "(60000, 28, 28)"
      ]
     },
     "execution_count": 7,
     "metadata": {},
     "output_type": "execute_result"
    }
   ],
   "source": [
    "# check shape of testing data\n",
    "x_test.shape"
   ]
  },
  {
   "attachments": {},
   "cell_type": "markdown",
   "metadata": {},
   "source": [
    "Q1.1: What is the number of features in the testing dataset?"
   ]
  },
  {
   "cell_type": "code",
   "execution_count": 9,
   "metadata": {},
   "outputs": [
    {
     "data": {
      "text/plain": [
       "28"
      ]
     },
     "execution_count": 9,
     "metadata": {},
     "output_type": "execute_result"
    }
   ],
   "source": [
    "x_test.shape[1]"
   ]
  },
  {
   "attachments": {},
   "cell_type": "markdown",
   "metadata": {},
   "source": [
    "Q1.2: What is the number of samples in the testing dataset?"
   ]
  },
  {
   "cell_type": "code",
   "execution_count": 10,
   "metadata": {},
   "outputs": [
    {
     "data": {
      "text/plain": [
       "60000"
      ]
     },
     "execution_count": 10,
     "metadata": {},
     "output_type": "execute_result"
    }
   ],
   "source": [
    "x_test.shape[0]"
   ]
  },
  {
   "attachments": {},
   "cell_type": "markdown",
   "metadata": {},
   "source": [
    "Q1.3: What is the number of features in the testing dataset?"
   ]
  },
  {
   "cell_type": "code",
   "execution_count": 11,
   "metadata": {},
   "outputs": [
    {
     "data": {
      "text/plain": [
       "28"
      ]
     },
     "execution_count": 11,
     "metadata": {},
     "output_type": "execute_result"
    }
   ],
   "source": [
    "x_test.shape[1]"
   ]
  },
  {
   "attachments": {},
   "cell_type": "markdown",
   "metadata": {},
   "source": [
    "Q1.4: What is the number of samples in the testing dataset?"
   ]
  },
  {
   "cell_type": "code",
   "execution_count": 13,
   "metadata": {},
   "outputs": [
    {
     "data": {
      "text/plain": [
       "10000"
      ]
     },
     "execution_count": 13,
     "metadata": {},
     "output_type": "execute_result"
    }
   ],
   "source": [
    "x_test.shape[0]"
   ]
  },
  {
   "attachments": {},
   "cell_type": "markdown",
   "metadata": {},
   "source": [
    "Q1.5: What is the dimensionality of each data sample?"
   ]
  },
  {
   "cell_type": "code",
   "execution_count": 15,
   "metadata": {},
   "outputs": [
    {
     "name": "stdout",
     "output_type": "stream",
     "text": [
      "(60000, 28, 28)\n",
      "(10000, 28, 28)\n"
     ]
    }
   ],
   "source": [
    "# print the dimensionality of x_test\n",
    "print(x_test.shape)\n",
    "\n",
    "# print the dimensionality of x_test\n",
    "print(x_test.shape)"
   ]
  },
  {
   "attachments": {},
   "cell_type": "markdown",
   "metadata": {},
   "source": [
    "View all categories in x_test:"
   ]
  },
  {
   "cell_type": "code",
   "execution_count": 2,
   "metadata": {},
   "outputs": [
    {
     "name": "stdout",
     "output_type": "stream",
     "text": [
      "[0 1 2 3 4 5 6 7 8 9]\n"
     ]
    }
   ],
   "source": [
    "# view all categories in x_test\n",
    "print(np.unique(y_test))\n"
   ]
  },
  {
   "attachments": {},
   "cell_type": "markdown",
   "metadata": {},
   "source": [
    "### S2: Viewing the data"
   ]
  },
  {
   "attachments": {},
   "cell_type": "markdown",
   "metadata": {},
   "source": [
    "Select one random example from each category from the testing set. Display the 2D image with the name of the category."
   ]
  },
  {
   "cell_type": "code",
   "execution_count": 10,
   "metadata": {},
   "outputs": [
    {
     "name": "stderr",
     "output_type": "stream",
     "text": [
      "C:\\Users\\Nissim\\AppData\\Local\\Temp\\ipykernel_53828\\2606748773.py:10: MatplotlibDeprecationWarning: Auto-removal of overlapping axes is deprecated since 3.6 and will be removed two minor releases later; explicitly call ax.remove() as needed.\n",
      "  plt.subplot(3, 4, i + 1)\n"
     ]
    },
    {
     "data": {
      "image/png": "[encoded data removed]",
      "text/plain": [
       "<Figure size 640x480 with 10 Axes>"
      ]
     },
     "metadata": {},
     "output_type": "display_data"
    }
   ],
   "source": [
    "# loop through all categories in x_test\n",
    "for i in range(10):\n",
    "    # select the first image of category i\n",
    "    img = x_test[y_test == i][0]\n",
    "    # plot the image\n",
    "    plt.imshow(img)\n",
    "    # add the name of the category as a title\n",
    "    plt.title(i)\n",
    "    # show the plot in a 3 x 4 grid\n",
    "    plt.subplot(3, 4, i + 1)\n",
    "    \n",
    "    plt.show()"
   ]
  },
  {
   "attachments": {},
   "cell_type": "markdown",
   "metadata": {},
   "source": [
    "### S3: Sub-sampling the data"
   ]
  },
  {
   "attachments": {},
   "cell_type": "markdown",
   "metadata": {},
   "source": [
    "Reduce testing and testing sample sizes by **randomly selecting** %10 of the initial samples from each category."
   ]
  },
  {
   "attachments": {},
   "cell_type": "markdown",
   "metadata": {},
   "source": [
    "testing sample:"
   ]
  },
  {
   "cell_type": "code",
   "execution_count": 14,
   "metadata": {},
   "outputs": [
    {
     "data": {
      "text/plain": [
       "(5996, 28, 28)"
      ]
     },
     "execution_count": 14,
     "metadata": {},
     "output_type": "execute_result"
    }
   ],
   "source": [
    "# create a reduced array by randomly sampling 10% of the initial samples from each category\n",
    "\n",
    "# create a new array; select 10% of the samples of category i\n",
    "\n",
    "x_test_reduced = np.empty((0, x_test.shape[1], x_test.shape[2]))\n",
    "\n",
    "# loop through all categories in x_test\n",
    "\n",
    "for i in range(10):\n",
    "    x_test_reduced = np.append(x_test_reduced, x_test[y_test == i][np.random.choice(x_test[y_test == i].shape[0], int(x_test[y_test == i].shape[0] * 0.1), replace = False)], axis = 0)\n",
    "\n",
    "# check the shape of the new array\n",
    "\n",
    "x_test_reduced.shape"
   ]
  },
  {
   "attachments": {},
   "cell_type": "markdown",
   "metadata": {},
   "source": [
    "Testing sample:"
   ]
  },
  {
   "cell_type": "code",
   "execution_count": 15,
   "metadata": {},
   "outputs": [
    {
     "data": {
      "text/plain": [
       "(996, 28, 28)"
      ]
     },
     "execution_count": 15,
     "metadata": {},
     "output_type": "execute_result"
    }
   ],
   "source": [
    "# create a reduced array by randomly sampling 10% of the initial samples from each category\n",
    "\n",
    "# create a new array; select 10% of the samples of category i\n",
    "\n",
    "x_test_reduced = np.empty((0, x_test.shape[1], x_test.shape[2]))\n",
    "\n",
    "# loop through all categories in x_test\n",
    "\n",
    "for i in range(10):\n",
    "    x_test_reduced = np.append(x_test_reduced, x_test[y_test == i][np.random.choice(x_test[y_test == i].shape[0], int(x_test[y_test == i].shape[0] * 0.1), replace = False)], axis = 0)\n",
    "\n",
    "# check the shape of the new array\n",
    "\n",
    "x_test_reduced.shape"
   ]
  },
  {
   "attachments": {},
   "cell_type": "markdown",
   "metadata": {},
   "source": [
    "### S4: Sub-sampling the data (again)\n",
    "- Reduce testing and testing sample sizes by selecting **the first** %10 of the initial samples\n",
    "\n",
    "Q4.1: What is the distribution of each label in the initial test data (i.e. percentage of each label):   ___\n",
    "\n",
    "Q4.2: What is the distribution of each label in the reduced test data:   ___\n",
    "\n",
    "Q4.3: What are your comments/interpretation on comparison of the results for S3 and S4"
   ]
  },
  {
   "attachments": {},
   "cell_type": "markdown",
   "metadata": {},
   "source": [
    "Reduce testing and testing sample sizes by selecting **the first** %10 of the initial samples."
   ]
  },
  {
   "cell_type": "code",
   "execution_count": 16,
   "metadata": {},
   "outputs": [
    {
     "data": {
      "text/plain": [
       "(5996, 28, 28)"
      ]
     },
     "execution_count": 16,
     "metadata": {},
     "output_type": "execute_result"
    }
   ],
   "source": [
    "# create a reduced array by taking the first 10% of the initial samples from each category\n",
    "\n",
    "# create a new array; select the first 10% of the samples of category i\n",
    "\n",
    "x_test_first_ten_pct = np.empty((0, x_test.shape[1], x_test.shape[2]))\n",
    "\n",
    "# loop through all categories in x_test\n",
    "\n",
    "for i in range(10):\n",
    "    x_test_first_ten_pct = np.append(x_test_first_ten_pct, x_test[y_test == i][:int(x_test[y_test == i].shape[0] * 0.1)], axis = 0)\n",
    "\n",
    "# check the shape of the new array\n",
    "\n",
    "x_test_first_ten_pct.shape"
   ]
  },
  {
   "cell_type": "code",
   "execution_count": null,
   "metadata": {},
   "outputs": [],
   "source": [
    "# create a reduced array by taking the first 10% of the initial samples from each category\n",
    "\n",
    "# create a new array; select the first 10% of the samples of category i\n",
    "\n",
    "x_test_first_ten_pct = np.empty((0, x_test.shape[1], x_test.shape[2]))\n",
    "\n",
    "# loop through all categories in x_test\n",
    "\n",
    "for i in range(10):\n",
    "    x_test_first_ten_pct = np.append(x_test_first_ten_pct, x_test[y_test == i][:int(x_test[y_test == i].shape[0] * 0.1)], axis = 0)\n",
    "\n",
    "# check the shape of the new array\n",
    "\n",
    "x_test_first_ten_pct.shape"
   ]
  },
  {
   "attachments": {},
   "cell_type": "markdown",
   "metadata": {},
   "source": [
    "Q4.1: What is the distribution of each label in the initial test data (i.e. percentage of each label)?"
   ]
  },
  {
   "cell_type": "code",
   "execution_count": null,
   "metadata": {},
   "outputs": [],
   "source": []
  },
  {
   "attachments": {},
   "cell_type": "markdown",
   "metadata": {},
   "source": [
    "Q4.2: What is the distribution of each label in the reduced test data?"
   ]
  },
  {
   "attachments": {},
   "cell_type": "markdown",
   "metadata": {},
   "source": [
    "Q4.3: What are your comments/interpretation on comparison of the results for S3 and S4?"
   ]
  },
  {
   "cell_type": "markdown",
   "metadata": {},
   "source": [
    "#### ! For the rest of the HW, please discard sub-sampled data from S3 and use subsampled data from S4"
   ]
  },
  {
   "attachments": {},
   "cell_type": "markdown",
   "metadata": {},
   "source": [
    "### S5: Exploring the dataset\n",
    "- Select all **test** images in category \"3\". Create and display a single pixel-wise \"average image\" for this category.\n",
    "- Create and display a single pixel-wise \"standard deviation image\" for this category?\n",
    "- Repeat the items above for category \"3\" images in the **test** set. Compare the average and standard deviation images.\n",
    "- Repeat the items above for a different category you select.\n",
    "\n",
    "Q5.1: Plot the 2D mean and std images for category 3 in testing and testing sets:   ___\n",
    "\n",
    "Q5.2: Plot the 2D mean and std images for the category you selected in testing and testing sets:   ___\n",
    "\n",
    "Q5.3: Comment on differences between the mean and std images from testing and testing datasets? ___"
   ]
  },
  {
   "attachments": {},
   "cell_type": "markdown",
   "metadata": {},
   "source": [
    "### S6: Image distances\n",
    "- In the testing set, find the image in category 3 that is most dissimilar to the mean image of category 3. Show it as a 2D image\n",
    "- In the testing set, find the image in category 3 that is most similar to mean image of category 3. Show it as a 2D image\n",
    "- In the testing set, find the image in category 9 that is most similar to mean image of category 3. Show it as a 2D image\n",
    "\n",
    "**Hint:** You can use the \"euclidean distance\" as your similarity metric. Given that an image i is represented with a flattened feature vector v_i , and the second image j with v_m, the distance between these two images can be calculated using the vector norm of their differences ( | v_i - v_j | ) \n",
    "\n",
    "Q6.1: What is the index of most dissimilar image in category 3:   ___\n",
    "\n",
    "Q6.2: Plot the most dissimilar category 3 image in 2D:   ___\n",
    "\n",
    "Q6.3: Plot the most similar category 3 image in 2D:   ___"
   ]
  },
  {
   "cell_type": "markdown",
   "metadata": {},
   "source": [
    "### S7: Image distances, part 2\n",
    "- Repeat questions S3 and S4 after binarizing the images first\n",
    "\n",
    "Q7.1: What is the index of most dis-similar category 3 image:   ___\n",
    "\n",
    "Q7.2: What is the index of most similar category 3 image:   ___\n",
    "\n",
    "Q7.3: Did the answer change after binarization? How do you interprete this finding?:   ___"
   ]
  },
  {
   "attachments": {},
   "cell_type": "markdown",
   "metadata": {},
   "source": [
    "### S8: Binary classification between category 3 and 9  (split test data)\n",
    "- Select images from these two categories in the testing dataset\n",
    "- Split them into two sets (Set1, Set2) with a %60 and %40 random split\n",
    "- Replace category labels as 0 (for 3) and 1 (for 9)\n",
    "- Use Set1 to test a linear SVM classifier with default parameters and predict the class labels for Set2 \n",
    "- Use Set2 to test a linear SVM classifier with default parameters and predict the class labels for Set1 \n",
    "\n",
    "Q8.1: What is the prediction accuracy using the model tested on Set1:   ___\n",
    "\n",
    "Q8.2: What is the prediction accuracy using the model tested on Set2:   ___"
   ]
  },
  {
   "attachments": {},
   "cell_type": "markdown",
   "metadata": {},
   "source": [
    "### S9: Binary classification between category 3 and 9 (test + test sets)\n",
    "- Select images from these two categories in the testing and testing datasets\n",
    "- Replace category labels as 0 (for 3) and 1 (for 9)\n",
    "- Use testing set to test a linear SVM classifier with default parameters and predict the class labels for the testing set\n",
    "- Use testing set to test a linear SVM classifier with default parameters and predict the class labels for the testing set\n",
    "\n",
    "Q9.1: What is the prediction accuracy using the model tested on the testing set:   ___\n",
    "\n",
    "Q9.2: What is the prediction accuracy using the model tested on the testing set:   ___"
   ]
  },
  {
   "attachments": {},
   "cell_type": "markdown",
   "metadata": {},
   "source": [
    "### S10: k-NN Error Analysis\n",
    "- In testing and testing datasets select the images in categories: 1, 3, 5, 7 or 9\n",
    "- test k-NN classifiers using 4 to 40 nearest neighbors with a step size of 4\n",
    "- Calculate and plot overall testing accuracy for each experiment\n",
    "\n",
    "Q10.1: For k=4 what is the label that was predicted with lowest accuracy:   ___\n",
    "\n",
    "Q10.2: For k=20 what is the label that was predicted with lowest accuracy:   ___\n",
    "\n",
    "Q10.3: What is the label pair that was confused most often (i.e. class A is labeled as B, and vice versa):   ___\n",
    "\n",
    "Q10.4: Visualize 5 mislabeled samples with their actual and predicted labels"
   ]
  },
  {
   "attachments": {},
   "cell_type": "markdown",
   "metadata": {},
   "source": [
    "### S11: Feature extraction\n",
    "\n",
    "- We describe each image by using a reduced set of features (compared to n=784 initial features for each pixel value) as follows:\n",
    "  \n",
    "  1. Binarize the image (background=0, foreground=1)\n",
    "\n",
    "  2. For each image row i, find n_i, the sum of 1's in the row (28 features) \n",
    "  \n",
    "  3. For each image column j, find n_j, the sum of 1's in the column (28 features)\n",
    "  \n",
    "  4. Concatenate these features into a feature vector of 56 features\n",
    "  \n",
    "Repeat classification experiments in S9 using this reduced feature set.\n",
    "\n",
    "Q11.1: What is the prediction accuracy using the model tested using the test data:   ___\n",
    "\n",
    "Q11.2: What is the prediction accuracy using the model tested using the test data:   ___\n"
   ]
  },
  {
   "attachments": {},
   "cell_type": "markdown",
   "metadata": {},
   "source": [
    "### Bonus:\n",
    "\n",
    "- This time we describe each 28 x 28 image by using a different feature set (n = 28 x 4 features). This feature set encodes \"index of the first non-zero pixel in image columns or rows\" from each direction (from left, right, top, bottom)\n",
    "\n",
    "Example for a 6 x 6 image:\n",
    "\n",
    "Img:\n",
    " 0 0 0 0 0 0\n",
    " 0 0 0 1 0 0\n",
    " 0 0 0 1 0 0\n",
    " 0 0 0 1 0 0\n",
    " 0 0 0 1 0 0\n",
    " 0 0 0 0 0 0\n",
    " \n",
    "Extracted features:\n",
    " 0 3 3 3 3 0  0 2 2 2 2 0  0 0 0 1 0 0  0 0 0 1 0 0   (left, right, top, bottom)\n",
    "  \n",
    "Repeat classification experiments in S9 using this reduced feature set.\n",
    "\n",
    "Q11.1: What is the prediction accuracy using the model tested using the test data:   ___\n",
    "\n",
    "Q11.2: What is the prediction accuracy using the model tested using the test data:   ___\n"
   ]
  }
 ],
 "metadata": {
  "kernelspec": {
   "display_name": "musa-650",
   "language": "python",
   "name": "python3"
  },
  "language_info": {
   "codemirror_mode": {
    "name": "ipython",
    "version": 3
   },
   "file_extension": ".py",
   "mimetype": "text/x-python",
   "name": "python",
   "nbconvert_exporter": "python",
   "pygments_lexer": "ipython3",
   "version": "3.9.15"
  },
  "vscode": {
   "interpreter": {
    "hash": "8e2173e798964650901316fc8c857ca1161f3b416a8b9004e8c0b53030b4692c"
   }
  }
 },
 "nbformat": 4,
 "nbformat_minor": 2
}
