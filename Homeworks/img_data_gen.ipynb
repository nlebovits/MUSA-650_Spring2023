{
 "cells": [
  {
   "cell_type": "code",
   "execution_count": null,
   "metadata": {
    "collapsed": true
   },
   "outputs": [],
   "source": [
    "import numpy as np\n",
    "import os\n",
    "import skimage.io as skio\n",
    "from skimage import io\n",
    "import matplotlib.pyplot as plt\n",
    "import pandas as pd\n",
    "indir = \"G:/.shortcut-targets-by-id/1w3kIfvkBH_Xa1G856qbgk-8u0IRdcwZ3/MUSA 650 Final Project\"\n",
    "\n",
    "# set the filepath\n",
    "filtered_patches_path = os.path.join(indir, \"filtered_patches\")"
   ]
  },
  {
   "cell_type": "code",
   "execution_count": null,
   "outputs": [],
   "source": [
    "# read all of the .npy arrays in the folder into a single array\n",
    "filtered_patches = []\n",
    "\n",
    "for file in os.listdir(filtered_patches_path):\n",
    "    if file.endswith(\".npy\"):\n",
    "        filtered_patches.append(np.load(os.path.join(filtered_patches_path, file)))"
   ],
   "metadata": {
    "collapsed": false
   }
  },
  {
   "cell_type": "code",
   "execution_count": null,
   "outputs": [],
   "source": [
    "from tensorflow.keras.preprocessing.image import ImageDataGenerator\n",
    "\n",
    "# Create an ImageDataGenerator instance with the desired augmentations\n",
    "datagen = ImageDataGenerator(\n",
    "    horizontal_flip=True,         # Enables horizontal flip\n",
    "    vertical_flip=True,           # Enables vertical flip\n",
    "    brightness_range=(0.5, 1.5)   # Adjusts brightness within the given range (0.5-1.5 times the original brightness)\n",
    ")\n",
    "\n",
    "# Fit the ImageDataGenerator on your data\n",
    "datagen.fit(filtered_patches)"
   ],
   "metadata": {
    "collapsed": false
   }
  },
  {
   "cell_type": "code",
   "execution_count": null,
   "outputs": [],
   "source": [
    "num_samples = filtered_patches.shape[0]\n",
    "\n",
    "# Initialize an empty array to store the augmented images\n",
    "augmented_patches = np.empty_like(filtered_patches)\n",
    "\n",
    "# Generate the augmented data and store it in the augmented_patches array\n",
    "for i, batch in enumerate(datagen.flow(filtered_patches, batch_size=1, shuffle=False)):\n",
    "    augmented_patches[i] = batch[0]\n",
    "\n",
    "    # Stop the loop once all samples have been generated\n",
    "    if i + 1 == num_samples:\n",
    "        break\n",
    "\n",
    "# Combine the original and augmented datasets\n",
    "combined_patches = np.concatenate((filtered_patches, augmented_patches), axis=0)\n",
    "\n",
    "print(\"Filtered array shape:\", filtered_patches.shape)\n",
    "print(\"Augmented array shape:\", augmented_patches.shape)\n",
    "print(\"Combined array shape:\", combined_patches.shape)"
   ],
   "metadata": {
    "collapsed": false
   }
  },
  {
   "cell_type": "code",
   "execution_count": null,
   "outputs": [],
   "source": [
    "# print 5 random patches along with their indices\n",
    "for i in range(5):\n",
    "    index = np.random.randint(0, len(filtered_patches))\n",
    "    print(f\"Index: {index}\")\n",
    "    plt.imshow(filtered_patches[index])\n",
    "    plt.show()"
   ],
   "metadata": {
    "collapsed": false
   }
  }
 ],
 "metadata": {
  "kernelspec": {
   "display_name": "Python 3",
   "language": "python",
   "name": "python3"
  },
  "language_info": {
   "codemirror_mode": {
    "name": "ipython",
    "version": 2
   },
   "file_extension": ".py",
   "mimetype": "text/x-python",
   "name": "python",
   "nbconvert_exporter": "python",
   "pygments_lexer": "ipython2",
   "version": "2.7.6"
  }
 },
 "nbformat": 4,
 "nbformat_minor": 0
}
