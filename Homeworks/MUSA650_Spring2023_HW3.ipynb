{
 "cells": [
  {
   "cell_type": "markdown",
   "metadata": {},
   "source": [
    " ## HW3 - EuroSAT Land Use and Land Cover Classification using Deep Learning\n",
    " \n",
    "In this homework your task is to implement traditional and DL models to solve a typical problem in satellite imaging  using a benchmark dataset.\n"
   ]
  },
  {
   "cell_type": "markdown",
   "metadata": {},
   "source": [
    "### S1: Reading and preparing the data\n",
    "\n",
    "- Visit the EuroSAT data description page and download the data: https://github.com/phelber/eurosat\n",
    "\n",
    "- Create input data and labels for training and testing (X_tr, y_tr, X_te, y_te). \n",
    "\n",
    "    - We will only use the categories \"Forest (F)\", \"Residential (R)\" and \"Industrial (I)\"\n",
    "\n",
    "    - The data will be split into training (60%) and testing sets (40%), stratified on class labels (equal percentage of each category in train and test sets)\n",
    "    \n",
    "    - The data matrix X will be a 2D matrix with size m x n, where m: number of samples, n: number of flattened image pixels\n",
    "    \n",
    "    - Images will be directly read as \"grayscale\" (single image channel, scaled to values 0 to 1). You can use:\n",
    "    \n",
    "    > from skimage import io\n",
    "    \n",
    "    > img = io.imread(img_name, as_gray=True)\n",
    "    \n",
    "    - The labels will be converted to values 0: Forest, 1:Residential, 2:Industrial\n",
    "\n",
    "\n",
    "Q1.1: What are the shapes of X_tr, y_tr, X_te and y_te variables?"
   ]
  },
  {
   "cell_type": "code",
   "execution_count": null,
   "metadata": {},
   "outputs": [],
   "source": []
  },
  {
   "cell_type": "markdown",
   "metadata": {},
   "source": [
    "### S2: Binary classifiers\n",
    "\n",
    "- Implement three binary SVM classifiers (use a linear kernel and default parameters) to classify [F vs R], [F vs I] and [R vs I]\n",
    "\n",
    "- Calculate classification accuracy of each classifier on the test data\n",
    "\n",
    "- Plot the ROC curve of each classifier and calculate the AUC on the test data\n",
    "\n",
    "Q2.1: What is the classification accuracy of each classifier?\n",
    "\n",
    "Q2.2: What is the AUC of each classifier?\n",
    "\n",
    "Q2.3: Show one image that is mis-classified by each classifier."
   ]
  },
  {
   "cell_type": "code",
   "execution_count": null,
   "metadata": {},
   "outputs": [],
   "source": []
  },
  {
   "cell_type": "markdown",
   "metadata": {},
   "source": [
    "### S3: Multi-class classifier via majority voting of binary classifiers\n",
    "\n",
    "- Combine the models trained in S2 to create a 3-class classifier. The combined model will apply each one of the 3 classifiers on the testing data and will apply majority voting to decide the final class of the test sample.\n",
    "\n",
    "- Calculate classification accuracy of the 3-class classifier on the test data.\n",
    "\n",
    "Q3.1: What is the classification accuracy of the classifier?\n"
   ]
  },
  {
   "cell_type": "code",
   "execution_count": null,
   "metadata": {},
   "outputs": [],
   "source": []
  },
  {
   "cell_type": "markdown",
   "metadata": {},
   "source": [
    "### S4: Multi-class Random-Forest classifier\n",
    "\n",
    "- Train a Random-Forest classifier to classify the data into one of the three classes. Use the training data.\n",
    "\n",
    "- Apply the trained model on testing data.\n",
    "\n",
    "Q4.1: What is the classification accuracy of the classifier?\n",
    "\n",
    "Q4.2: Plot the confusion matrix.\n",
    "\n"
   ]
  },
  {
   "cell_type": "code",
   "execution_count": null,
   "metadata": {},
   "outputs": [],
   "source": []
  },
  {
   "cell_type": "markdown",
   "metadata": {},
   "source": [
    "### S5: Fully connected neural network\n",
    "\n",
    "- Implement a deep learning model with fully connected layers, using a single intermediate layer with 128 nodes (i.e: input layer + intermediate layer + output layer).\n",
    "\n",
    "Q5.1: Visualize the network architecture. Refer to https://faroit.com/keras-docs/2.0.8/visualization/ to see the import command and function needed to visualize the architecture.\n",
    "\n",
    "Q5.2: Calculate validation accuracy using the test data as the validation set."
   ]
  },
  {
   "cell_type": "code",
   "execution_count": null,
   "metadata": {},
   "outputs": [],
   "source": []
  },
  {
   "cell_type": "markdown",
   "metadata": {},
   "source": [
    "### S6: Variations of network architectures\n",
    "\n",
    "- Compare the previous network to an alternative one using 4 intermediate layers with 32 nodes in each.\n",
    "\n",
    "Q6.1: Which network has more parameters to learn? How many more parameters?\n",
    "\n",
    "Q6.2: Which network obtained higher validation accuracy?"
   ]
  },
  {
   "cell_type": "code",
   "execution_count": null,
   "metadata": {},
   "outputs": [],
   "source": []
  }
 ],
 "metadata": {
  "kernelspec": {
   "display_name": "Python 3 (ipykernel)",
   "language": "python",
   "name": "python3"
  },
  "language_info": {
   "codemirror_mode": {
    "name": "ipython",
    "version": 3
   },
   "file_extension": ".py",
   "mimetype": "text/x-python",
   "name": "python",
   "nbconvert_exporter": "python",
   "pygments_lexer": "ipython3",
   "version": "3.10.0"
  }
 },
 "nbformat": 4,
 "nbformat_minor": 2
}
