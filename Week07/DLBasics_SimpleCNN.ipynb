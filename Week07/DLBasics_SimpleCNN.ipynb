{
 "cells": [
  {
   "cell_type": "code",
   "execution_count": 1,
   "metadata": {
    "executionInfo": {
     "elapsed": 5610,
     "status": "ok",
     "timestamp": 1647182441919,
     "user": {
      "displayName": "Guray Erus",
      "photoUrl": "https://lh3.googleusercontent.com/a-/AOh14GiGnBNnSM10DAl86Xzx2wV9MnzBNDvcAv6FeVBn=s64",
      "userId": "15374812584437350386"
     },
     "user_tz": 240
    },
    "id": "IzNjrLz5egYl"
   },
   "outputs": [],
   "source": [
    "from __future__ import print_function\n",
    "\n",
    "import tensorflow as tf \n",
    "import keras\n",
    "from keras.datasets import mnist\n",
    "from keras.models import Sequential\n",
    "from keras.layers import Dense, Dropout, Flatten\n",
    "from keras.layers import Conv2D, MaxPooling2D\n",
    "from keras import backend as K\n"
   ]
  },
  {
   "cell_type": "code",
   "execution_count": 2,
   "metadata": {
    "executionInfo": {
     "elapsed": 17,
     "status": "ok",
     "timestamp": 1647182441921,
     "user": {
      "displayName": "Guray Erus",
      "photoUrl": "https://lh3.googleusercontent.com/a-/AOh14GiGnBNnSM10DAl86Xzx2wV9MnzBNDvcAv6FeVBn=s64",
      "userId": "15374812584437350386"
     },
     "user_tz": 240
    },
    "id": "Pz9o_M-KelA9"
   },
   "outputs": [],
   "source": [
    "\n",
    "batch_size = 128\n",
    "num_classes = 10\n",
    "epochs = 12\n",
    "\n",
    "# input image dimensions\n",
    "img_rows, img_cols = 28, 28\n"
   ]
  },
  {
   "cell_type": "code",
   "execution_count": 3,
   "metadata": {
    "colab": {
     "base_uri": "https://localhost:8080/"
    },
    "executionInfo": {
     "elapsed": 814,
     "status": "ok",
     "timestamp": 1647182442720,
     "user": {
      "displayName": "Guray Erus",
      "photoUrl": "https://lh3.googleusercontent.com/a-/AOh14GiGnBNnSM10DAl86Xzx2wV9MnzBNDvcAv6FeVBn=s64",
      "userId": "15374812584437350386"
     },
     "user_tz": 240
    },
    "id": "vcIyvkISepBN",
    "outputId": "ff59c34a-ac89-42f0-8a25-11f5fbd79a09"
   },
   "outputs": [
    {
     "name": "stdout",
     "output_type": "stream",
     "text": [
      "x_train shape: (60000, 28, 28, 1)\n",
      "60000 train samples\n",
      "10000 test samples\n"
     ]
    }
   ],
   "source": [
    "# the data, split between train and test sets\n",
    "(x_train, y_train), (x_test, y_test) = mnist.load_data()\n",
    "\n",
    "if K.image_data_format() == 'channels_first':\n",
    "    x_train = x_train.reshape(x_train.shape[0], 1, img_rows, img_cols)\n",
    "    x_test = x_test.reshape(x_test.shape[0], 1, img_rows, img_cols)\n",
    "    input_shape = (1, img_rows, img_cols)\n",
    "else:\n",
    "    x_train = x_train.reshape(x_train.shape[0], img_rows, img_cols, 1)\n",
    "    x_test = x_test.reshape(x_test.shape[0], img_rows, img_cols, 1)\n",
    "    input_shape = (img_rows, img_cols, 1)\n",
    "\n",
    "x_train = x_train.astype('float32')\n",
    "x_test = x_test.astype('float32')\n",
    "x_train /= 255\n",
    "x_test /= 255\n",
    "print('x_train shape:', x_train.shape)\n",
    "print(x_train.shape[0], 'train samples')\n",
    "print(x_test.shape[0], 'test samples')\n",
    "\n",
    "# convert class vectors to binary class matrices\n",
    "y_train = keras.utils.np_utils.to_categorical(y_train, num_classes)\n",
    "y_test = keras.utils.np_utils.to_categorical(y_test, num_classes)\n"
   ]
  },
  {
   "cell_type": "markdown",
   "metadata": {
    "id": "lHuNjd74UqU2"
   },
   "source": [
    "**Model description**"
   ]
  },
  {
   "cell_type": "code",
   "execution_count": 4,
   "metadata": {
    "executionInfo": {
     "elapsed": 412,
     "status": "ok",
     "timestamp": 1647182443129,
     "user": {
      "displayName": "Guray Erus",
      "photoUrl": "https://lh3.googleusercontent.com/a-/AOh14GiGnBNnSM10DAl86Xzx2wV9MnzBNDvcAv6FeVBn=s64",
      "userId": "15374812584437350386"
     },
     "user_tz": 240
    },
    "id": "T13RpQ0EersL"
   },
   "outputs": [],
   "source": [
    "model = Sequential()\n",
    "model.add(Conv2D(32, kernel_size=(3, 3),\n",
    "                 activation='relu',\n",
    "                 input_shape=input_shape))\n",
    "model.add(Conv2D(64, (3, 3), activation='relu'))\n",
    "model.add(MaxPooling2D(pool_size=(2, 2)))\n",
    "model.add(Dropout(0.25))\n",
    "model.add(Flatten())\n",
    "model.add(Dense(128, activation='relu'))\n",
    "model.add(Dropout(0.5))\n",
    "model.add(Dense(num_classes, activation='softmax'))\n"
   ]
  },
  {
   "cell_type": "markdown",
   "metadata": {
    "id": "2ZVxGWYXUv7T"
   },
   "source": [
    "**Visualize the model**"
   ]
  },
  {
   "cell_type": "code",
   "execution_count": 5,
   "metadata": {
    "colab": {
     "base_uri": "https://localhost:8080/",
     "height": 976
    },
    "executionInfo": {
     "elapsed": 392,
     "status": "ok",
     "timestamp": 1647182443515,
     "user": {
      "displayName": "Guray Erus",
      "photoUrl": "https://lh3.googleusercontent.com/a-/AOh14GiGnBNnSM10DAl86Xzx2wV9MnzBNDvcAv6FeVBn=s64",
      "userId": "15374812584437350386"
     },
     "user_tz": 240
    },
    "id": "4mrZ8ccGUwa0",
    "outputId": "f95fdcf0-506d-49b2-c9f9-e3cca04360f2"
   },
   "outputs": [
    {
     "name": "stdout",
     "output_type": "stream",
     "text": [
      "You must install pydot (`pip install pydot`) and install graphviz (see instructions at https://graphviz.gitlab.io/download/) for plot_model to work.\n"
     ]
    }
   ],
   "source": [
    "from keras.utils.vis_utils import plot_model\n",
    "plot_model(model, show_shapes=True, show_layer_names=True)"
   ]
  },
  {
   "cell_type": "code",
   "execution_count": 6,
   "metadata": {
    "executionInfo": {
     "elapsed": 5,
     "status": "ok",
     "timestamp": 1647182443516,
     "user": {
      "displayName": "Guray Erus",
      "photoUrl": "https://lh3.googleusercontent.com/a-/AOh14GiGnBNnSM10DAl86Xzx2wV9MnzBNDvcAv6FeVBn=s64",
      "userId": "15374812584437350386"
     },
     "user_tz": 240
    },
    "id": "XKCa2OzHeudM"
   },
   "outputs": [],
   "source": [
    "model.compile(loss=keras.losses.categorical_crossentropy,\n",
    "              optimizer=tf.keras.optimizers.Adadelta(),\n",
    "              metrics=['accuracy'])"
   ]
  },
  {
   "cell_type": "code",
   "execution_count": 7,
   "metadata": {
    "colab": {
     "base_uri": "https://localhost:8080/"
    },
    "id": "IzUiciivexFd",
    "executionInfo": {
     "status": "ok",
     "timestamp": 1647184266895,
     "user_tz": 240,
     "elapsed": 1823384,
     "user": {
      "displayName": "Guray Erus",
      "photoUrl": "https://lh3.googleusercontent.com/a-/AOh14GiGnBNnSM10DAl86Xzx2wV9MnzBNDvcAv6FeVBn=s64",
      "userId": "15374812584437350386"
     }
    },
    "outputId": "286b14f8-a367-4863-fa65-f02d8cb4abc3"
   },
   "outputs": [
    {
     "name": "stdout",
     "output_type": "stream",
     "text": [
      "Epoch 1/12\n",
      "469/469 [==============================] - 34s 71ms/step - loss: 2.2907 - accuracy: 0.1259 - val_loss: 2.2650 - val_accuracy: 0.2641\n",
      "Epoch 2/12\n",
      "469/469 [==============================] - 33s 70ms/step - loss: 2.2495 - accuracy: 0.2259 - val_loss: 2.2150 - val_accuracy: 0.4332\n",
      "Epoch 3/12\n",
      "469/469 [==============================] - 33s 70ms/step - loss: 2.1982 - accuracy: 0.3237 - val_loss: 2.1483 - val_accuracy: 0.5829\n",
      "Epoch 4/12\n",
      "469/469 [==============================] - 34s 73ms/step - loss: 2.1270 - accuracy: 0.4069 - val_loss: 2.0567 - val_accuracy: 0.6578\n",
      "Epoch 5/12\n",
      "469/469 [==============================] - 34s 73ms/step - loss: 2.0299 - accuracy: 0.4656 - val_loss: 1.9300 - val_accuracy: 0.7139\n",
      "Epoch 6/12\n",
      "469/469 [==============================] - 34s 73ms/step - loss: 1.9013 - accuracy: 0.5195 - val_loss: 1.7624 - val_accuracy: 0.7503\n",
      "Epoch 7/12\n",
      "469/469 [==============================] - 34s 73ms/step - loss: 1.7436 - accuracy: 0.5644 - val_loss: 1.5579 - val_accuracy: 0.7723\n",
      "Epoch 8/12\n",
      "469/469 [==============================] - 34s 72ms/step - loss: 1.5634 - accuracy: 0.6022 - val_loss: 1.3429 - val_accuracy: 0.7860\n",
      "Epoch 9/12\n",
      "469/469 [==============================] - 34s 73ms/step - loss: 1.3959 - accuracy: 0.6316 - val_loss: 1.1496 - val_accuracy: 0.8017\n",
      "Epoch 10/12\n",
      "469/469 [==============================] - 34s 73ms/step - loss: 1.2487 - accuracy: 0.6596 - val_loss: 0.9920 - val_accuracy: 0.8132\n",
      "Epoch 11/12\n",
      "469/469 [==============================] - 33s 69ms/step - loss: 1.1342 - accuracy: 0.6806 - val_loss: 0.8713 - val_accuracy: 0.8221\n",
      "Epoch 12/12\n",
      "469/469 [==============================] - 30s 64ms/step - loss: 1.0448 - accuracy: 0.6970 - val_loss: 0.7806 - val_accuracy: 0.8328\n"
     ]
    },
    {
     "data": {
      "text/plain": "<keras.callbacks.History at 0x2110368cd30>"
     },
     "execution_count": 7,
     "metadata": {},
     "output_type": "execute_result"
    }
   ],
   "source": [
    "model.fit(x_train, y_train,\n",
    "          batch_size=batch_size,\n",
    "          epochs=epochs,\n",
    "          verbose=1,\n",
    "          validation_data=(x_test, y_test))"
   ]
  },
  {
   "cell_type": "code",
   "execution_count": 8,
   "metadata": {
    "colab": {
     "base_uri": "https://localhost:8080/"
    },
    "executionInfo": {
     "elapsed": 6365,
     "status": "ok",
     "timestamp": 1647184273256,
     "user": {
      "displayName": "Guray Erus",
      "photoUrl": "https://lh3.googleusercontent.com/a-/AOh14GiGnBNnSM10DAl86Xzx2wV9MnzBNDvcAv6FeVBn=s64",
      "userId": "15374812584437350386"
     },
     "user_tz": 240
    },
    "id": "xnZlunVbeg7V",
    "outputId": "e7a3de42-6a43-4982-87d2-b3b8b45f53bf"
   },
   "outputs": [
    {
     "name": "stdout",
     "output_type": "stream",
     "text": [
      "Test loss: 0.7806136608123779\n",
      "Test accuracy: 0.8327999711036682\n"
     ]
    }
   ],
   "source": [
    "\n",
    "score = model.evaluate(x_test, y_test, verbose=0)\n",
    "print('Test loss:', score[0])\n",
    "print('Test accuracy:', score[1])"
   ]
  }
 ],
 "metadata": {
  "colab": {
   "collapsed_sections": [],
   "name": "DLBasics_SimpleCNN.ipynb",
   "provenance": [],
   "authorship_tag": "ABX9TyNqpKyO6I5CukUC8E0gGMAQ"
  },
  "kernelspec": {
   "name": "python3",
   "language": "python",
   "display_name": "Python 3 (ipykernel)"
  }
 },
 "nbformat": 4,
 "nbformat_minor": 0
}
