{
 "cells": [
  {
   "cell_type": "markdown",
   "metadata": {
    "id": "zH0VLogCTY6h"
   },
   "source": [
    "\n",
    "# **Simple multi-layer perceptron**\n"
   ]
  },
  {
   "cell_type": "code",
   "execution_count": 1,
   "metadata": {
    "executionInfo": {
     "elapsed": 176,
     "status": "ok",
     "timestamp": 1647182022785,
     "user": {
      "displayName": "Guray Erus",
      "photoUrl": "https://lh3.googleusercontent.com/a-/AOh14GiGnBNnSM10DAl86Xzx2wV9MnzBNDvcAv6FeVBn=s64",
      "userId": "15374812584437350386"
     },
     "user_tz": 240
    },
    "id": "Krf1wwypTXdp"
   },
   "outputs": [
    {
     "ename": "ModuleNotFoundError",
     "evalue": "No module named 'tensorflow'",
     "output_type": "error",
     "traceback": [
      "\u001B[1;31m---------------------------------------------------------------------------\u001B[0m",
      "\u001B[1;31mModuleNotFoundError\u001B[0m                       Traceback (most recent call last)",
      "\u001B[1;32mc:\\Users\\Nissim\\Desktop\\Spring 2023\\Remote Sensing\\MUSA-650_Spring2023\\Week07\\DL_Basics1_SimpleMLP.ipynb Cell 2\u001B[0m in \u001B[0;36m<cell line: 3>\u001B[1;34m()\u001B[0m\n\u001B[0;32m      <a href='vscode-notebook-cell:/c%3A/Users/Nissim/Desktop/Spring%202023/Remote%20Sensing/MUSA-650_Spring2023/Week07/DL_Basics1_SimpleMLP.ipynb#W1sZmlsZQ%3D%3D?line=0'>1</a>\u001B[0m \u001B[39mfrom\u001B[39;00m \u001B[39m__future__\u001B[39;00m \u001B[39mimport\u001B[39;00m print_function\n\u001B[1;32m----> <a href='vscode-notebook-cell:/c%3A/Users/Nissim/Desktop/Spring%202023/Remote%20Sensing/MUSA-650_Spring2023/Week07/DL_Basics1_SimpleMLP.ipynb#W1sZmlsZQ%3D%3D?line=2'>3</a>\u001B[0m \u001B[39mimport\u001B[39;00m \u001B[39mkeras\u001B[39;00m\n\u001B[0;32m      <a href='vscode-notebook-cell:/c%3A/Users/Nissim/Desktop/Spring%202023/Remote%20Sensing/MUSA-650_Spring2023/Week07/DL_Basics1_SimpleMLP.ipynb#W1sZmlsZQ%3D%3D?line=3'>4</a>\u001B[0m \u001B[39mfrom\u001B[39;00m \u001B[39mkeras\u001B[39;00m\u001B[39m.\u001B[39;00m\u001B[39mdatasets\u001B[39;00m \u001B[39mimport\u001B[39;00m mnist\n\u001B[0;32m      <a href='vscode-notebook-cell:/c%3A/Users/Nissim/Desktop/Spring%202023/Remote%20Sensing/MUSA-650_Spring2023/Week07/DL_Basics1_SimpleMLP.ipynb#W1sZmlsZQ%3D%3D?line=4'>5</a>\u001B[0m \u001B[39mfrom\u001B[39;00m \u001B[39mkeras\u001B[39;00m\u001B[39m.\u001B[39;00m\u001B[39mmodels\u001B[39;00m \u001B[39mimport\u001B[39;00m Sequential\n",
      "File \u001B[1;32mc:\\Users\\Nissim\\AppData\\Local\\R-MINI~1\\envs\\musa-650\\lib\\site-packages\\keras\\__init__.py:21\u001B[0m, in \u001B[0;36m<module>\u001B[1;34m\u001B[0m\n\u001B[0;32m     15\u001B[0m \u001B[39m\"\"\"Implementation of the Keras API, the high-level API of TensorFlow.\u001B[39;00m\n\u001B[0;32m     16\u001B[0m \n\u001B[0;32m     17\u001B[0m \u001B[39mDetailed documentation and user guides are available at\u001B[39;00m\n\u001B[0;32m     18\u001B[0m \u001B[39m[keras.io](https://keras.io).\u001B[39;00m\n\u001B[0;32m     19\u001B[0m \u001B[39m\"\"\"\u001B[39;00m\n\u001B[0;32m     20\u001B[0m \u001B[39mfrom\u001B[39;00m \u001B[39mkeras\u001B[39;00m \u001B[39mimport\u001B[39;00m distribute\n\u001B[1;32m---> 21\u001B[0m \u001B[39mfrom\u001B[39;00m \u001B[39mkeras\u001B[39;00m \u001B[39mimport\u001B[39;00m models\n\u001B[0;32m     22\u001B[0m \u001B[39mfrom\u001B[39;00m \u001B[39mkeras\u001B[39;00m\u001B[39m.\u001B[39;00m\u001B[39mengine\u001B[39;00m\u001B[39m.\u001B[39;00m\u001B[39minput_layer\u001B[39;00m \u001B[39mimport\u001B[39;00m Input\n\u001B[0;32m     23\u001B[0m \u001B[39mfrom\u001B[39;00m \u001B[39mkeras\u001B[39;00m\u001B[39m.\u001B[39;00m\u001B[39mengine\u001B[39;00m\u001B[39m.\u001B[39;00m\u001B[39msequential\u001B[39;00m \u001B[39mimport\u001B[39;00m Sequential\n",
      "File \u001B[1;32mc:\\Users\\Nissim\\AppData\\Local\\R-MINI~1\\envs\\musa-650\\lib\\site-packages\\keras\\models\\__init__.py:18\u001B[0m, in \u001B[0;36m<module>\u001B[1;34m\u001B[0m\n\u001B[0;32m      1\u001B[0m \u001B[39m# Copyright 2022 The TensorFlow Authors. All Rights Reserved.\u001B[39;00m\n\u001B[0;32m      2\u001B[0m \u001B[39m#\u001B[39;00m\n\u001B[0;32m      3\u001B[0m \u001B[39m# Licensed under the Apache License, Version 2.0 (the \"License\");\u001B[39;00m\n\u001B[1;32m   (...)\u001B[0m\n\u001B[0;32m     13\u001B[0m \u001B[39m# limitations under the License.\u001B[39;00m\n\u001B[0;32m     14\u001B[0m \u001B[39m# ==============================================================================\u001B[39;00m\n\u001B[0;32m     15\u001B[0m \u001B[39m\"\"\"Keras models API.\"\"\"\u001B[39;00m\n\u001B[1;32m---> 18\u001B[0m \u001B[39mfrom\u001B[39;00m \u001B[39mkeras\u001B[39;00m\u001B[39m.\u001B[39;00m\u001B[39mengine\u001B[39;00m\u001B[39m.\u001B[39;00m\u001B[39mfunctional\u001B[39;00m \u001B[39mimport\u001B[39;00m Functional\n\u001B[0;32m     19\u001B[0m \u001B[39mfrom\u001B[39;00m \u001B[39mkeras\u001B[39;00m\u001B[39m.\u001B[39;00m\u001B[39mengine\u001B[39;00m\u001B[39m.\u001B[39;00m\u001B[39msequential\u001B[39;00m \u001B[39mimport\u001B[39;00m Sequential\n\u001B[0;32m     20\u001B[0m \u001B[39mfrom\u001B[39;00m \u001B[39mkeras\u001B[39;00m\u001B[39m.\u001B[39;00m\u001B[39mengine\u001B[39;00m\u001B[39m.\u001B[39;00m\u001B[39mtraining\u001B[39;00m \u001B[39mimport\u001B[39;00m Model\n",
      "File \u001B[1;32mc:\\Users\\Nissim\\AppData\\Local\\R-MINI~1\\envs\\musa-650\\lib\\site-packages\\keras\\engine\\functional.py:24\u001B[0m, in \u001B[0;36m<module>\u001B[1;34m\u001B[0m\n\u001B[0;32m     21\u001B[0m \u001B[39mimport\u001B[39;00m \u001B[39mitertools\u001B[39;00m\n\u001B[0;32m     22\u001B[0m \u001B[39mimport\u001B[39;00m \u001B[39mwarnings\u001B[39;00m\n\u001B[1;32m---> 24\u001B[0m \u001B[39mimport\u001B[39;00m \u001B[39mtensorflow\u001B[39;00m\u001B[39m.\u001B[39;00m\u001B[39mcompat\u001B[39;00m\u001B[39m.\u001B[39;00m\u001B[39mv2\u001B[39;00m \u001B[39mas\u001B[39;00m \u001B[39mtf\u001B[39;00m\n\u001B[0;32m     26\u001B[0m \u001B[39mfrom\u001B[39;00m \u001B[39mkeras\u001B[39;00m \u001B[39mimport\u001B[39;00m backend\n\u001B[0;32m     27\u001B[0m \u001B[39mfrom\u001B[39;00m \u001B[39mkeras\u001B[39;00m\u001B[39m.\u001B[39;00m\u001B[39mdtensor\u001B[39;00m \u001B[39mimport\u001B[39;00m layout_map \u001B[39mas\u001B[39;00m layout_map_lib\n",
      "\u001B[1;31mModuleNotFoundError\u001B[0m: No module named 'tensorflow'"
     ]
    }
   ],
   "source": [
    "from __future__ import print_function\n",
    "\n",
    "import keras\n",
    "from keras.datasets import mnist\n",
    "from keras.models import Sequential\n",
    "from keras.layers import Dense, Dropout\n",
    "from keras.utils.np_utils import to_categorical\n",
    "from tensorflow.keras.optimizers import RMSprop\n",
    "import numpy as np"
   ]
  },
  {
   "cell_type": "markdown",
   "metadata": {
    "id": "5B0Jjh9WTWzi"
   },
   "source": [
    "**Set vars, load MNIST (hand written digits) data**"
   ]
  },
  {
   "cell_type": "code",
   "execution_count": null,
   "metadata": {
    "executionInfo": {
     "elapsed": 342,
     "status": "ok",
     "timestamp": 1647182023280,
     "user": {
      "displayName": "Guray Erus",
      "photoUrl": "https://lh3.googleusercontent.com/a-/AOh14GiGnBNnSM10DAl86Xzx2wV9MnzBNDvcAv6FeVBn=s64",
      "userId": "15374812584437350386"
     },
     "user_tz": 240
    },
    "id": "AkMEx7SBajpY"
   },
   "outputs": [],
   "source": [
    "batch_size = 20000\n",
    "num_classes = 10\n",
    "epochs = 5\n",
    "\n",
    "# the data, split between train and test sets\n",
    "(x_train, y_train), (x_test, y_test) = mnist.load_data()\n"
   ]
  },
  {
   "cell_type": "code",
   "execution_count": null,
   "metadata": {
    "colab": {
     "base_uri": "https://localhost:8080/"
    },
    "executionInfo": {
     "elapsed": 9,
     "status": "ok",
     "timestamp": 1647182023280,
     "user": {
      "displayName": "Guray Erus",
      "photoUrl": "https://lh3.googleusercontent.com/a-/AOh14GiGnBNnSM10DAl86Xzx2wV9MnzBNDvcAv6FeVBn=s64",
      "userId": "15374812584437350386"
     },
     "user_tz": 240
    },
    "id": "_ZcqDK4HVeZe",
    "outputId": "3b7179e2-805d-468e-8f72-a9339f2645d3"
   },
   "outputs": [
    {
     "data": {
      "text/plain": [
       "(60000, 28, 28)"
      ]
     },
     "execution_count": 3,
     "metadata": {},
     "output_type": "execute_result"
    }
   ],
   "source": [
    "x_train.shape"
   ]
  },
  {
   "cell_type": "code",
   "execution_count": null,
   "metadata": {
    "colab": {
     "base_uri": "https://localhost:8080/"
    },
    "executionInfo": {
     "elapsed": 7,
     "status": "ok",
     "timestamp": 1647182023281,
     "user": {
      "displayName": "Guray Erus",
      "photoUrl": "https://lh3.googleusercontent.com/a-/AOh14GiGnBNnSM10DAl86Xzx2wV9MnzBNDvcAv6FeVBn=s64",
      "userId": "15374812584437350386"
     },
     "user_tz": 240
    },
    "id": "vYdbeSuHVg1I",
    "outputId": "c07252ef-91da-45bb-d732-232da4967f26"
   },
   "outputs": [
    {
     "data": {
      "text/plain": [
       "5851"
      ]
     },
     "execution_count": 4,
     "metadata": {},
     "output_type": "execute_result"
    }
   ],
   "source": [
    "np.sum(y_train==8)"
   ]
  },
  {
   "cell_type": "markdown",
   "metadata": {
    "id": "nLIcIGRhV3_f"
   },
   "source": [
    "**Visualize data**"
   ]
  },
  {
   "cell_type": "code",
   "execution_count": null,
   "metadata": {
    "colab": {
     "base_uri": "https://localhost:8080/",
     "height": 282
    },
    "executionInfo": {
     "elapsed": 197,
     "status": "ok",
     "timestamp": 1647182023474,
     "user": {
      "displayName": "Guray Erus",
      "photoUrl": "https://lh3.googleusercontent.com/a-/AOh14GiGnBNnSM10DAl86Xzx2wV9MnzBNDvcAv6FeVBn=s64",
      "userId": "15374812584437350386"
     },
     "user_tz": 240
    },
    "id": "6VylhwjlVr4x",
    "outputId": "56820b8d-90e8-48f8-d9ed-342b91ae3660"
   },
   "outputs": [
    {
     "data": {
      "image/png": "[encoded data removed]",
      "text/plain": [
       "<Figure size 640x480 with 1 Axes>"
      ]
     },
     "metadata": {},
     "output_type": "display_data"
    },
    {
     "name": "stdout",
     "output_type": "stream",
     "text": [
      "2\n"
     ]
    }
   ],
   "source": [
    "import matplotlib.pyplot as plt\n",
    "\n",
    "plt.imshow(x_train[3890],cmap=plt.cm.binary)\n",
    "plt.show()\n",
    "x_train[0].shape\n",
    "\n",
    "print(y_train[3890])"
   ]
  },
  {
   "cell_type": "code",
   "execution_count": null,
   "metadata": {
    "colab": {
     "base_uri": "https://localhost:8080/"
    },
    "executionInfo": {
     "elapsed": 7,
     "status": "ok",
     "timestamp": 1647182023475,
     "user": {
      "displayName": "Guray Erus",
      "photoUrl": "https://lh3.googleusercontent.com/a-/AOh14GiGnBNnSM10DAl86Xzx2wV9MnzBNDvcAv6FeVBn=s64",
      "userId": "15374812584437350386"
     },
     "user_tz": 240
    },
    "id": "tmEmkBfZVhou",
    "outputId": "d70c31b5-e38c-40fd-8539-9ebbd4bd6e4f"
   },
   "outputs": [
    {
     "name": "stdout",
     "output_type": "stream",
     "text": [
      "60000 train samples\n",
      "10000 test samples\n"
     ]
    },
    {
     "data": {
      "text/plain": [
       "array([5, 0, 4, 1, 9, 2, 1, 3, 1, 4, 3, 5, 3, 6, 1, 7, 2, 8, 6, 9],\n",
       "      dtype=uint8)"
      ]
     },
     "execution_count": 6,
     "metadata": {},
     "output_type": "execute_result"
    }
   ],
   "source": [
    "x_train = x_train.reshape(60000, 784)\n",
    "x_test = x_test.reshape(10000, 784)\n",
    "x_train = x_train.astype('float32')\n",
    "x_test = x_test.astype('float32')\n",
    "x_train /= 255\n",
    "x_test /= 255\n",
    "print(x_train.shape[0], 'train samples')\n",
    "print(x_test.shape[0], 'test samples')\n",
    "\n",
    "y_train[0:20]"
   ]
  },
  {
   "cell_type": "code",
   "execution_count": null,
   "metadata": {
    "colab": {
     "base_uri": "https://localhost:8080/"
    },
    "executionInfo": {
     "elapsed": 263,
     "status": "ok",
     "timestamp": 1647182023733,
     "user": {
      "displayName": "Guray Erus",
      "photoUrl": "https://lh3.googleusercontent.com/a-/AOh14GiGnBNnSM10DAl86Xzx2wV9MnzBNDvcAv6FeVBn=s64",
      "userId": "15374812584437350386"
     },
     "user_tz": 240
    },
    "id": "BBn9ZkA6p5C4",
    "outputId": "91206eb0-ff21-4e7e-bb91-37f7fdbb44a0"
   },
   "outputs": [
    {
     "data": {
      "text/plain": [
       "(60000,)"
      ]
     },
     "execution_count": 7,
     "metadata": {},
     "output_type": "execute_result"
    }
   ],
   "source": [
    "y_train.shape"
   ]
  },
  {
   "cell_type": "code",
   "execution_count": null,
   "metadata": {
    "colab": {
     "base_uri": "https://localhost:8080/"
    },
    "executionInfo": {
     "elapsed": 18,
     "status": "ok",
     "timestamp": 1647182023734,
     "user": {
      "displayName": "Guray Erus",
      "photoUrl": "https://lh3.googleusercontent.com/a-/AOh14GiGnBNnSM10DAl86Xzx2wV9MnzBNDvcAv6FeVBn=s64",
      "userId": "15374812584437350386"
     },
     "user_tz": 240
    },
    "id": "7hAU2yCAarX6",
    "outputId": "b4849c41-78a5-45cb-a1ab-3ebc95776c44"
   },
   "outputs": [
    {
     "data": {
      "text/plain": [
       "(60000, 10)"
      ]
     },
     "execution_count": 8,
     "metadata": {},
     "output_type": "execute_result"
    }
   ],
   "source": [
    "# convert class vectors to binary class matrices\n",
    "y_train = to_categorical(y_train, num_classes)\n",
    "y_test = to_categorical(y_test, num_classes)\n",
    "\n",
    "y_train.shape"
   ]
  },
  {
   "cell_type": "code",
   "execution_count": null,
   "metadata": {
    "colab": {
     "base_uri": "https://localhost:8080/"
    },
    "executionInfo": {
     "elapsed": 16,
     "status": "ok",
     "timestamp": 1647182023735,
     "user": {
      "displayName": "Guray Erus",
      "photoUrl": "https://lh3.googleusercontent.com/a-/AOh14GiGnBNnSM10DAl86Xzx2wV9MnzBNDvcAv6FeVBn=s64",
      "userId": "15374812584437350386"
     },
     "user_tz": 240
    },
    "id": "QktvqwX-qA7A",
    "outputId": "51cab9b9-c72e-48cb-a68f-ee51ec365b17"
   },
   "outputs": [
    {
     "data": {
      "text/plain": [
       "array([[0., 0., 0., 0., 0., 1., 0., 0., 0., 0.],\n",
       "       [1., 0., 0., 0., 0., 0., 0., 0., 0., 0.],\n",
       "       [0., 0., 0., 0., 1., 0., 0., 0., 0., 0.],\n",
       "       [0., 1., 0., 0., 0., 0., 0., 0., 0., 0.],\n",
       "       [0., 0., 0., 0., 0., 0., 0., 0., 0., 1.],\n",
       "       [0., 0., 1., 0., 0., 0., 0., 0., 0., 0.],\n",
       "       [0., 1., 0., 0., 0., 0., 0., 0., 0., 0.],\n",
       "       [0., 0., 0., 1., 0., 0., 0., 0., 0., 0.],\n",
       "       [0., 1., 0., 0., 0., 0., 0., 0., 0., 0.],\n",
       "       [0., 0., 0., 0., 1., 0., 0., 0., 0., 0.],\n",
       "       [0., 0., 0., 1., 0., 0., 0., 0., 0., 0.],\n",
       "       [0., 0., 0., 0., 0., 1., 0., 0., 0., 0.],\n",
       "       [0., 0., 0., 1., 0., 0., 0., 0., 0., 0.],\n",
       "       [0., 0., 0., 0., 0., 0., 1., 0., 0., 0.],\n",
       "       [0., 1., 0., 0., 0., 0., 0., 0., 0., 0.],\n",
       "       [0., 0., 0., 0., 0., 0., 0., 1., 0., 0.],\n",
       "       [0., 0., 1., 0., 0., 0., 0., 0., 0., 0.],\n",
       "       [0., 0., 0., 0., 0., 0., 0., 0., 1., 0.],\n",
       "       [0., 0., 0., 0., 0., 0., 1., 0., 0., 0.],\n",
       "       [0., 0., 0., 0., 0., 0., 0., 0., 0., 1.]], dtype=float32)"
      ]
     },
     "execution_count": 9,
     "metadata": {},
     "output_type": "execute_result"
    }
   ],
   "source": [
    "y_train[0:20,:]"
   ]
  },
  {
   "cell_type": "markdown",
   "metadata": {
    "id": "A6fsLFNuToGT"
   },
   "source": [
    "**Model description**\n",
    "\n",
    "- Put the \"lego blocks\" together\n"
   ]
  },
  {
   "cell_type": "code",
   "execution_count": null,
   "metadata": {
    "colab": {
     "base_uri": "https://localhost:8080/"
    },
    "executionInfo": {
     "elapsed": 16,
     "status": "ok",
     "timestamp": 1647182023736,
     "user": {
      "displayName": "Guray Erus",
      "photoUrl": "https://lh3.googleusercontent.com/a-/AOh14GiGnBNnSM10DAl86Xzx2wV9MnzBNDvcAv6FeVBn=s64",
      "userId": "15374812584437350386"
     },
     "user_tz": 240
    },
    "id": "da2g0aUtasqZ",
    "outputId": "35342bb9-6661-4d97-d442-8530f5d5717a"
   },
   "outputs": [
    {
     "name": "stdout",
     "output_type": "stream",
     "text": [
      "Model: \"sequential\"\n",
      "_________________________________________________________________\n",
      " Layer (type)                Output Shape              Param #   \n",
      "=================================================================\n",
      " dense (Dense)               (None, 512)               401920    \n",
      "                                                                 \n",
      " dense_1 (Dense)             (None, 10)                5130      \n",
      "                                                                 \n",
      "=================================================================\n",
      "Total params: 407,050\n",
      "Trainable params: 407,050\n",
      "Non-trainable params: 0\n",
      "_________________________________________________________________\n"
     ]
    }
   ],
   "source": [
    "model = Sequential()\n",
    "model.add(Dense(512, activation='relu', input_shape=(784,)))\n",
    "#model.add(Dropout(0.2))\n",
    "#model.add(Dense(512, activation='relu'))\n",
    "#model.add(Dropout(0.2))\n",
    "model.add(Dense(num_classes, activation='softmax'))\n",
    "\n",
    "model.summary()"
   ]
  },
  {
   "cell_type": "markdown",
   "metadata": {
    "id": "rhe2oZUrT22k"
   },
   "source": [
    "**Visualization of the model**"
   ]
  },
  {
   "cell_type": "code",
   "execution_count": null,
   "metadata": {
    "colab": {
     "base_uri": "https://localhost:8080/",
     "height": 312
    },
    "executionInfo": {
     "elapsed": 11,
     "status": "ok",
     "timestamp": 1647182023737,
     "user": {
      "displayName": "Guray Erus",
      "photoUrl": "https://lh3.googleusercontent.com/a-/AOh14GiGnBNnSM10DAl86Xzx2wV9MnzBNDvcAv6FeVBn=s64",
      "userId": "15374812584437350386"
     },
     "user_tz": 240
    },
    "id": "jKNUlY_qR-wR",
    "outputId": "d8720f88-2cea-4520-842e-1748546bba8a"
   },
   "outputs": [
    {
     "name": "stdout",
     "output_type": "stream",
     "text": [
      "You must install pydot (`pip install pydot`) and install graphviz (see instructions at https://graphviz.gitlab.io/download/) for plot_model to work.\n"
     ]
    }
   ],
   "source": [
    "from keras.utils.vis_utils import plot_model\n",
    "\n",
    "#plot_model(model, to_file='model_plot.png', show_shapes=True, show_layer_names=True)\n",
    "plot_model(model, show_shapes=True, show_layer_names=True)"
   ]
  },
  {
   "cell_type": "markdown",
   "metadata": {
    "id": "wxr8cUXYUMFG"
   },
   "source": [
    "**Compile the model**"
   ]
  },
  {
   "cell_type": "code",
   "execution_count": null,
   "metadata": {
    "executionInfo": {
     "elapsed": 9,
     "status": "ok",
     "timestamp": 1647182023737,
     "user": {
      "displayName": "Guray Erus",
      "photoUrl": "https://lh3.googleusercontent.com/a-/AOh14GiGnBNnSM10DAl86Xzx2wV9MnzBNDvcAv6FeVBn=s64",
      "userId": "15374812584437350386"
     },
     "user_tz": 240
    },
    "id": "9wfzDgzIavDY"
   },
   "outputs": [],
   "source": [
    "model.compile(loss='categorical_crossentropy',\n",
    "              optimizer=RMSprop(),\n",
    "              metrics=['accuracy'])"
   ]
  },
  {
   "cell_type": "markdown",
   "metadata": {
    "id": "GDsuGn2wUUkl"
   },
   "source": [
    "**Fit the model**"
   ]
  },
  {
   "cell_type": "code",
   "execution_count": null,
   "metadata": {
    "colab": {
     "base_uri": "https://localhost:8080/"
    },
    "executionInfo": {
     "elapsed": 83954,
     "status": "ok",
     "timestamp": 1647182107819,
     "user": {
      "displayName": "Guray Erus",
      "photoUrl": "https://lh3.googleusercontent.com/a-/AOh14GiGnBNnSM10DAl86Xzx2wV9MnzBNDvcAv6FeVBn=s64",
      "userId": "15374812584437350386"
     },
     "user_tz": 240
    },
    "id": "rIMwjczibWT1",
    "outputId": "315e84e7-2f8f-4067-a2fa-3ca6ba45edcf"
   },
   "outputs": [
    {
     "name": "stdout",
     "output_type": "stream",
     "text": [
      "Epoch 1/50\n",
      "3/3 [==============================] - 1s 160ms/step - loss: 1.8394 - accuracy: 0.4392 - val_loss: 1.1835 - val_accuracy: 0.6733\n",
      "Epoch 2/50\n",
      "3/3 [==============================] - 0s 111ms/step - loss: 1.0803 - accuracy: 0.6954 - val_loss: 0.8325 - val_accuracy: 0.7601\n",
      "Epoch 3/50\n",
      "3/3 [==============================] - 0s 121ms/step - loss: 0.7722 - accuracy: 0.7961 - val_loss: 0.6315 - val_accuracy: 0.8566\n",
      "Epoch 4/50\n",
      "3/3 [==============================] - 0s 123ms/step - loss: 0.6296 - accuracy: 0.8442 - val_loss: 0.5795 - val_accuracy: 0.8418\n",
      "Epoch 5/50\n",
      "3/3 [==============================] - 0s 126ms/step - loss: 0.5886 - accuracy: 0.8389 - val_loss: 0.4998 - val_accuracy: 0.8756\n",
      "Epoch 6/50\n",
      "3/3 [==============================] - 0s 115ms/step - loss: 0.5024 - accuracy: 0.8722 - val_loss: 0.4487 - val_accuracy: 0.8889\n",
      "Epoch 7/50\n",
      "3/3 [==============================] - 0s 119ms/step - loss: 0.4582 - accuracy: 0.8812 - val_loss: 0.4298 - val_accuracy: 0.8888\n",
      "Epoch 8/50\n",
      "3/3 [==============================] - 0s 108ms/step - loss: 0.4551 - accuracy: 0.8714 - val_loss: 0.4315 - val_accuracy: 0.8696\n",
      "Epoch 9/50\n",
      "3/3 [==============================] - 0s 115ms/step - loss: 0.4492 - accuracy: 0.8683 - val_loss: 0.3949 - val_accuracy: 0.8962\n",
      "Epoch 10/50\n",
      "3/3 [==============================] - 0s 120ms/step - loss: 0.3930 - accuracy: 0.8938 - val_loss: 0.3462 - val_accuracy: 0.9093\n",
      "Epoch 11/50\n",
      "3/3 [==============================] - 0s 110ms/step - loss: 0.3581 - accuracy: 0.9065 - val_loss: 0.3327 - val_accuracy: 0.9143\n",
      "Epoch 12/50\n",
      "3/3 [==============================] - 0s 108ms/step - loss: 0.3469 - accuracy: 0.9077 - val_loss: 0.3408 - val_accuracy: 0.9056\n",
      "Epoch 13/50\n",
      "3/3 [==============================] - 0s 117ms/step - loss: 0.3687 - accuracy: 0.8939 - val_loss: 0.3507 - val_accuracy: 0.8995\n",
      "Epoch 14/50\n",
      "3/3 [==============================] - 0s 130ms/step - loss: 0.3503 - accuracy: 0.9012 - val_loss: 0.3280 - val_accuracy: 0.9070\n",
      "Epoch 15/50\n",
      "3/3 [==============================] - 0s 113ms/step - loss: 0.3479 - accuracy: 0.8991 - val_loss: 0.3244 - val_accuracy: 0.9032\n",
      "Epoch 16/50\n",
      "3/3 [==============================] - 0s 112ms/step - loss: 0.3249 - accuracy: 0.9059 - val_loss: 0.2967 - val_accuracy: 0.9177\n",
      "Epoch 17/50\n",
      "3/3 [==============================] - 0s 113ms/step - loss: 0.3087 - accuracy: 0.9147 - val_loss: 0.3018 - val_accuracy: 0.9120\n",
      "Epoch 18/50\n",
      "3/3 [==============================] - 0s 107ms/step - loss: 0.3099 - accuracy: 0.9119 - val_loss: 0.2899 - val_accuracy: 0.9218\n",
      "Epoch 19/50\n",
      "3/3 [==============================] - 0s 118ms/step - loss: 0.2973 - accuracy: 0.9170 - val_loss: 0.2808 - val_accuracy: 0.9204\n",
      "Epoch 20/50\n",
      "3/3 [==============================] - 0s 128ms/step - loss: 0.2891 - accuracy: 0.9190 - val_loss: 0.2737 - val_accuracy: 0.9237\n",
      "Epoch 21/50\n",
      "3/3 [==============================] - 0s 145ms/step - loss: 0.2831 - accuracy: 0.9201 - val_loss: 0.2687 - val_accuracy: 0.9246\n",
      "Epoch 22/50\n",
      "3/3 [==============================] - 0s 120ms/step - loss: 0.2723 - accuracy: 0.9240 - val_loss: 0.2589 - val_accuracy: 0.9281\n",
      "Epoch 23/50\n",
      "3/3 [==============================] - 0s 122ms/step - loss: 0.2648 - accuracy: 0.9255 - val_loss: 0.2607 - val_accuracy: 0.9268\n",
      "Epoch 24/50\n",
      "3/3 [==============================] - 0s 111ms/step - loss: 0.2755 - accuracy: 0.9208 - val_loss: 0.2748 - val_accuracy: 0.9172\n",
      "Epoch 25/50\n",
      "3/3 [==============================] - 0s 118ms/step - loss: 0.2778 - accuracy: 0.9185 - val_loss: 0.2533 - val_accuracy: 0.9266\n",
      "Epoch 26/50\n",
      "3/3 [==============================] - 0s 110ms/step - loss: 0.2562 - accuracy: 0.9281 - val_loss: 0.2366 - val_accuracy: 0.9343\n",
      "Epoch 27/50\n",
      "3/3 [==============================] - 0s 129ms/step - loss: 0.2367 - accuracy: 0.9350 - val_loss: 0.2247 - val_accuracy: 0.9359\n",
      "Epoch 28/50\n",
      "3/3 [==============================] - 0s 108ms/step - loss: 0.2298 - accuracy: 0.9370 - val_loss: 0.2208 - val_accuracy: 0.9392\n",
      "Epoch 29/50\n",
      "3/3 [==============================] - 0s 108ms/step - loss: 0.2292 - accuracy: 0.9364 - val_loss: 0.2295 - val_accuracy: 0.9352\n",
      "Epoch 30/50\n",
      "3/3 [==============================] - 0s 110ms/step - loss: 0.2427 - accuracy: 0.9307 - val_loss: 0.2446 - val_accuracy: 0.9278\n",
      "Epoch 31/50\n",
      "3/3 [==============================] - 0s 108ms/step - loss: 0.2433 - accuracy: 0.9297 - val_loss: 0.2371 - val_accuracy: 0.9299\n",
      "Epoch 32/50\n",
      "3/3 [==============================] - 0s 105ms/step - loss: 0.2423 - accuracy: 0.9282 - val_loss: 0.2295 - val_accuracy: 0.9322\n",
      "Epoch 33/50\n",
      "3/3 [==============================] - 0s 106ms/step - loss: 0.2261 - accuracy: 0.9356 - val_loss: 0.2082 - val_accuracy: 0.9413\n",
      "Epoch 34/50\n",
      "3/3 [==============================] - 0s 123ms/step - loss: 0.2095 - accuracy: 0.9414 - val_loss: 0.2017 - val_accuracy: 0.9411\n",
      "Epoch 35/50\n",
      "3/3 [==============================] - 0s 112ms/step - loss: 0.2059 - accuracy: 0.9431 - val_loss: 0.2030 - val_accuracy: 0.9419\n",
      "Epoch 36/50\n",
      "3/3 [==============================] - 0s 108ms/step - loss: 0.2154 - accuracy: 0.9384 - val_loss: 0.2250 - val_accuracy: 0.9340\n",
      "Epoch 37/50\n",
      "3/3 [==============================] - 0s 112ms/step - loss: 0.2181 - accuracy: 0.9370 - val_loss: 0.2008 - val_accuracy: 0.9420\n",
      "Epoch 38/50\n",
      "3/3 [==============================] - 0s 110ms/step - loss: 0.1997 - accuracy: 0.9438 - val_loss: 0.1944 - val_accuracy: 0.9447\n",
      "Epoch 39/50\n",
      "3/3 [==============================] - 0s 106ms/step - loss: 0.1940 - accuracy: 0.9460 - val_loss: 0.1921 - val_accuracy: 0.9446\n",
      "Epoch 40/50\n",
      "3/3 [==============================] - 0s 106ms/step - loss: 0.1973 - accuracy: 0.9442 - val_loss: 0.2001 - val_accuracy: 0.9419\n",
      "Epoch 41/50\n",
      "3/3 [==============================] - 0s 117ms/step - loss: 0.2005 - accuracy: 0.9426 - val_loss: 0.1923 - val_accuracy: 0.9438\n",
      "Epoch 42/50\n",
      "3/3 [==============================] - 0s 106ms/step - loss: 0.1890 - accuracy: 0.9472 - val_loss: 0.1820 - val_accuracy: 0.9479\n",
      "Epoch 43/50\n",
      "3/3 [==============================] - 0s 104ms/step - loss: 0.1829 - accuracy: 0.9489 - val_loss: 0.1792 - val_accuracy: 0.9482\n",
      "Epoch 44/50\n",
      "3/3 [==============================] - 0s 105ms/step - loss: 0.1803 - accuracy: 0.9495 - val_loss: 0.1798 - val_accuracy: 0.9476\n",
      "Epoch 45/50\n",
      "3/3 [==============================] - 0s 118ms/step - loss: 0.1804 - accuracy: 0.9488 - val_loss: 0.1919 - val_accuracy: 0.9417\n",
      "Epoch 46/50\n",
      "3/3 [==============================] - 0s 108ms/step - loss: 0.1961 - accuracy: 0.9417 - val_loss: 0.1860 - val_accuracy: 0.9449\n",
      "Epoch 47/50\n",
      "3/3 [==============================] - 0s 105ms/step - loss: 0.1761 - accuracy: 0.9502 - val_loss: 0.1692 - val_accuracy: 0.9517\n",
      "Epoch 48/50\n",
      "3/3 [==============================] - 0s 113ms/step - loss: 0.1701 - accuracy: 0.9527 - val_loss: 0.1722 - val_accuracy: 0.9500\n",
      "Epoch 49/50\n",
      "3/3 [==============================] - 0s 108ms/step - loss: 0.1672 - accuracy: 0.9531 - val_loss: 0.1630 - val_accuracy: 0.9538\n",
      "Epoch 50/50\n",
      "3/3 [==============================] - 0s 105ms/step - loss: 0.1631 - accuracy: 0.9541 - val_loss: 0.1708 - val_accuracy: 0.9518\n"
     ]
    }
   ],
   "source": [
    "history = model.fit(x_train, y_train,\n",
    "                    batch_size=batch_size,\n",
    "                    epochs=50,\n",
    "                    verbose=1,\n",
    "                    validation_data=(x_test, y_test))"
   ]
  },
  {
   "cell_type": "markdown",
   "metadata": {
    "id": "59yzdghjUYz-"
   },
   "source": [
    "**Evaluate the model**"
   ]
  },
  {
   "cell_type": "code",
   "execution_count": null,
   "metadata": {
    "colab": {
     "base_uri": "https://localhost:8080/"
    },
    "executionInfo": {
     "elapsed": 697,
     "status": "ok",
     "timestamp": 1647182108503,
     "user": {
      "displayName": "Guray Erus",
      "photoUrl": "https://lh3.googleusercontent.com/a-/AOh14GiGnBNnSM10DAl86Xzx2wV9MnzBNDvcAv6FeVBn=s64",
      "userId": "15374812584437350386"
     },
     "user_tz": 240
    },
    "id": "i1rvdGORa0fI",
    "outputId": "7d4774fb-4cf0-4d38-8c30-f5a2d8634f87"
   },
   "outputs": [
    {
     "name": "stdout",
     "output_type": "stream",
     "text": [
      "Test loss: 0.17084167897701263\n",
      "Test accuracy: 0.9517999887466431\n"
     ]
    }
   ],
   "source": [
    "score = model.evaluate(x_test, y_test, verbose=0)\n",
    "print('Test loss:', score[0])\n",
    "print('Test accuracy:', score[1])"
   ]
  },
  {
   "cell_type": "code",
   "execution_count": null,
   "metadata": {
    "collapsed": false
   },
   "outputs": [],
   "source": []
  }
 ],
 "metadata": {
  "colab": {
   "authorship_tag": "ABX9TyOjmhwKJFplPfXCpru6HkZf",
   "collapsed_sections": [],
   "name": "DL_Basics1_SimpleMLP.ipynb",
   "provenance": [],
   "toc_visible": true
  },
  "kernelspec": {
   "display_name": "Python 3",
   "language": "python",
   "name": "python3"
  },
  "language_info": {
   "codemirror_mode": {
    "name": "ipython",
    "version": 3
   },
   "file_extension": ".py",
   "mimetype": "text/x-python",
   "name": "python",
   "nbconvert_exporter": "python",
   "pygments_lexer": "ipython3",
   "version": "3.9.16"
  },
  "vscode": {
   "interpreter": {
    "hash": "cae791b0897253807826c8dabb80cf411e4ef7ac7684cbfb5c0474718ac821d6"
   }
  }
 },
 "nbformat": 4,
 "nbformat_minor": 0
}
