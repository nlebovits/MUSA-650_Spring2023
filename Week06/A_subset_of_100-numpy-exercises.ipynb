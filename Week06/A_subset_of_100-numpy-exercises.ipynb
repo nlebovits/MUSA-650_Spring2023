{
 "cells": [
  {
   "cell_type": "markdown",
   "metadata": {
    "_uuid": "7dac2651304bbdd274a99291c17f3be1e84c222b"
   },
   "source": [
    "## Adapted from :\n",
    "\n",
    "### 100 numpy exercises\n",
    "\n",
    "This is a collection of exercises that have been collected in the numpy mailing list, on stack overflow and in the numpy documentation. The goal of this collection is to offer a quick reference for both old and new users but also to provide a set of exercises for those who teach.\n",
    "\n",
    "\n",
    "If you find an error or think you've a better way to solve some of them, feel free to open an issue at <https://github.com/rougier/numpy-100>"
   ]
  },
  {
   "cell_type": "markdown",
   "metadata": {
    "_uuid": "bf7265d79ded8d1b32c6ac6cf2ba89d6eba96461"
   },
   "source": [
    "#### 1. Import the numpy package under the name `np` (★☆☆)"
   ]
  },
  {
   "cell_type": "code",
   "execution_count": 2,
   "metadata": {
    "_uuid": "1f42e0ab79d92a23b119e23ab8dda63393447466",
    "collapsed": true,
    "jupyter": {
     "outputs_hidden": true
    }
   },
   "outputs": [],
   "source": [
    "import numpy as np"
   ]
  },
  {
   "cell_type": "markdown",
   "metadata": {
    "_uuid": "2a9c567c3500905ffd716f33d72f2ce455931c6b"
   },
   "source": [
    "#### 2. Print the numpy version and the configuration (★☆☆)"
   ]
  },
  {
   "cell_type": "code",
   "execution_count": 2,
   "metadata": {
    "_uuid": "f92ca9022729c7247a92da557f1898051c1bf21d"
   },
   "outputs": [
    {
     "name": "stdout",
     "output_type": "stream",
     "text": [
      "1.24.1\n",
      "blas_info:\n",
      "    libraries = ['cblas', 'blas', 'cblas', 'blas', 'cblas', 'blas']\n",
      "    library_dirs = ['C:/Users/Nissim/anaconda3/envs/musa-650\\\\Library\\\\lib']\n",
      "    include_dirs = ['C:/Users/Nissim/anaconda3/envs/musa-650\\\\Library\\\\include']\n",
      "    language = f77\n",
      "    define_macros = [('HAVE_CBLAS', None)]\n",
      "blas_opt_info:\n",
      "    define_macros = [('NO_ATLAS_INFO', 1), ('HAVE_CBLAS', None)]\n",
      "    libraries = ['cblas', 'blas', 'cblas', 'blas', 'cblas', 'blas']\n",
      "    library_dirs = ['C:/Users/Nissim/anaconda3/envs/musa-650\\\\Library\\\\lib']\n",
      "    include_dirs = ['C:/Users/Nissim/anaconda3/envs/musa-650\\\\Library\\\\include']\n",
      "    language = f77\n",
      "lapack_info:\n",
      "    libraries = ['lapack', 'blas', 'lapack', 'blas']\n",
      "    library_dirs = ['C:/Users/Nissim/anaconda3/envs/musa-650\\\\Library\\\\lib']\n",
      "    language = f77\n",
      "lapack_opt_info:\n",
      "    libraries = ['lapack', 'blas', 'lapack', 'blas', 'cblas', 'blas', 'cblas', 'blas', 'cblas', 'blas']\n",
      "    library_dirs = ['C:/Users/Nissim/anaconda3/envs/musa-650\\\\Library\\\\lib']\n",
      "    language = f77\n",
      "    define_macros = [('NO_ATLAS_INFO', 1), ('HAVE_CBLAS', None)]\n",
      "    include_dirs = ['C:/Users/Nissim/anaconda3/envs/musa-650\\\\Library\\\\include']\n",
      "Supported SIMD extensions in this NumPy install:\n",
      "    baseline = SSE,SSE2,SSE3\n",
      "    found = SSSE3,SSE41,POPCNT,SSE42,AVX,F16C,FMA3,AVX2\n",
      "    not found = AVX512F,AVX512CD,AVX512_SKX,AVX512_CLX,AVX512_CNL,AVX512_ICL\n"
     ]
    }
   ],
   "source": [
    "# print numpy version and configuration\n",
    "print(np.__version__)\n",
    "np.show_config()"
   ]
  },
  {
   "cell_type": "markdown",
   "metadata": {
    "_uuid": "77978f9afb5f957440f180861ccb06c2f644c317"
   },
   "source": [
    "#### 3. Create a null vector of size 10 (★☆☆)"
   ]
  },
  {
   "cell_type": "code",
   "execution_count": 3,
   "metadata": {
    "_uuid": "beeb301d90b0fd6cb0f015969c969870bee981e8"
   },
   "outputs": [
    {
     "name": "stdout",
     "output_type": "stream",
     "text": [
      "[0. 0. 0. 0. 0. 0. 0. 0. 0. 0.]\n"
     ]
    }
   ],
   "source": [
    "# create a null vector of size 10\n",
    "Z = np.zeros(10)\n",
    "print(Z)"
   ]
  },
  {
   "cell_type": "markdown",
   "metadata": {
    "_uuid": "c75ba6ea73f0a23f837c1553a0f564fbb8748557"
   },
   "source": [
    "#### 6.  Create a null vector of size 10 but the fifth value which is 1 (★☆☆)"
   ]
  },
  {
   "cell_type": "code",
   "execution_count": 4,
   "metadata": {
    "_uuid": "a916d1332f7e1d7499fd9de3bb422651711df025"
   },
   "outputs": [
    {
     "name": "stdout",
     "output_type": "stream",
     "text": [
      "[0. 0. 0. 0. 1. 0. 0. 0. 0. 0.]\n"
     ]
    }
   ],
   "source": [
    "Z = np.zeros(10)\n",
    "Z[4] = 1\n",
    "print(Z)"
   ]
  },
  {
   "cell_type": "markdown",
   "metadata": {
    "_uuid": "118478fd9f22dc99584c1517078f1cdd4a4b36fc"
   },
   "source": [
    "#### 7.  Create a vector with values ranging from 10 to 49 (★☆☆)"
   ]
  },
  {
   "cell_type": "code",
   "execution_count": 5,
   "metadata": {
    "_uuid": "ac7cbc58129168a298298ae6d3a756a2a94c2a5d"
   },
   "outputs": [
    {
     "name": "stdout",
     "output_type": "stream",
     "text": [
      "[10 11 12 13 14 15 16 17 18 19 20 21 22 23 24 25 26 27 28 29 30 31 32 33\n",
      " 34 35 36 37 38 39 40 41 42 43 44 45 46 47 48 49]\n"
     ]
    }
   ],
   "source": [
    "Y = np.array(range(10, 50))\n",
    "print(Y)"
   ]
  },
  {
   "cell_type": "markdown",
   "metadata": {
    "_uuid": "1c153cfc18b4c413b602d9fa073a4c049f1e703b"
   },
   "source": [
    "#### 8.  Reverse a vector (first element becomes last) (★☆☆)"
   ]
  },
  {
   "cell_type": "code",
   "execution_count": 7,
   "metadata": {
    "_uuid": "f1498235d2137116b1a7fabc6626dc8549235aba"
   },
   "outputs": [
    {
     "name": "stdout",
     "output_type": "stream",
     "text": [
      "[49 48 47 46 45 44 43 42 41 40 39 38 37 36 35 34 33 32 31 30 29 28 27 26\n",
      " 25 24 23 22 21 20 19 18 17 16 15 14 13 12 11 10]\n"
     ]
    }
   ],
   "source": [
    "# reverse Y\n",
    "Y = Y[::-1]\n",
    "print (Y)"
   ]
  },
  {
   "cell_type": "markdown",
   "metadata": {
    "_uuid": "647011edcdd237ef4bfa0ec4ce3a108805bbd11f"
   },
   "source": [
    "#### 9.  Create a 3x3 matrix with values ranging from 0 to 8 (★☆☆)"
   ]
  },
  {
   "cell_type": "code",
   "execution_count": 9,
   "metadata": {
    "_uuid": "d6bf86992dbc3539332876b2caf973bafdb9a790"
   },
   "outputs": [
    {
     "name": "stdout",
     "output_type": "stream",
     "text": [
      "[[0 1 2]\n",
      " [3 4 5]\n",
      " [6 7 8]]\n"
     ]
    }
   ],
   "source": [
    "X = np.arange(9).reshape(3,3)\n",
    "print(X)"
   ]
  },
  {
   "cell_type": "markdown",
   "metadata": {
    "_uuid": "c7d5733bee779737b5ad4250b257d0a1423ffbff"
   },
   "source": [
    "#### 10. Find indices of non-zero elements from \\[1,2,0,0,4,0\\] (★☆☆)"
   ]
  },
  {
   "cell_type": "code",
   "execution_count": 10,
   "metadata": {
    "_uuid": "e6e0544a4326eaf8f3ea6390a16422a9844d48fc"
   },
   "outputs": [
    {
     "name": "stdout",
     "output_type": "stream",
     "text": [
      "(array([0, 1, 4], dtype=int64),)\n"
     ]
    }
   ],
   "source": [
    "W = np.nonzero([1,2,0,0,4,0])\n",
    "print(W)"
   ]
  },
  {
   "cell_type": "markdown",
   "metadata": {
    "_uuid": "ab5c1aaf0377ab923c6dbb7452671c181544734a"
   },
   "source": [
    "#### 11. Create a 3x3 identity matrix (★☆☆)"
   ]
  },
  {
   "cell_type": "code",
   "execution_count": 16,
   "metadata": {
    "_uuid": "0e10bd7b228cff4c485d80142fa5afcea12eb0e1"
   },
   "outputs": [
    {
     "name": "stdout",
     "output_type": "stream",
     "text": [
      "[[1. 0. 0.]\n",
      " [0. 1. 0.]\n",
      " [0. 0. 1.]]\n"
     ]
    }
   ],
   "source": [
    "U = np.eye(3)\n",
    "print(U)"
   ]
  },
  {
   "cell_type": "markdown",
   "metadata": {
    "_uuid": "9c3d53fd277d07937bc04838c4ca57a0aaaec498"
   },
   "source": [
    "#### 12. Create a 3x3x3 array with random values (★☆☆)"
   ]
  },
  {
   "cell_type": "code",
   "execution_count": 17,
   "metadata": {
    "_uuid": "77840458ba47b330dd84bab7a119e85299856c57",
    "collapsed": true,
    "jupyter": {
     "outputs_hidden": true
    }
   },
   "outputs": [
    {
     "name": "stdout",
     "output_type": "stream",
     "text": [
      "[[[0.79425622 0.20671536 0.96254291]\n",
      "  [0.80596938 0.9798819  0.13425795]\n",
      "  [0.56538632 0.51054689 0.87648388]]\n",
      "\n",
      " [[0.96997612 0.62108922 0.65417215]\n",
      "  [0.95724049 0.42479792 0.16861526]\n",
      "  [0.62640486 0.09084113 0.09492777]]\n",
      "\n",
      " [[0.18074025 0.4803085  0.02525625]\n",
      "  [0.71913366 0.25904305 0.147534  ]\n",
      "  [0.09163693 0.5880381  0.90509758]]]\n"
     ]
    }
   ],
   "source": [
    "V = np.random.random((3,3,3))\n",
    "print(V)"
   ]
  },
  {
   "cell_type": "markdown",
   "metadata": {
    "_uuid": "886bef95cd1aa9af4133902b45b50127b5da54cb"
   },
   "source": [
    "#### 13. Create a 10x10 array with random values and find the minimum and maximum values (★☆☆)"
   ]
  },
  {
   "cell_type": "code",
   "execution_count": 20,
   "metadata": {
    "_uuid": "a8c13dc011c6afb824c3a7031330b6bd1a77e497"
   },
   "outputs": [
    {
     "name": "stdout",
     "output_type": "stream",
     "text": [
      "0.01337416197231256 0.9980317282995931\n"
     ]
    }
   ],
   "source": [
    "V1 = np.random.random((10,10))\n",
    "Vmin, Vmax = V1.min(), V1.max()\n",
    "print(Vmin, Vmax)"
   ]
  },
  {
   "cell_type": "markdown",
   "metadata": {
    "_uuid": "07db1e47dcff92113a6d4c696e92a5578b20d89f"
   },
   "source": [
    "#### 14. Create a random vector of size 30 and find the mean value (★☆☆)"
   ]
  },
  {
   "cell_type": "code",
   "execution_count": 21,
   "metadata": {
    "_uuid": "a6533f70b28d583e6e1926a0e3e668b465d6ef6c"
   },
   "outputs": [
    {
     "name": "stdout",
     "output_type": "stream",
     "text": [
      "0.5835302206899527\n"
     ]
    }
   ],
   "source": [
    "V2 = np.random.random(30)\n",
    "Vmean = V2.mean()\n",
    "print(Vmean)"
   ]
  },
  {
   "cell_type": "markdown",
   "metadata": {
    "_uuid": "2234dffb1dffc779d1d24f269da232a560848ad0"
   },
   "source": [
    "#### 15. Create a 2d array with 1 on the border and 0 inside (★☆☆)"
   ]
  },
  {
   "cell_type": "code",
   "execution_count": 24,
   "metadata": {
    "_uuid": "03bef7c11ab2593768ce88331a92c0c7cc10d463"
   },
   "outputs": [
    {
     "name": "stdout",
     "output_type": "stream",
     "text": [
      "[[1. 1. 1. 1. 1. 1. 1. 1. 1. 1.]\n",
      " [1. 0. 0. 0. 0. 0. 0. 0. 0. 1.]\n",
      " [1. 0. 0. 0. 0. 0. 0. 0. 0. 1.]\n",
      " [1. 0. 0. 0. 0. 0. 0. 0. 0. 1.]\n",
      " [1. 0. 0. 0. 0. 0. 0. 0. 0. 1.]\n",
      " [1. 0. 0. 0. 0. 0. 0. 0. 0. 1.]\n",
      " [1. 0. 0. 0. 0. 0. 0. 0. 0. 1.]\n",
      " [1. 0. 0. 0. 0. 0. 0. 0. 0. 1.]\n",
      " [1. 0. 0. 0. 0. 0. 0. 0. 0. 1.]\n",
      " [1. 1. 1. 1. 1. 1. 1. 1. 1. 1.]]\n"
     ]
    }
   ],
   "source": [
    "V2 = np.ones((10, 10))\n",
    "V2[1:-1, 1:-1] = 0\n",
    "print(V2)"
   ]
  },
  {
   "cell_type": "markdown",
   "metadata": {
    "_uuid": "6e24eff853c1ead319eba0adf0efdf31a58c6944"
   },
   "source": [
    "#### 16. How to add a border (filled with 0's) around an existing array? (★☆☆)"
   ]
  },
  {
   "cell_type": "code",
   "execution_count": 38,
   "metadata": {
    "_uuid": "573dd1238aef49fed4a9cfeb645c09119a307916"
   },
   "outputs": [
    {
     "name": "stdout",
     "output_type": "stream",
     "text": [
      "[[ 0  0  0  0  0  0]\n",
      " [ 0  0  1  2  3  0]\n",
      " [ 0  4  5  6  7  0]\n",
      " [ 0  8  9 10 11  0]\n",
      " [ 0  0  0  0  0  0]]\n"
     ]
    }
   ],
   "source": [
    "V3 = np.arange(12).reshape(3,4)\n",
    "\n",
    "# Add a border of 0s to the array\n",
    "V3 = np.pad(V3, pad_width=1, mode='constant', constant_values=0)\n",
    "\n",
    "print(V3)"
   ]
  },
  {
   "cell_type": "markdown",
   "metadata": {
    "_uuid": "e22023622e0ec70b97ca378772dae42cff45d73c"
   },
   "source": [
    "#### 18. Create a 5x5 matrix with values 1,2,3,4 just below the diagonal (★☆☆)"
   ]
  },
  {
   "cell_type": "code",
   "execution_count": 6,
   "metadata": {
    "_uuid": "f1aaa690119ec31eb516c96023250ff10f2800be"
   },
   "outputs": [
    {
     "name": "stdout",
     "output_type": "stream",
     "text": [
      "[[ 0  1  2  3  4]\n",
      " [ 1  6  7  8  9]\n",
      " [10  2 12 13 14]\n",
      " [15 16  3 18 19]\n",
      " [20 21 22  4 24]]\n"
     ]
    }
   ],
   "source": [
    "V4 = np.arange(25).reshape(5,5)\n",
    "\n",
    "# change the values of V4 based on the indices of the dictionary\n",
    "V4[1,0] = 1\n",
    "V4[2,1] = 2\n",
    "V4[3,2] = 3\n",
    "V4[4,3] = 4\n",
    "\n",
    "print(V4)\n",
    "\n"
   ]
  },
  {
   "attachments": {},
   "cell_type": "markdown",
   "metadata": {},
   "source": [
    "### Bonus: Unrelated (from Guray, in class 2/16): basically, drop the padding on a to return only the middle of the matrix."
   ]
  },
  {
   "cell_type": "code",
   "execution_count": 49,
   "metadata": {},
   "outputs": [
    {
     "name": "stdout",
     "output_type": "stream",
     "text": [
      "[[17 18 19]]\n"
     ]
    }
   ],
   "source": [
    "a = np.arange(35) + 1\n",
    "b = a.reshape([5,7])\n",
    "\n",
    "c = b[1:-1, 1:-1]\n",
    "\n",
    "# could also do this with a margin of 2, etc.\n",
    "\n",
    "d = b[2:-2, 2:-2]\n",
    "\n",
    "print(d)"
   ]
  },
  {
   "cell_type": "code",
   "execution_count": null,
   "metadata": {},
   "outputs": [],
   "source": []
  },
  {
   "cell_type": "markdown",
   "metadata": {
    "_uuid": "2e1e85761e1eafa4cd8986a3aa28763f2b8197e2"
   },
   "source": [
    "#### 19. Create a 8x8 matrix and fill it with a checkerboard pattern (★☆☆)"
   ]
  },
  {
   "cell_type": "code",
   "execution_count": 21,
   "metadata": {
    "_uuid": "467504e8796a218a3faa0a787775d8aa577f4c32"
   },
   "outputs": [
    {
     "name": "stdout",
     "output_type": "stream",
     "text": [
      "[[1. 0. 1. 0. 1. 0. 1. 0.]\n",
      " [1. 0. 1. 0. 1. 0. 1. 0.]\n",
      " [1. 0. 1. 0. 1. 0. 1. 0.]\n",
      " [1. 0. 1. 0. 1. 0. 1. 0.]\n",
      " [1. 0. 1. 0. 1. 0. 1. 0.]\n",
      " [1. 0. 1. 0. 1. 0. 1. 0.]\n",
      " [1. 0. 1. 0. 1. 0. 1. 0.]\n",
      " [1. 0. 1. 0. 1. 0. 1. 0.]]\n"
     ]
    }
   ],
   "source": [
    "e = np.zeros((64))\n",
    "\n",
    "# replace every other element in each row with 1s\n",
    "e[::2] = 1\n",
    "\n",
    "# reshape to 8x8\n",
    "e = e.reshape(8,8)\n",
    "\n",
    "print(e)"
   ]
  },
  {
   "cell_type": "code",
   "execution_count": 22,
   "metadata": {},
   "outputs": [
    {
     "name": "stdout",
     "output_type": "stream",
     "text": [
      "[[1. 0. 1. 0. 1. 0. 1. 0.]\n",
      " [0. 0. 0. 0. 0. 0. 0. 0.]\n",
      " [1. 0. 1. 0. 1. 0. 1. 0.]\n",
      " [0. 0. 0. 0. 0. 0. 0. 0.]\n",
      " [1. 0. 1. 0. 1. 0. 1. 0.]\n",
      " [0. 0. 0. 0. 0. 0. 0. 0.]\n",
      " [1. 0. 1. 0. 1. 0. 1. 0.]\n",
      " [0. 0. 0. 0. 0. 0. 0. 0.]]\n"
     ]
    }
   ],
   "source": [
    "# chatgpt suggests a very similar approach, simplifying the to avoid the reshape\n",
    "e = np.zeros((8, 8))\n",
    "e[::2, ::2] = 1\n",
    "\n",
    "print(e)"
   ]
  },
  {
   "cell_type": "markdown",
   "metadata": {
    "_uuid": "87e644b2696a16879dcf96b35b17a48db550cd04"
   },
   "source": [
    "#### 20. Consider a (6,7,8) shape array, what is the index (x,y,z) of the 100th element?"
   ]
  },
  {
   "cell_type": "code",
   "execution_count": 28,
   "metadata": {
    "_uuid": "eabdb2c5e23366c763f0cc39939ee68866c3f111"
   },
   "outputs": [
    {
     "name": "stdout",
     "output_type": "stream",
     "text": [
      "(1, 4, 1)\n"
     ]
    }
   ],
   "source": [
    "empt = np.zeros((6, 7, 9))\n",
    "\n",
    "# return the indices of the 100th element\n",
    "print(np.unravel_index(100, empt.shape))"
   ]
  },
  {
   "cell_type": "markdown",
   "metadata": {
    "_uuid": "87fb9e8995db8ee27d3c209c840f3f2c6acb9bc5"
   },
   "source": [
    "#### 22. Normalize a 5x5 random matrix (★☆☆)"
   ]
  },
  {
   "cell_type": "code",
   "execution_count": 30,
   "metadata": {
    "_uuid": "70b01b18cef5e31ffcc4c0219859e607e7a6d998"
   },
   "outputs": [
    {
     "name": "stdout",
     "output_type": "stream",
     "text": [
      "[[0.41658695 0.6496121  0.99200682 0.63803266 0.50745349]\n",
      " [0.68632881 0.80349038 0.2377877  0.         0.21730831]\n",
      " [0.56172314 0.03990318 0.98650976 0.18485416 0.18645774]\n",
      " [0.04528687 0.65307229 0.6506439  0.49860117 0.25598477]\n",
      " [0.16201007 0.36897068 1.         0.95215251 0.36549248]]\n"
     ]
    }
   ],
   "source": [
    "# generate f, a 5x5 array with random values\n",
    "f = np.random.random((5,5))\n",
    "\n",
    "# normalize f\n",
    "# note that this is min-max normalization, which causes the values to fall between 0 and 1\n",
    "# other normalization methods are available, such as standardization, which causes the values to fall between -1 and 1\n",
    "# and also z-score normalization, which causes the values to fall between -3 and 3, with a mean of 0 and a standard deviation of 1\n",
    "fmax, fmin = f.max(), f.min()\n",
    "\n",
    "f = (f - fmin)/(fmax - fmin)\n",
    "\n",
    "print(f)"
   ]
  },
  {
   "cell_type": "markdown",
   "metadata": {
    "_uuid": "659926bf5bf80842361a658fd0f84bf24084fbf3"
   },
   "source": [
    "#### 24. Multiply a 5x3 matrix by a 3x2 matrix (real matrix product) (★☆☆)"
   ]
  },
  {
   "cell_type": "code",
   "execution_count": 31,
   "metadata": {
    "_uuid": "8be73ba1bd9778d487ac20ef5658c7b8e57c3d67"
   },
   "outputs": [
    {
     "name": "stdout",
     "output_type": "stream",
     "text": [
      "[[5 3 1]\n",
      " [4 8 1]\n",
      " [8 1 3]\n",
      " [8 0 8]\n",
      " [0 0 9]]\n",
      "[[8 9]\n",
      " [8 4]\n",
      " [1 0]]\n",
      "[[65 57]\n",
      " [97 68]\n",
      " [75 76]\n",
      " [72 72]\n",
      " [ 9  0]]\n"
     ]
    }
   ],
   "source": [
    "# g is a 5x3 array of random integers\n",
    "g = np.random.randint(0, 10, (5,3))\n",
    "\n",
    "h = np.random.randint(0, 10, (3,2))\n",
    "\n",
    "# multiply g and h\n",
    "i = np.dot(g, h)\n",
    "\n",
    "print(g)\n",
    "print(h)\n",
    "print(i)"
   ]
  },
  {
   "cell_type": "markdown",
   "metadata": {
    "_uuid": "0a65567844ac53a18dbb387a8694da2b1c78294a"
   },
   "source": [
    "#### 25. Given a 1D array, negate all elements which are between 3 and 8, in place. (★☆☆)"
   ]
  },
  {
   "cell_type": "code",
   "execution_count": 40,
   "metadata": {
    "_uuid": "d48512adb16f06371f651dd8dc1ae9ea1c3586b1"
   },
   "outputs": [
    {
     "name": "stdout",
     "output_type": "stream",
     "text": [
      "[[8 4 3 9 2 1 7 8 3 7]]\n",
      "[[ 8 -4  3  9  2  1 -7  8  3 -7]]\n"
     ]
    }
   ],
   "source": [
    "j = np.random.randint(0, 10, (1, 10))\n",
    "\n",
    "print(j)\n",
    "\n",
    "# the following is wrong because the syntax is incorrect:\n",
    "#j[j > 3 & < 8]  = -j\n",
    "\n",
    "# according to chatgpt, I can accomplish this with a mask like so:\n",
    "mask = (j > 3) & (j < 8)\n",
    "j[mask] = -j[mask]\n",
    "\n",
    "print(j)"
   ]
  },
  {
   "cell_type": "markdown",
   "metadata": {
    "_uuid": "dad4e194cbf30833bbc7dba6714e300239088610"
   },
   "source": [
    "#### 26. What is the output of the following script? (★☆☆)"
   ]
  },
  {
   "attachments": {},
   "cell_type": "markdown",
   "metadata": {},
   "source": [
    "In the latter case, we are calling `sum` from the `numpy` module. As a result, the function is applied along the -1 axis. Since it's a 1D array, the result is simply the sum of the range from 0 to (but not including) 5. The result is 10. \n",
    "\n",
    "On the other hand, in the former case, we are calling the built-in `sum` function. As a result, Python adds the sum of `range(5)` to -1, i.e., 10 + (-1) = 9.\n",
    "\n",
    "(thanks, chatgpt)"
   ]
  },
  {
   "cell_type": "code",
   "execution_count": 44,
   "metadata": {
    "_uuid": "094e225f24cf70ad8c7caeb1dcbd6788e5af562a"
   },
   "outputs": [
    {
     "name": "stdout",
     "output_type": "stream",
     "text": [
      "10\n",
      "10\n"
     ]
    }
   ],
   "source": [
    "# Author: Jake VanderPlas\n",
    "\n",
    "print(sum(range(5),-1))\n",
    "from numpy import *\n",
    "print(sum(range(5),-1))"
   ]
  },
  {
   "cell_type": "code",
   "execution_count": 43,
   "metadata": {},
   "outputs": [
    {
     "name": "stdout",
     "output_type": "stream",
     "text": [
      "range(0, 5)\n"
     ]
    }
   ],
   "source": [
    "print(range(5))"
   ]
  },
  {
   "cell_type": "markdown",
   "metadata": {
    "_uuid": "c13814936adf93d11212e3e85e67a37e48b1fd72"
   },
   "source": [
    "#### 27. Consider an integer vector Z, which of these expressions are legal? (★☆☆)"
   ]
  },
  {
   "attachments": {},
   "cell_type": "markdown",
   "metadata": {},
   "source": [
    "According to ChatGPT:\n",
    "\n",
    "The following expressions are legal for an integer vector Z in Python:\n",
    "\n",
    "    Z**Z: This expression raises each element of the vector to the power of itself. For example, if Z = [2, 3, 4], then Z**Z would be [4, 27, 256].\n",
    "\n",
    "    2 << Z >> 2: This expression performs a bit shift operation on each element of the vector. Specifically, it shifts the binary representation of each element 2 bits to the left, and then 2 bits to the right. For example, if Z = [2, 3, 4], then 2 << Z >> 2 would be [2, 4, 8].\n",
    "\n",
    "    Z <- Z: This expression performs an element-wise comparison between Z and -Z (i.e., the negation of Z). It returns a boolean vector with True values where the corresponding elements in Z are less than the corresponding elements in -Z, and False otherwise.\n",
    "\n",
    "    1j*Z: This expression multiplies each element of the vector by the imaginary unit j (which represents the square root of -1 in Python). For example, if Z = [2, 3, 4], then 1j*Z would be [2j, 3j, 4j].\n",
    "\n",
    "    Z/1/1: This expression performs integer division on each element of the vector, effectively returning a copy of Z with the same values. For example, if Z = [2, 3, 4], then Z/1/1 would be [2, 3, 4].\n",
    "\n",
    "This expression is NOT legal:\n",
    "\n",
    "    Z<Z>Z: This expression is not legal in Python, and will result in a SyntaxError. The expression is ambiguous and cannot be parsed by the Python interpreter. If you want to compare whether each element in Z is strictly between the corresponding elements in another vector W, you can use the expression W > Z and Z > W."
   ]
  },
  {
   "cell_type": "code",
   "execution_count": 47,
   "metadata": {
    "_uuid": "2d41e8fd1c2a4970ea55fcf50524a01e083d7f01"
   },
   "outputs": [
    {
     "ename": "NameError",
     "evalue": "name 'Z' is not defined",
     "output_type": "error",
     "traceback": [
      "\u001b[1;31m---------------------------------------------------------------------------\u001b[0m",
      "\u001b[1;31mNameError\u001b[0m                                 Traceback (most recent call last)",
      "Cell \u001b[1;32mIn[47], line 1\u001b[0m\n\u001b[1;32m----> 1\u001b[0m Z\u001b[39m*\u001b[39m\u001b[39m*\u001b[39mZ \u001b[39m# legal\u001b[39;00m\n\u001b[0;32m      2\u001b[0m \u001b[39m2\u001b[39m \u001b[39m<<\u001b[39m Z \u001b[39m>>\u001b[39m \u001b[39m2\u001b[39m \u001b[39m# legal\u001b[39;00m\n\u001b[0;32m      3\u001b[0m Z \u001b[39m<\u001b[39m\u001b[39m-\u001b[39m Z \u001b[39m# legal\u001b[39;00m\n",
      "\u001b[1;31mNameError\u001b[0m: name 'Z' is not defined"
     ]
    }
   ],
   "source": [
    "Z**Z # legal\n",
    "2 << Z >> 2 # legal\n",
    "Z <- Z # legal--yo, this is sneaky. it looks just like assignment in R but it isn't\n",
    "1j*Z # legal\n",
    "Z/1/1 # legal\n",
    "Z<Z>Z # illegal"
   ]
  },
  {
   "cell_type": "markdown",
   "metadata": {
    "_uuid": "87cfa6cec4f5f3efa4d92b7d01be3e15e92eb8d9"
   },
   "source": [
    "#### 28. What are the result of the following expressions?"
   ]
  },
  {
   "cell_type": "code",
   "execution_count": 48,
   "metadata": {
    "_uuid": "8b9ea83b2b3a14de49b957a490ded427b2fdf473"
   },
   "outputs": [
    {
     "name": "stdout",
     "output_type": "stream",
     "text": [
      "nan\n",
      "0\n",
      "[-2.14748365e+09]\n"
     ]
    },
    {
     "name": "stderr",
     "output_type": "stream",
     "text": [
      "C:\\Users\\Nissim\\AppData\\Local\\Temp\\ipykernel_45744\\3912170336.py:1: RuntimeWarning: invalid value encountered in divide\n",
      "  print(np.array(0) / np.array(0))\n",
      "C:\\Users\\Nissim\\AppData\\Local\\Temp\\ipykernel_45744\\3912170336.py:2: RuntimeWarning: divide by zero encountered in floor_divide\n",
      "  print(np.array(0) // np.array(0))\n",
      "C:\\Users\\Nissim\\AppData\\Local\\Temp\\ipykernel_45744\\3912170336.py:3: RuntimeWarning: invalid value encountered in cast\n",
      "  print(np.array([np.nan]).astype(int).astype(float))\n"
     ]
    }
   ],
   "source": [
    "print(np.array(0) / np.array(0))\n",
    "print(np.array(0) // np.array(0))\n",
    "print(np.array([np.nan]).astype(int).astype(float))"
   ]
  },
  {
   "cell_type": "markdown",
   "metadata": {
    "_uuid": "748fc33413222da461b2aac2a9fcabff3e18e057"
   },
   "source": [
    "#### 29. How to round away from zero a float array ? (★☆☆)"
   ]
  },
  {
   "cell_type": "code",
   "execution_count": null,
   "metadata": {
    "_uuid": "b9e1b1bef8f15c72cc7ce5e2ce14def4a98ed41c"
   },
   "outputs": [],
   "source": []
  },
  {
   "cell_type": "markdown",
   "metadata": {
    "_uuid": "e49ca0d2249b4a5cf25b264e42c6feb3057889ed"
   },
   "source": [
    "#### 30. How to find common values between two arrays? (★☆☆)"
   ]
  },
  {
   "attachments": {},
   "cell_type": "markdown",
   "metadata": {},
   "source": [
    "We can use the `intersect1d` function from NumPy: https://numpy.org/doc/stable/reference/generated/numpy.intersect1d.html"
   ]
  },
  {
   "cell_type": "code",
   "execution_count": 51,
   "metadata": {
    "_uuid": "b7a1b2802e4c4a2ac5baf737e2065c55bef226b6"
   },
   "outputs": [
    {
     "name": "stdout",
     "output_type": "stream",
     "text": [
      "[ 7 18 22 42 44 48]\n"
     ]
    }
   ],
   "source": [
    "k = np.random.randint(1, 50, (5,5))\n",
    "l = np.random.randint(1, 50, (5,5))\n",
    "\n",
    "common_vals = np.intersect1d(k, l, return_indices=False)\n",
    "\n",
    "print(common_vals)"
   ]
  },
  {
   "cell_type": "markdown",
   "metadata": {
    "_uuid": "861564e1209df602ba9acf76b21764166d941f64"
   },
   "source": [
    "#### 36. Extract the integer part of a random array using 5 different methods (★★☆)"
   ]
  },
  {
   "cell_type": "code",
   "execution_count": 55,
   "metadata": {
    "_uuid": "26071c39ddc28c65fe06329b480504455890609e"
   },
   "outputs": [
    {
     "name": "stdout",
     "output_type": "stream",
     "text": [
      "[0.74621893 0.83874759 0.14927038 0.6774937  0.3272106 ]\n",
      "[0 0 0 0 0]\n",
      "[0. 0. 0. 0. 0.]\n",
      "[1. 1. 1. 1. 1.]\n",
      "[1. 1. 0. 1. 0.]\n",
      "[0. 0. 0. 0. 0.]\n",
      "[0. 0. 0. 0. 0.]\n"
     ]
    }
   ],
   "source": [
    "m = np.random.random((5))\n",
    "\n",
    "m1 = m.astype(int) # converts m to integers\n",
    "m2 = np.floor(m) # returns the largest integer <= m\n",
    "m3 = np.ceil(m) # returns the smallest integer >= m\n",
    "m4 = np.rint(m) # rounds to the nearest integer\n",
    "m5 = np.trunc(m) # returns the integer part of m\n",
    "m6 = m // 1 # returns the integer part of m by dividing by 1 and returning result w/o remainder\n",
    "\n",
    "ms = [m, m1, m2, m3, m4, m5, m6]\n",
    "\n",
    "for i in ms:\n",
    "    print(i)"
   ]
  },
  {
   "cell_type": "markdown",
   "metadata": {
    "_uuid": "1acff22fb998865b58d5a9b37b0a5ce5b7f13387"
   },
   "source": [
    "#### 37. Create a 5x5 matrix with row values ranging from 0 to 4 (★★☆)"
   ]
  },
  {
   "attachments": {},
   "cell_type": "markdown",
   "metadata": {},
   "source": [
    "From ChatGPT:\n",
    "\n",
    "In this code, we first create a 1D array arr with values ranging from 0 to 4 using np.arange(5). We then use np.tile() function to repeat this array 5 times along the rows to get a 5x5 matrix where all rows have the same values."
   ]
  },
  {
   "cell_type": "code",
   "execution_count": 60,
   "metadata": {
    "_uuid": "728c78dc7d9477e3300f58d589fbbc888df3cecb"
   },
   "outputs": [
    {
     "name": "stdout",
     "output_type": "stream",
     "text": [
      "[0 1 2 3 4]\n",
      "[[0 1 2 3 4]\n",
      " [0 1 2 3 4]\n",
      " [0 1 2 3 4]\n",
      " [0 1 2 3 4]\n",
      " [0 1 2 3 4]]\n"
     ]
    }
   ],
   "source": [
    "import numpy as np\n",
    "\n",
    "# create a 1D array with values ranging from 0 to 4\n",
    "arr = np.arange(5)\n",
    "\n",
    "print(arr)\n",
    "\n",
    "# repeat the array 5 times to get a 5x5 matrix\n",
    "mat = np.tile(arr, (5, 1))\n",
    "\n",
    "print(mat)\n"
   ]
  },
  {
   "cell_type": "markdown",
   "metadata": {
    "_uuid": "c52ceff787ef50f22325107cb5f5b1bfac61858f"
   },
   "source": [
    "#### 39. Create a vector of size 10 with values ranging from 0 to 1, both excluded (★★☆)"
   ]
  },
  {
   "cell_type": "code",
   "execution_count": 64,
   "metadata": {
    "_uuid": "bcdb9a3b3a6a47768f53ea8e25b70070566c87eb"
   },
   "outputs": [
    {
     "name": "stdout",
     "output_type": "stream",
     "text": [
      "[0.09090909 0.18181818 0.27272727 0.36363636 0.45454545 0.54545455\n",
      " 0.63636364 0.72727273 0.81818182 0.90909091]\n"
     ]
    }
   ],
   "source": [
    "# here's chatgpt's solution\n",
    "\n",
    "vec = np.linspace(0, 1, 12)[1:-1] # the [1:-1] slices to exclude the first (0th) and last values of the array\n",
    "\n",
    "print(vec)\n"
   ]
  },
  {
   "cell_type": "markdown",
   "metadata": {
    "_uuid": "34f5d6e2e269678714f1e5aafec8a92d6411ecd3"
   },
   "source": [
    "#### 40. Create a random vector of size 10 and sort it (★★☆)"
   ]
  },
  {
   "cell_type": "code",
   "execution_count": 53,
   "metadata": {
    "_uuid": "650bd640404dd8cfdbeb0d91b8fc5ea844ee60a8"
   },
   "outputs": [
    {
     "name": "stdout",
     "output_type": "stream",
     "text": [
      "[1.31421452 1.81802478 2.09910851 3.02889011 3.35794266 4.83351047\n",
      " 8.61571044 9.28423589 9.64433175 9.71210949]\n"
     ]
    }
   ],
   "source": [
    "q = np.random.uniform(0,10,10)\n",
    "q.sort()\n",
    "\n",
    "print(q)"
   ]
  },
  {
   "cell_type": "markdown",
   "metadata": {
    "_uuid": "0502011982ec9de8f998bdcc76ff2d00dc9bad6e"
   },
   "source": [
    "#### 42. Consider two random array A and B, check if they are equal (★★☆)"
   ]
  },
  {
   "attachments": {},
   "cell_type": "markdown",
   "metadata": {},
   "source": [
    "Note the following (from ChatGPT):"
   ]
  },
  {
   "attachments": {},
   "cell_type": "markdown",
   "metadata": {},
   "source": [
    "> np.array_equal(A, B) and A == B are different in the way they compare two arrays. np.array_equal(A, B) checks if the shape and the elements of the two arrays A and B are equal. It returns True if the arrays have the same shape and the elements are equal (within a tolerance). It is a more strict comparison than the == operator and is often preferred when comparing arrays. On the other hand, A == B checks if the corresponding elements of the two arrays A and B are equal. It returns a boolean array of the same shape as A and B where each element is True if the corresponding elements in A and B are equal, and False otherwise. This comparison does not check the shape of the arrays."
   ]
  },
  {
   "attachments": {},
   "cell_type": "markdown",
   "metadata": {},
   "source": [
    "So basically, A == B simply compares elementwise what's equal and what's not, while np.array_equal(A, B) checks if the shape and the elements of the two arrays A and B are equal."
   ]
  },
  {
   "cell_type": "code",
   "execution_count": 68,
   "metadata": {
    "_uuid": "bc542c3112954260eac0bcf08bc8b0ae2ce0ae33"
   },
   "outputs": [
    {
     "data": {
      "text/plain": [
       "False"
      ]
     },
     "execution_count": 68,
     "metadata": {},
     "output_type": "execute_result"
    }
   ],
   "source": [
    "A = np.random.random(5)\n",
    "B = np.random.random(5)\n",
    "\n",
    "# not this: A == B\n",
    "# but rather,\n",
    "np.array_equal(A, B)"
   ]
  },
  {
   "cell_type": "markdown",
   "metadata": {
    "_uuid": "353f854c6c99f2889b0d31cc69bc1fd7fccd0fe1"
   },
   "source": [
    "#### 45. Create random vector of size 10 and replace the maximum value by 0 (★★☆)"
   ]
  },
  {
   "cell_type": "code",
   "execution_count": 69,
   "metadata": {
    "_uuid": "fd9c6de99887f58497e8880f38b8aab24beaef6a"
   },
   "outputs": [
    {
     "name": "stdout",
     "output_type": "stream",
     "text": [
      "[0.52433296 0.15588688 0.91617242 0.84419664 0.93212799 0.14081788\n",
      " 0.         0.09158753 0.51452601 0.12453846]\n"
     ]
    }
   ],
   "source": [
    "p = np.random.random(10)\n",
    "\n",
    "p[p.argmax()] = 0\n",
    "\n",
    "print(p)"
   ]
  },
  {
   "cell_type": "markdown",
   "metadata": {
    "_uuid": "f7790f5d373c9f35e4407da026b1f432678e6a54"
   },
   "source": [
    "#### 46. Create a structured array with `x` and `y` coordinates covering the \\[0,1\\]x\\[0,1\\] area (★★☆)"
   ]
  },
  {
   "cell_type": "code",
   "execution_count": null,
   "metadata": {
    "_uuid": "d41b7ebb14c22e1a447c4fed771bcc806a2e30b1"
   },
   "outputs": [],
   "source": []
  },
  {
   "cell_type": "markdown",
   "metadata": {
    "_uuid": "879952e7f6a37f63e8ebadf4baa516325eeb60c6"
   },
   "source": [
    "#### 48. Print the minimum and maximum representable value for each numpy scalar type (★★☆)"
   ]
  },
  {
   "cell_type": "code",
   "execution_count": null,
   "metadata": {
    "_uuid": "c0582da4b3a82183e3230a0249e9a07bb9329698"
   },
   "outputs": [],
   "source": []
  },
  {
   "cell_type": "markdown",
   "metadata": {
    "_uuid": "3cd7d90b37471536a03b27117c01d82a1ed1439c"
   },
   "source": [
    "#### 50. How to find the closest value (to a given scalar) in a vector? (★★☆)"
   ]
  },
  {
   "cell_type": "code",
   "execution_count": null,
   "metadata": {
    "_uuid": "2d0087af5d396d4b823122485c006f0e4a8f5b86"
   },
   "outputs": [],
   "source": []
  },
  {
   "cell_type": "markdown",
   "metadata": {
    "_uuid": "ad23d8b28a5016197192b4a6ecdfa61d3c54f49f"
   },
   "source": [
    "#### 58. Subtract the mean of each row of a matrix (★★☆)"
   ]
  },
  {
   "cell_type": "code",
   "execution_count": null,
   "metadata": {
    "_uuid": "62937a93af1f4bd2ee201a0a28d92ad2e39aeadf"
   },
   "outputs": [],
   "source": []
  },
  {
   "cell_type": "markdown",
   "metadata": {
    "_uuid": "c446326eba80f10ee44e69c38975a02b76272c66"
   },
   "source": [
    "#### 61. Find the nearest value from a given value in an array (★★☆)"
   ]
  },
  {
   "cell_type": "code",
   "execution_count": null,
   "metadata": {
    "_uuid": "475de3550f77c7407940a0b31eeb5016286445c4"
   },
   "outputs": [],
   "source": []
  }
 ],
 "metadata": {
  "kernelspec": {
   "display_name": "musa-650",
   "language": "python",
   "name": "python3"
  },
  "language_info": {
   "codemirror_mode": {
    "name": "ipython",
    "version": 3
   },
   "file_extension": ".py",
   "mimetype": "text/x-python",
   "name": "python",
   "nbconvert_exporter": "python",
   "pygments_lexer": "ipython3",
   "version": "3.9.15"
  },
  "vscode": {
   "interpreter": {
    "hash": "8e2173e798964650901316fc8c857ca1161f3b416a8b9004e8c0b53030b4692c"
   }
  }
 },
 "nbformat": 4,
 "nbformat_minor": 4
}
